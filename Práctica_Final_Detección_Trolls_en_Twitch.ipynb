{
  "nbformat": 4,
  "nbformat_minor": 0,
  "metadata": {
    "accelerator": "GPU",
    "colab": {
      "name": "Práctica Final - Detección Trolls en Twitch.ipynb",
      "provenance": [],
      "collapsed_sections": [],
      "toc_visible": true
    },
    "kernelspec": {
      "display_name": "Python 3",
      "name": "python3"
    }
  },
  "cells": [
    {
      "cell_type": "markdown",
      "metadata": {
        "id": "Cj8bcxFX85UO"
      },
      "source": [
        "# Práctica Final: detección de mensajes troll en chat de Twitch en tiempo real\n",
        "\n",
        "Durante este último año la plataforma de vídeo en streaming Twitch ha cogido mucha popularidad debido a la situación que hemos vivido debido al COVID-19. Por esto, mucha gente de todas las edades ha empezado a consumir esta plataforma de manera diaria.\n",
        "\n",
        "Como consecuencia, no sólo han aumentado las personas que ven contenido en Twitch, sino también el número de los denominados *trolls*, gente que pone comentarios ofensivos en los chat de los streamers.\n",
        "\n",
        "En esta práctica se desarrollará un sistema autónomo basado en IA y desplegado en GCP que detectará en tiempo real si los mensajes que se envían a un canal de Twitch son de un *troll* o no. La práctica constará de tres partes principales que serán evaluadas en la corrección:\n",
        "1. Entrenamiento e inferencia en Batch de un modelo usando Dataflow y AI Platform. **(3.5 puntos)**.\n",
        "2. Despliegue e inferencia online en microservicio con el modelo. **(3.5 puntos)**.\n",
        "3. Inferencia en streaming de un canal de Twitch con el microservicio anterior. **(3 puntos)**."
      ]
    },
    {
      "cell_type": "markdown",
      "metadata": {
        "id": "hgE9XB8ACVmQ"
      },
      "source": [
        "# Configuración de nuestro proyecto en GCP\n"
      ]
    },
    {
      "cell_type": "code",
      "metadata": {
        "id": "zAorVw7RCT9C",
        "outputId": "27a4eca6-654d-4b75-93c0-30528d33926a",
        "colab": {
          "base_uri": "https://localhost:8080/"
        }
      },
      "source": [
        "PROJECT_ID = \"practica-veronica\" #@param {type:\"string\"}\n",
        "! gcloud config set project $PROJECT_ID"
      ],
      "execution_count": 28,
      "outputs": [
        {
          "output_type": "stream",
          "name": "stdout",
          "text": [
            "Updated property [core/project].\n"
          ]
        }
      ]
    },
    {
      "cell_type": "code",
      "metadata": {
        "id": "hbAl8pSkCXCm"
      },
      "source": [
        "import sys\n",
        "\n",
        "# If you are running this notebook in Colab, run this cell and follow the\n",
        "# instructions to authenticate your GCP account. This provides access to your\n",
        "# Cloud Storage bucket and lets you submit training jobs and prediction\n",
        "# requests.\n",
        "\n",
        "if 'google.colab' in sys.modules:\n",
        "  from google.colab import auth as google_auth\n",
        "  google_auth.authenticate_user()\n",
        "\n",
        "# If you are running this notebook locally, replace the string below with the\n",
        "# path to your service account key and run this cell to authenticate your GCP\n",
        "# account.\n",
        "else:\n",
        "  %env GOOGLE_APPLICATION_CREDENTIALS ''\n"
      ],
      "execution_count": 29,
      "outputs": []
    },
    {
      "cell_type": "code",
      "metadata": {
        "id": "n6Zpx14FCfXy"
      },
      "source": [
        "BUCKET_NAME = \"practica-veronica\" #@param {type:\"string\"}\n",
        "REGION = \"europe-west1\" #@param {type:\"string\"}"
      ],
      "execution_count": 30,
      "outputs": []
    },
    {
      "cell_type": "code",
      "source": [
        "! gsutil mb -l $REGION gs://$BUCKET_NAME"
      ],
      "metadata": {
        "id": "-mm6qQnwOgtF"
      },
      "execution_count": null,
      "outputs": []
    },
    {
      "cell_type": "code",
      "metadata": {
        "id": "lE4V-Xt0ChSb",
        "outputId": "b319f9b2-dcd3-4289-c2e7-a48fee73a406",
        "colab": {
          "base_uri": "https://localhost:8080/"
        }
      },
      "source": [
        "! gsutil ls -al gs://$BUCKET_NAME"
      ],
      "execution_count": 31,
      "outputs": [
        {
          "output_type": "stream",
          "name": "stdout",
          "text": [
            "   2756023  2022-07-10T21:02:20Z  gs://practica-veronica/data.json#1657486940541106  metageneration=1\n",
            "TOTAL: 1 objects, 2756023 bytes (2.63 MiB)\n"
          ]
        }
      ]
    },
    {
      "cell_type": "markdown",
      "metadata": {
        "id": "3D8Qw14y_nRa"
      },
      "source": [
        "# Entrenamiento e inferencia en Batch\n",
        "\n",
        "Para esta primera parte se va a utilizar [Tweets Dataset for Detection of Cyber-Trolls](https://www.kaggle.com/dataturks/dataset-for-detection-of-cybertrolls). El objetivo es desarrollar un clasificador binario para detectar si el mensaje recibido es troll (1) o no (0). **Las métricas obtenidas del entrenamiento y la inferencia no se tendrán en cuenta para la evaluación de la práctica, la importancia está en la arquitectura de la solución**.\n",
        "\n",
        "A continuación os dejo un diagrama con la arquitectura que se va a desarrollar:\n",
        "\n",
        "![batch_diagram](https://drive.google.com/uc?export=view&id=1h1BkIunyKSkJYFRbXKNWpHOZ_rDUyGAT)"
      ]
    },
    {
      "cell_type": "markdown",
      "metadata": {
        "id": "qM_dh-471gIq"
      },
      "source": [
        "A continuación, se van a subir los datos de entrenamiento al bucket del proyecto que se haya creado. **Importante:** crea el bucket en una única región para evitar problemas más adelante."
      ]
    },
    {
      "cell_type": "code",
      "metadata": {
        "id": "Sqp4L_nmUjAc",
        "outputId": "38ce4ad4-bf8c-4054-8e39-cedcfab36c06",
        "colab": {
          "base_uri": "https://localhost:8080/"
        }
      },
      "source": [
        "# Upload data to your bucket\n",
        "! wget https://storage.googleapis.com/twitch-practice-keepcoding/data.json -O - | gsutil cp - gs://$BUCKET_NAME/data.json"
      ],
      "execution_count": 5,
      "outputs": [
        {
          "output_type": "stream",
          "name": "stdout",
          "text": [
            "--2022-07-10 21:02:17--  https://storage.googleapis.com/twitch-practice-keepcoding/data.json\n",
            "Resolving storage.googleapis.com (storage.googleapis.com)... 142.250.73.240, 142.251.45.16, 172.217.2.112, ...\n",
            "Connecting to storage.googleapis.com (storage.googleapis.com)|142.250.73.240|:443... connected.\n",
            "HTTP request sent, awaiting response... 200 OK\n",
            "Length: 2756023 (2.6M) [application/json]\n",
            "Saving to: ‘STDOUT’\n",
            "\n",
            "-                     0%[                    ]       0  --.-KB/s               Copying from <STDIN>...\n",
            "-                   100%[===================>]   2.63M  1.10MB/s    in 2.4s    \n",
            "\n",
            "2022-07-10 21:02:19 (1.10 MB/s) - written to stdout [2756023/2756023]\n",
            "\n",
            "/ [1 files][    0.0 B/    0.0 B]                                                \n",
            "Operation completed over 1 objects.                                              \n"
          ]
        }
      ]
    },
    {
      "cell_type": "markdown",
      "metadata": {
        "id": "vCQQ9j2I11tg"
      },
      "source": [
        "Ahora se crea el directorio dónde vas a desarrollar esta primera parte de la práctica."
      ]
    },
    {
      "cell_type": "code",
      "metadata": {
        "id": "PsblBlJ6RrGm",
        "outputId": "4cec135c-24e2-40ab-f591-51a73348ccf2",
        "colab": {
          "base_uri": "https://localhost:8080/"
        }
      },
      "source": [
        "%mkdir /content/batch"
      ],
      "execution_count": 6,
      "outputs": [
        {
          "output_type": "stream",
          "name": "stdout",
          "text": [
            "mkdir: cannot create directory ‘/content/batch’: File exists\n"
          ]
        }
      ]
    },
    {
      "cell_type": "markdown",
      "metadata": {
        "id": "nyK51quU1_oi"
      },
      "source": [
        "Se establece el directorio de trabajo que hemos creado."
      ]
    },
    {
      "cell_type": "code",
      "metadata": {
        "id": "s7ybSaotRwkP",
        "outputId": "bd6581f8-692b-4f1b-a6da-a6b5a6c9e754",
        "colab": {
          "base_uri": "https://localhost:8080/"
        }
      },
      "source": [
        "import os\n",
        "\n",
        "# Set the working directory to the sample code directory\n",
        "%cd /content/batch\n",
        "\n",
        "WORK_DIR = os.getcwd()"
      ],
      "execution_count": 7,
      "outputs": [
        {
          "output_type": "stream",
          "name": "stdout",
          "text": [
            "/content/batch\n"
          ]
        }
      ]
    },
    {
      "cell_type": "markdown",
      "metadata": {
        "id": "4NSd4bAo2aj_"
      },
      "source": [
        "Ahora se descargarán los datos en el workspace de Colab para trabajar en local."
      ]
    },
    {
      "cell_type": "code",
      "metadata": {
        "id": "qOmUJSg1JCgg",
        "outputId": "a6ab13c3-4eb5-43c5-89e9-2706f50d2631",
        "colab": {
          "base_uri": "https://localhost:8080/"
        }
      },
      "source": [
        "! wget https://storage.googleapis.com/twitch-practice-keepcoding/data.json"
      ],
      "execution_count": 8,
      "outputs": [
        {
          "output_type": "stream",
          "name": "stdout",
          "text": [
            "--2022-07-10 21:02:33--  https://storage.googleapis.com/twitch-practice-keepcoding/data.json\n",
            "Resolving storage.googleapis.com (storage.googleapis.com)... 172.217.2.112, 172.253.62.128, 172.253.115.128, ...\n",
            "Connecting to storage.googleapis.com (storage.googleapis.com)|172.217.2.112|:443... connected.\n",
            "HTTP request sent, awaiting response... 200 OK\n",
            "Length: 2756023 (2.6M) [application/json]\n",
            "Saving to: ‘data.json.1’\n",
            "\n",
            "\rdata.json.1           0%[                    ]       0  --.-KB/s               \rdata.json.1         100%[===================>]   2.63M  --.-KB/s    in 0.01s   \n",
            "\n",
            "2022-07-10 21:02:33 (199 MB/s) - ‘data.json.1’ saved [2756023/2756023]\n",
            "\n"
          ]
        }
      ]
    },
    {
      "cell_type": "code",
      "source": [
        "#Lo leo.\n",
        "import pandas as pd\n",
        "import json\n",
        "df =pd.read_json(\"data.json\", lines=True)"
      ],
      "metadata": {
        "id": "zALGTK4VfscM"
      },
      "execution_count": 9,
      "outputs": []
    },
    {
      "cell_type": "code",
      "source": [
        "#Echo un vistazo a que columnas tiene.\n",
        "df.head()"
      ],
      "metadata": {
        "id": "My7olEf9ftuK",
        "outputId": "ab929095-d4eb-42c9-b75c-4ee92abdfb39",
        "colab": {
          "base_uri": "https://localhost:8080/",
          "height": 206
        }
      },
      "execution_count": 10,
      "outputs": [
        {
          "output_type": "execute_result",
          "data": {
            "text/plain": [
              "                                             content  \\\n",
              "0                             Get fucking real dude.   \n",
              "1   She is as dirty as they come  and that crook ...   \n",
              "2   why did you fuck it up. I could do it all day...   \n",
              "3   Dude they dont finish enclosing the fucking s...   \n",
              "4   WTF are you talking about Men? No men thats n...   \n",
              "\n",
              "                      annotation  extras  \n",
              "0  {'notes': '', 'label': ['1']}     NaN  \n",
              "1  {'notes': '', 'label': ['1']}     NaN  \n",
              "2  {'notes': '', 'label': ['1']}     NaN  \n",
              "3  {'notes': '', 'label': ['1']}     NaN  \n",
              "4  {'notes': '', 'label': ['1']}     NaN  "
            ],
            "text/html": [
              "\n",
              "  <div id=\"df-d4eb73f0-55bc-48dd-ba7a-ed6314d8e08b\">\n",
              "    <div class=\"colab-df-container\">\n",
              "      <div>\n",
              "<style scoped>\n",
              "    .dataframe tbody tr th:only-of-type {\n",
              "        vertical-align: middle;\n",
              "    }\n",
              "\n",
              "    .dataframe tbody tr th {\n",
              "        vertical-align: top;\n",
              "    }\n",
              "\n",
              "    .dataframe thead th {\n",
              "        text-align: right;\n",
              "    }\n",
              "</style>\n",
              "<table border=\"1\" class=\"dataframe\">\n",
              "  <thead>\n",
              "    <tr style=\"text-align: right;\">\n",
              "      <th></th>\n",
              "      <th>content</th>\n",
              "      <th>annotation</th>\n",
              "      <th>extras</th>\n",
              "    </tr>\n",
              "  </thead>\n",
              "  <tbody>\n",
              "    <tr>\n",
              "      <th>0</th>\n",
              "      <td>Get fucking real dude.</td>\n",
              "      <td>{'notes': '', 'label': ['1']}</td>\n",
              "      <td>NaN</td>\n",
              "    </tr>\n",
              "    <tr>\n",
              "      <th>1</th>\n",
              "      <td>She is as dirty as they come  and that crook ...</td>\n",
              "      <td>{'notes': '', 'label': ['1']}</td>\n",
              "      <td>NaN</td>\n",
              "    </tr>\n",
              "    <tr>\n",
              "      <th>2</th>\n",
              "      <td>why did you fuck it up. I could do it all day...</td>\n",
              "      <td>{'notes': '', 'label': ['1']}</td>\n",
              "      <td>NaN</td>\n",
              "    </tr>\n",
              "    <tr>\n",
              "      <th>3</th>\n",
              "      <td>Dude they dont finish enclosing the fucking s...</td>\n",
              "      <td>{'notes': '', 'label': ['1']}</td>\n",
              "      <td>NaN</td>\n",
              "    </tr>\n",
              "    <tr>\n",
              "      <th>4</th>\n",
              "      <td>WTF are you talking about Men? No men thats n...</td>\n",
              "      <td>{'notes': '', 'label': ['1']}</td>\n",
              "      <td>NaN</td>\n",
              "    </tr>\n",
              "  </tbody>\n",
              "</table>\n",
              "</div>\n",
              "      <button class=\"colab-df-convert\" onclick=\"convertToInteractive('df-d4eb73f0-55bc-48dd-ba7a-ed6314d8e08b')\"\n",
              "              title=\"Convert this dataframe to an interactive table.\"\n",
              "              style=\"display:none;\">\n",
              "        \n",
              "  <svg xmlns=\"http://www.w3.org/2000/svg\" height=\"24px\"viewBox=\"0 0 24 24\"\n",
              "       width=\"24px\">\n",
              "    <path d=\"M0 0h24v24H0V0z\" fill=\"none\"/>\n",
              "    <path d=\"M18.56 5.44l.94 2.06.94-2.06 2.06-.94-2.06-.94-.94-2.06-.94 2.06-2.06.94zm-11 1L8.5 8.5l.94-2.06 2.06-.94-2.06-.94L8.5 2.5l-.94 2.06-2.06.94zm10 10l.94 2.06.94-2.06 2.06-.94-2.06-.94-.94-2.06-.94 2.06-2.06.94z\"/><path d=\"M17.41 7.96l-1.37-1.37c-.4-.4-.92-.59-1.43-.59-.52 0-1.04.2-1.43.59L10.3 9.45l-7.72 7.72c-.78.78-.78 2.05 0 2.83L4 21.41c.39.39.9.59 1.41.59.51 0 1.02-.2 1.41-.59l7.78-7.78 2.81-2.81c.8-.78.8-2.07 0-2.86zM5.41 20L4 18.59l7.72-7.72 1.47 1.35L5.41 20z\"/>\n",
              "  </svg>\n",
              "      </button>\n",
              "      \n",
              "  <style>\n",
              "    .colab-df-container {\n",
              "      display:flex;\n",
              "      flex-wrap:wrap;\n",
              "      gap: 12px;\n",
              "    }\n",
              "\n",
              "    .colab-df-convert {\n",
              "      background-color: #E8F0FE;\n",
              "      border: none;\n",
              "      border-radius: 50%;\n",
              "      cursor: pointer;\n",
              "      display: none;\n",
              "      fill: #1967D2;\n",
              "      height: 32px;\n",
              "      padding: 0 0 0 0;\n",
              "      width: 32px;\n",
              "    }\n",
              "\n",
              "    .colab-df-convert:hover {\n",
              "      background-color: #E2EBFA;\n",
              "      box-shadow: 0px 1px 2px rgba(60, 64, 67, 0.3), 0px 1px 3px 1px rgba(60, 64, 67, 0.15);\n",
              "      fill: #174EA6;\n",
              "    }\n",
              "\n",
              "    [theme=dark] .colab-df-convert {\n",
              "      background-color: #3B4455;\n",
              "      fill: #D2E3FC;\n",
              "    }\n",
              "\n",
              "    [theme=dark] .colab-df-convert:hover {\n",
              "      background-color: #434B5C;\n",
              "      box-shadow: 0px 1px 3px 1px rgba(0, 0, 0, 0.15);\n",
              "      filter: drop-shadow(0px 1px 2px rgba(0, 0, 0, 0.3));\n",
              "      fill: #FFFFFF;\n",
              "    }\n",
              "  </style>\n",
              "\n",
              "      <script>\n",
              "        const buttonEl =\n",
              "          document.querySelector('#df-d4eb73f0-55bc-48dd-ba7a-ed6314d8e08b button.colab-df-convert');\n",
              "        buttonEl.style.display =\n",
              "          google.colab.kernel.accessAllowed ? 'block' : 'none';\n",
              "\n",
              "        async function convertToInteractive(key) {\n",
              "          const element = document.querySelector('#df-d4eb73f0-55bc-48dd-ba7a-ed6314d8e08b');\n",
              "          const dataTable =\n",
              "            await google.colab.kernel.invokeFunction('convertToInteractive',\n",
              "                                                     [key], {});\n",
              "          if (!dataTable) return;\n",
              "\n",
              "          const docLinkHtml = 'Like what you see? Visit the ' +\n",
              "            '<a target=\"_blank\" href=https://colab.research.google.com/notebooks/data_table.ipynb>data table notebook</a>'\n",
              "            + ' to learn more about interactive tables.';\n",
              "          element.innerHTML = '';\n",
              "          dataTable['output_type'] = 'display_data';\n",
              "          await google.colab.output.renderOutput(dataTable, element);\n",
              "          const docLink = document.createElement('div');\n",
              "          docLink.innerHTML = docLinkHtml;\n",
              "          element.appendChild(docLink);\n",
              "        }\n",
              "      </script>\n",
              "    </div>\n",
              "  </div>\n",
              "  "
            ]
          },
          "metadata": {},
          "execution_count": 10
        }
      ]
    },
    {
      "cell_type": "code",
      "source": [
        "df.columns"
      ],
      "metadata": {
        "id": "dqP8y_gphziV",
        "outputId": "d1d4d4d9-b7d5-4bd5-95dd-63de4d77c5e3",
        "colab": {
          "base_uri": "https://localhost:8080/"
        }
      },
      "execution_count": 11,
      "outputs": [
        {
          "output_type": "execute_result",
          "data": {
            "text/plain": [
              "Index(['content', 'annotation', 'extras'], dtype='object')"
            ]
          },
          "metadata": {},
          "execution_count": 11
        }
      ]
    },
    {
      "cell_type": "markdown",
      "metadata": {
        "id": "eRoW6zyg2kEz"
      },
      "source": [
        "Se establecen las dependencias que se usarán en la práctica. Se pueden añadir y quitar las dependencias que no se usen o viceversa."
      ]
    },
    {
      "cell_type": "code",
      "metadata": {
        "id": "9s0-8_JK_z2D",
        "outputId": "8268a63f-523b-4956-e483-5e2acce772c8",
        "colab": {
          "base_uri": "https://localhost:8080/"
        }
      },
      "source": [
        "%%writefile requirements.txt\n",
        "\n",
        "apache-beam[gcp]==2.24.0\n",
        "tensorflow\n",
        "gensim==3.6.0\n",
        "fsspec==0.8.4\n",
        "gcsfs==0.7.1\n",
        "numpy==1.20.0"
      ],
      "execution_count": 12,
      "outputs": [
        {
          "output_type": "stream",
          "name": "stdout",
          "text": [
            "Overwriting requirements.txt\n"
          ]
        }
      ]
    },
    {
      "cell_type": "markdown",
      "metadata": {
        "id": "yIl8lrPp2x2j"
      },
      "source": [
        "Instalamos las dependencias. **No olvidarse de reiniciar el entorno al instalar y establecer las variables y credenciales de GCP al arrancar.**"
      ]
    },
    {
      "cell_type": "code",
      "metadata": {
        "id": "ZS6P8A4c_8le",
        "outputId": "dc81058a-5e25-4183-80e5-39f78eddfa85",
        "colab": {
          "base_uri": "https://localhost:8080/",
          "height": 1000
        }
      },
      "source": [
        "! pip install -r requirements.txt"
      ],
      "execution_count": 13,
      "outputs": [
        {
          "output_type": "stream",
          "name": "stdout",
          "text": [
            "Looking in indexes: https://pypi.org/simple, https://us-python.pkg.dev/colab-wheels/public/simple/\n",
            "Collecting apache-beam[gcp]==2.24.0\n",
            "  Downloading apache_beam-2.24.0-cp37-cp37m-manylinux2010_x86_64.whl (8.5 MB)\n",
            "\u001b[K     |████████████████████████████████| 8.5 MB 27.7 MB/s \n",
            "\u001b[?25hRequirement already satisfied: tensorflow in /usr/local/lib/python3.7/dist-packages (from -r requirements.txt (line 3)) (2.8.2+zzzcolab20220527125636)\n",
            "Requirement already satisfied: gensim==3.6.0 in /usr/local/lib/python3.7/dist-packages (from -r requirements.txt (line 4)) (3.6.0)\n",
            "Collecting fsspec==0.8.4\n",
            "  Downloading fsspec-0.8.4-py3-none-any.whl (91 kB)\n",
            "\u001b[K     |████████████████████████████████| 91 kB 10.8 MB/s \n",
            "\u001b[?25hCollecting gcsfs==0.7.1\n",
            "  Downloading gcsfs-0.7.1-py2.py3-none-any.whl (20 kB)\n",
            "Collecting numpy==1.20.0\n",
            "  Downloading numpy-1.20.0-cp37-cp37m-manylinux2010_x86_64.whl (15.3 MB)\n",
            "\u001b[K     |████████████████████████████████| 15.3 MB 44.6 MB/s \n",
            "\u001b[?25hRequirement already satisfied: six>=1.5.0 in /usr/local/lib/python3.7/dist-packages (from gensim==3.6.0->-r requirements.txt (line 4)) (1.15.0)\n",
            "Requirement already satisfied: smart-open>=1.2.1 in /usr/local/lib/python3.7/dist-packages (from gensim==3.6.0->-r requirements.txt (line 4)) (5.2.1)\n",
            "Requirement already satisfied: scipy>=0.18.1 in /usr/local/lib/python3.7/dist-packages (from gensim==3.6.0->-r requirements.txt (line 4)) (1.4.1)\n",
            "Requirement already satisfied: google-auth-oauthlib in /usr/local/lib/python3.7/dist-packages (from gcsfs==0.7.1->-r requirements.txt (line 6)) (0.4.6)\n",
            "Requirement already satisfied: decorator in /usr/local/lib/python3.7/dist-packages (from gcsfs==0.7.1->-r requirements.txt (line 6)) (4.4.2)\n",
            "Collecting aiohttp\n",
            "  Downloading aiohttp-3.8.1-cp37-cp37m-manylinux_2_5_x86_64.manylinux1_x86_64.manylinux_2_12_x86_64.manylinux2010_x86_64.whl (1.1 MB)\n",
            "\u001b[K     |████████████████████████████████| 1.1 MB 43.5 MB/s \n",
            "\u001b[?25hRequirement already satisfied: requests in /usr/local/lib/python3.7/dist-packages (from gcsfs==0.7.1->-r requirements.txt (line 6)) (2.23.0)\n",
            "Requirement already satisfied: google-auth>=1.2 in /usr/local/lib/python3.7/dist-packages (from gcsfs==0.7.1->-r requirements.txt (line 6)) (1.35.0)\n",
            "Collecting requests\n",
            "  Downloading requests-2.28.1-py3-none-any.whl (62 kB)\n",
            "\u001b[K     |████████████████████████████████| 62 kB 1.8 MB/s \n",
            "\u001b[?25hCollecting dill<0.3.2,>=0.3.1.1\n",
            "  Downloading dill-0.3.1.1.tar.gz (151 kB)\n",
            "\u001b[K     |████████████████████████████████| 151 kB 57.4 MB/s \n",
            "\u001b[?25hCollecting hdfs<3.0.0,>=2.1.0\n",
            "  Downloading hdfs-2.7.0-py3-none-any.whl (34 kB)\n",
            "Collecting future<1.0.0,>=0.18.2\n",
            "  Downloading future-0.18.2.tar.gz (829 kB)\n",
            "\u001b[K     |████████████████████████████████| 829 kB 45.9 MB/s \n",
            "\u001b[?25hCollecting pyarrow<0.18.0,>=0.15.1\n",
            "  Downloading pyarrow-0.17.1-cp37-cp37m-manylinux2014_x86_64.whl (63.8 MB)\n",
            "\u001b[K     |████████████████████████████████| 63.8 MB 81 kB/s \n",
            "\u001b[?25hRequirement already satisfied: python-dateutil<3,>=2.8.0 in /usr/local/lib/python3.7/dist-packages (from apache-beam[gcp]==2.24.0->-r requirements.txt (line 2)) (2.8.2)\n",
            "Requirement already satisfied: crcmod<2.0,>=1.7 in /usr/local/lib/python3.7/dist-packages (from apache-beam[gcp]==2.24.0->-r requirements.txt (line 2)) (1.7)\n",
            "Requirement already satisfied: pydot<2,>=1.2.0 in /usr/local/lib/python3.7/dist-packages (from apache-beam[gcp]==2.24.0->-r requirements.txt (line 2)) (1.3.0)\n",
            "Requirement already satisfied: protobuf<4,>=3.12.2 in /usr/local/lib/python3.7/dist-packages (from apache-beam[gcp]==2.24.0->-r requirements.txt (line 2)) (3.17.3)\n",
            "Requirement already satisfied: httplib2<0.18.0,>=0.8 in /usr/local/lib/python3.7/dist-packages (from apache-beam[gcp]==2.24.0->-r requirements.txt (line 2)) (0.17.4)\n",
            "Requirement already satisfied: grpcio<2,>=1.29.0 in /usr/local/lib/python3.7/dist-packages (from apache-beam[gcp]==2.24.0->-r requirements.txt (line 2)) (1.46.3)\n",
            "Requirement already satisfied: pytz>=2018.3 in /usr/local/lib/python3.7/dist-packages (from apache-beam[gcp]==2.24.0->-r requirements.txt (line 2)) (2022.1)\n",
            "Collecting avro-python3!=1.9.2,<1.10.0,>=1.8.1\n",
            "  Downloading avro-python3-1.9.2.1.tar.gz (37 kB)\n",
            "Collecting typing-extensions<3.8.0,>=3.7.0\n",
            "  Downloading typing_extensions-3.7.4.3-py3-none-any.whl (22 kB)\n",
            "Collecting mock<3.0.0,>=1.0.1\n",
            "  Downloading mock-2.0.0-py2.py3-none-any.whl (56 kB)\n",
            "\u001b[K     |████████████████████████████████| 56 kB 5.1 MB/s \n",
            "\u001b[?25hCollecting oauth2client<4,>=2.0.1\n",
            "  Downloading oauth2client-3.0.0.tar.gz (77 kB)\n",
            "\u001b[K     |████████████████████████████████| 77 kB 6.9 MB/s \n",
            "\u001b[?25hCollecting fastavro<0.24,>=0.21.4\n",
            "  Downloading fastavro-0.23.6-cp37-cp37m-manylinux2010_x86_64.whl (1.4 MB)\n",
            "\u001b[K     |████████████████████████████████| 1.4 MB 48.9 MB/s \n",
            "\u001b[?25hCollecting pymongo<4.0.0,>=3.8.0\n",
            "  Downloading pymongo-3.12.3-cp37-cp37m-manylinux_2_17_x86_64.manylinux2014_x86_64.whl (508 kB)\n",
            "\u001b[K     |████████████████████████████████| 508 kB 55.9 MB/s \n",
            "\u001b[?25hRequirement already satisfied: google-cloud-datastore<2,>=1.7.1 in /usr/local/lib/python3.7/dist-packages (from apache-beam[gcp]==2.24.0->-r requirements.txt (line 2)) (1.8.0)\n",
            "Requirement already satisfied: google-cloud-bigquery<2,>=1.6.0 in /usr/local/lib/python3.7/dist-packages (from apache-beam[gcp]==2.24.0->-r requirements.txt (line 2)) (1.21.0)\n",
            "Collecting google-apitools<0.5.32,>=0.5.31\n",
            "  Downloading google-apitools-0.5.31.tar.gz (173 kB)\n",
            "\u001b[K     |████████████████████████████████| 173 kB 49.2 MB/s \n",
            "\u001b[?25hCollecting google-cloud-videointelligence<2,>=1.8.0\n",
            "  Downloading google_cloud_videointelligence-1.16.3-py2.py3-none-any.whl (183 kB)\n",
            "\u001b[K     |████████████████████████████████| 183 kB 60.5 MB/s \n",
            "\u001b[?25hCollecting cachetools<4,>=3.1.0\n",
            "  Downloading cachetools-3.1.1-py2.py3-none-any.whl (11 kB)\n",
            "Collecting google-cloud-bigtable<2,>=0.31.1\n",
            "  Downloading google_cloud_bigtable-1.7.2-py2.py3-none-any.whl (267 kB)\n",
            "\u001b[K     |████████████████████████████████| 267 kB 55.3 MB/s \n",
            "\u001b[?25hCollecting google-cloud-language<2,>=1.3.0\n",
            "  Downloading google_cloud_language-1.3.2-py2.py3-none-any.whl (83 kB)\n",
            "\u001b[K     |████████████████████████████████| 83 kB 2.2 MB/s \n",
            "\u001b[?25hRequirement already satisfied: google-cloud-core<2,>=0.28.1 in /usr/local/lib/python3.7/dist-packages (from apache-beam[gcp]==2.24.0->-r requirements.txt (line 2)) (1.0.3)\n",
            "Collecting grpcio-gcp<1,>=0.2.2\n",
            "  Downloading grpcio_gcp-0.2.2-py2.py3-none-any.whl (9.4 kB)\n",
            "Collecting google-cloud-spanner<2,>=1.13.0\n",
            "  Downloading google_cloud_spanner-1.19.3-py2.py3-none-any.whl (255 kB)\n",
            "\u001b[K     |████████████████████████████████| 255 kB 52.9 MB/s \n",
            "\u001b[?25hCollecting google-cloud-dlp<2,>=0.12.0\n",
            "  Downloading google_cloud_dlp-1.0.2-py2.py3-none-any.whl (169 kB)\n",
            "\u001b[K     |████████████████████████████████| 169 kB 56.9 MB/s \n",
            "\u001b[?25hCollecting google-cloud-vision<2,>=0.38.0\n",
            "  Downloading google_cloud_vision-1.0.2-py2.py3-none-any.whl (435 kB)\n",
            "\u001b[K     |████████████████████████████████| 435 kB 52.3 MB/s \n",
            "\u001b[?25hCollecting google-cloud-pubsub<2,>=0.39.0\n",
            "  Downloading google_cloud_pubsub-1.7.2-py2.py3-none-any.whl (144 kB)\n",
            "\u001b[K     |████████████████████████████████| 144 kB 50.8 MB/s \n",
            "\u001b[?25hCollecting fasteners>=0.14\n",
            "  Downloading fasteners-0.17.3-py3-none-any.whl (18 kB)\n",
            "Requirement already satisfied: pyasn1-modules>=0.2.1 in /usr/local/lib/python3.7/dist-packages (from google-auth>=1.2->gcsfs==0.7.1->-r requirements.txt (line 6)) (0.2.8)\n",
            "Requirement already satisfied: setuptools>=40.3.0 in /usr/local/lib/python3.7/dist-packages (from google-auth>=1.2->gcsfs==0.7.1->-r requirements.txt (line 6)) (57.4.0)\n",
            "Requirement already satisfied: rsa<5,>=3.1.4 in /usr/local/lib/python3.7/dist-packages (from google-auth>=1.2->gcsfs==0.7.1->-r requirements.txt (line 6)) (4.8)\n",
            "Requirement already satisfied: google-resumable-media!=0.4.0,<0.5.0dev,>=0.3.1 in /usr/local/lib/python3.7/dist-packages (from google-cloud-bigquery<2,>=1.6.0->apache-beam[gcp]==2.24.0->-r requirements.txt (line 2)) (0.4.1)\n",
            "Collecting grpc-google-iam-v1<0.13dev,>=0.12.3\n",
            "  Downloading grpc_google_iam_v1-0.12.4-py2.py3-none-any.whl (26 kB)\n",
            "Collecting google-cloud-core<2,>=0.28.1\n",
            "  Downloading google_cloud_core-1.7.2-py2.py3-none-any.whl (28 kB)\n",
            "Requirement already satisfied: google-api-core[grpc]!=2.0.*,!=2.1.*,!=2.2.*,!=2.3.0,<3.0.0dev,>=1.31.5 in /usr/local/lib/python3.7/dist-packages (from google-cloud-bigtable<2,>=0.31.1->apache-beam[gcp]==2.24.0->-r requirements.txt (line 2)) (1.31.6)\n",
            "Requirement already satisfied: googleapis-common-protos<2.0dev,>=1.6.0 in /usr/local/lib/python3.7/dist-packages (from google-api-core[grpc]!=2.0.*,!=2.1.*,!=2.2.*,!=2.3.0,<3.0.0dev,>=1.31.5->google-cloud-bigtable<2,>=0.31.1->apache-beam[gcp]==2.24.0->-r requirements.txt (line 2)) (1.56.2)\n",
            "Requirement already satisfied: packaging>=14.3 in /usr/local/lib/python3.7/dist-packages (from google-api-core[grpc]!=2.0.*,!=2.1.*,!=2.2.*,!=2.3.0,<3.0.0dev,>=1.31.5->google-cloud-bigtable<2,>=0.31.1->apache-beam[gcp]==2.24.0->-r requirements.txt (line 2)) (21.3)\n",
            "Requirement already satisfied: docopt in /usr/local/lib/python3.7/dist-packages (from hdfs<3.0.0,>=2.1.0->apache-beam[gcp]==2.24.0->-r requirements.txt (line 2)) (0.6.2)\n",
            "Collecting pbr>=0.11\n",
            "  Downloading pbr-5.9.0-py2.py3-none-any.whl (112 kB)\n",
            "\u001b[K     |████████████████████████████████| 112 kB 54.5 MB/s \n",
            "\u001b[?25hRequirement already satisfied: pyasn1>=0.1.7 in /usr/local/lib/python3.7/dist-packages (from oauth2client<4,>=2.0.1->apache-beam[gcp]==2.24.0->-r requirements.txt (line 2)) (0.4.8)\n",
            "Requirement already satisfied: pyparsing!=3.0.5,>=2.0.2 in /usr/local/lib/python3.7/dist-packages (from packaging>=14.3->google-api-core[grpc]!=2.0.*,!=2.1.*,!=2.2.*,!=2.3.0,<3.0.0dev,>=1.31.5->google-cloud-bigtable<2,>=0.31.1->apache-beam[gcp]==2.24.0->-r requirements.txt (line 2)) (3.0.9)\n",
            "Requirement already satisfied: urllib3<1.27,>=1.21.1 in /usr/local/lib/python3.7/dist-packages (from requests->gcsfs==0.7.1->-r requirements.txt (line 6)) (1.24.3)\n",
            "Requirement already satisfied: idna<4,>=2.5 in /usr/local/lib/python3.7/dist-packages (from requests->gcsfs==0.7.1->-r requirements.txt (line 6)) (2.10)\n",
            "Requirement already satisfied: charset-normalizer<3,>=2 in /usr/local/lib/python3.7/dist-packages (from requests->gcsfs==0.7.1->-r requirements.txt (line 6)) (2.1.0)\n",
            "Requirement already satisfied: certifi>=2017.4.17 in /usr/local/lib/python3.7/dist-packages (from requests->gcsfs==0.7.1->-r requirements.txt (line 6)) (2022.6.15)\n",
            "Requirement already satisfied: opt-einsum>=2.3.2 in /usr/local/lib/python3.7/dist-packages (from tensorflow->-r requirements.txt (line 3)) (3.3.0)\n",
            "Requirement already satisfied: absl-py>=0.4.0 in /usr/local/lib/python3.7/dist-packages (from tensorflow->-r requirements.txt (line 3)) (1.1.0)\n",
            "Requirement already satisfied: wrapt>=1.11.0 in /usr/local/lib/python3.7/dist-packages (from tensorflow->-r requirements.txt (line 3)) (1.14.1)\n",
            "Requirement already satisfied: keras<2.9,>=2.8.0rc0 in /usr/local/lib/python3.7/dist-packages (from tensorflow->-r requirements.txt (line 3)) (2.8.0)\n",
            "Requirement already satisfied: tensorflow-estimator<2.9,>=2.8 in /usr/local/lib/python3.7/dist-packages (from tensorflow->-r requirements.txt (line 3)) (2.8.0)\n",
            "Requirement already satisfied: tensorflow-io-gcs-filesystem>=0.23.1 in /usr/local/lib/python3.7/dist-packages (from tensorflow->-r requirements.txt (line 3)) (0.26.0)\n",
            "Requirement already satisfied: astunparse>=1.6.0 in /usr/local/lib/python3.7/dist-packages (from tensorflow->-r requirements.txt (line 3)) (1.6.3)\n",
            "Requirement already satisfied: google-pasta>=0.1.1 in /usr/local/lib/python3.7/dist-packages (from tensorflow->-r requirements.txt (line 3)) (0.2.0)\n",
            "Requirement already satisfied: termcolor>=1.1.0 in /usr/local/lib/python3.7/dist-packages (from tensorflow->-r requirements.txt (line 3)) (1.1.0)\n",
            "Requirement already satisfied: gast>=0.2.1 in /usr/local/lib/python3.7/dist-packages (from tensorflow->-r requirements.txt (line 3)) (0.5.3)\n",
            "Requirement already satisfied: keras-preprocessing>=1.1.1 in /usr/local/lib/python3.7/dist-packages (from tensorflow->-r requirements.txt (line 3)) (1.1.2)\n",
            "Requirement already satisfied: h5py>=2.9.0 in /usr/local/lib/python3.7/dist-packages (from tensorflow->-r requirements.txt (line 3)) (3.1.0)\n",
            "Requirement already satisfied: libclang>=9.0.1 in /usr/local/lib/python3.7/dist-packages (from tensorflow->-r requirements.txt (line 3)) (14.0.1)\n",
            "Requirement already satisfied: flatbuffers>=1.12 in /usr/local/lib/python3.7/dist-packages (from tensorflow->-r requirements.txt (line 3)) (2.0)\n",
            "Requirement already satisfied: tensorboard<2.9,>=2.8 in /usr/local/lib/python3.7/dist-packages (from tensorflow->-r requirements.txt (line 3)) (2.8.0)\n",
            "Requirement already satisfied: wheel<1.0,>=0.23.0 in /usr/local/lib/python3.7/dist-packages (from astunparse>=1.6.0->tensorflow->-r requirements.txt (line 3)) (0.37.1)\n",
            "Requirement already satisfied: cached-property in /usr/local/lib/python3.7/dist-packages (from h5py>=2.9.0->tensorflow->-r requirements.txt (line 3)) (1.5.2)\n",
            "Requirement already satisfied: tensorboard-plugin-wit>=1.6.0 in /usr/local/lib/python3.7/dist-packages (from tensorboard<2.9,>=2.8->tensorflow->-r requirements.txt (line 3)) (1.8.1)\n",
            "Requirement already satisfied: tensorboard-data-server<0.7.0,>=0.6.0 in /usr/local/lib/python3.7/dist-packages (from tensorboard<2.9,>=2.8->tensorflow->-r requirements.txt (line 3)) (0.6.1)\n",
            "Requirement already satisfied: werkzeug>=0.11.15 in /usr/local/lib/python3.7/dist-packages (from tensorboard<2.9,>=2.8->tensorflow->-r requirements.txt (line 3)) (1.0.1)\n",
            "Requirement already satisfied: markdown>=2.6.8 in /usr/local/lib/python3.7/dist-packages (from tensorboard<2.9,>=2.8->tensorflow->-r requirements.txt (line 3)) (3.3.7)\n",
            "Requirement already satisfied: requests-oauthlib>=0.7.0 in /usr/local/lib/python3.7/dist-packages (from google-auth-oauthlib->gcsfs==0.7.1->-r requirements.txt (line 6)) (1.3.1)\n",
            "Requirement already satisfied: importlib-metadata>=4.4 in /usr/local/lib/python3.7/dist-packages (from markdown>=2.6.8->tensorboard<2.9,>=2.8->tensorflow->-r requirements.txt (line 3)) (4.11.4)\n",
            "Requirement already satisfied: zipp>=0.5 in /usr/local/lib/python3.7/dist-packages (from importlib-metadata>=4.4->markdown>=2.6.8->tensorboard<2.9,>=2.8->tensorflow->-r requirements.txt (line 3)) (3.8.0)\n",
            "Requirement already satisfied: oauthlib>=3.0.0 in /usr/local/lib/python3.7/dist-packages (from requests-oauthlib>=0.7.0->google-auth-oauthlib->gcsfs==0.7.1->-r requirements.txt (line 6)) (3.2.0)\n",
            "Collecting asynctest==0.13.0\n",
            "  Downloading asynctest-0.13.0-py3-none-any.whl (26 kB)\n",
            "Collecting multidict<7.0,>=4.5\n",
            "  Downloading multidict-6.0.2-cp37-cp37m-manylinux_2_17_x86_64.manylinux2014_x86_64.whl (94 kB)\n",
            "\u001b[K     |████████████████████████████████| 94 kB 3.5 MB/s \n",
            "\u001b[?25hCollecting async-timeout<5.0,>=4.0.0a3\n",
            "  Downloading async_timeout-4.0.2-py3-none-any.whl (5.8 kB)\n",
            "Collecting frozenlist>=1.1.1\n",
            "  Downloading frozenlist-1.3.0-cp37-cp37m-manylinux_2_5_x86_64.manylinux1_x86_64.manylinux_2_17_x86_64.manylinux2014_x86_64.whl (144 kB)\n",
            "\u001b[K     |████████████████████████████████| 144 kB 53.6 MB/s \n",
            "\u001b[?25hCollecting aiosignal>=1.1.2\n",
            "  Downloading aiosignal-1.2.0-py3-none-any.whl (8.2 kB)\n",
            "Requirement already satisfied: attrs>=17.3.0 in /usr/local/lib/python3.7/dist-packages (from aiohttp->gcsfs==0.7.1->-r requirements.txt (line 6)) (21.4.0)\n",
            "Collecting yarl<2.0,>=1.0\n",
            "  Downloading yarl-1.7.2-cp37-cp37m-manylinux_2_5_x86_64.manylinux1_x86_64.manylinux_2_12_x86_64.manylinux2010_x86_64.whl (271 kB)\n",
            "\u001b[K     |████████████████████████████████| 271 kB 74.3 MB/s \n",
            "\u001b[?25hBuilding wheels for collected packages: avro-python3, dill, future, google-apitools, oauth2client\n",
            "  Building wheel for avro-python3 (setup.py) ... \u001b[?25l\u001b[?25hdone\n",
            "  Created wheel for avro-python3: filename=avro_python3-1.9.2.1-py3-none-any.whl size=43513 sha256=90899c4d16b0c61223d28a59678e8ce01a63597262e2a24e7c214532976fa58e\n",
            "  Stored in directory: /root/.cache/pip/wheels/bc/49/5f/fdb5b9d85055c478213e0158ac122b596816149a02d82e0ab1\n",
            "  Building wheel for dill (setup.py) ... \u001b[?25l\u001b[?25hdone\n",
            "  Created wheel for dill: filename=dill-0.3.1.1-py3-none-any.whl size=78544 sha256=ace57bb9fddbf716d46f5cc8d64afb126c9a3b4fe640b45b1a6cb5656f9ce590\n",
            "  Stored in directory: /root/.cache/pip/wheels/a4/61/fd/c57e374e580aa78a45ed78d5859b3a44436af17e22ca53284f\n",
            "  Building wheel for future (setup.py) ... \u001b[?25l\u001b[?25hdone\n",
            "  Created wheel for future: filename=future-0.18.2-py3-none-any.whl size=491070 sha256=53ab34d872dadc6db6ac4d0b11ec0b12f8ada664dc927c9c5ac40bd385d1a4ef\n",
            "  Stored in directory: /root/.cache/pip/wheels/56/b0/fe/4410d17b32f1f0c3cf54cdfb2bc04d7b4b8f4ae377e2229ba0\n",
            "  Building wheel for google-apitools (setup.py) ... \u001b[?25l\u001b[?25hdone\n",
            "  Created wheel for google-apitools: filename=google_apitools-0.5.31-py3-none-any.whl size=131039 sha256=a887a74e3020e70df5ff4e79c545c4fdc29732b2df402eb199299f083fec5a3b\n",
            "  Stored in directory: /root/.cache/pip/wheels/19/b5/2f/1cc3cf2b31e7a9cd1508731212526d9550271274d351c96f16\n",
            "  Building wheel for oauth2client (setup.py) ... \u001b[?25l\u001b[?25hdone\n",
            "  Created wheel for oauth2client: filename=oauth2client-3.0.0-py3-none-any.whl size=106375 sha256=dd6ae6639723a6e17a1938d5870caa5514584406979480220bb15b904d7cfe29\n",
            "  Stored in directory: /root/.cache/pip/wheels/86/73/7a/3b3f76a2142176605ff38fbca574327962c71e25a43197a4c1\n",
            "Successfully built avro-python3 dill future google-apitools oauth2client\n",
            "Installing collected packages: cachetools, typing-extensions, requests, pbr, numpy, multidict, grpcio-gcp, frozenlist, yarl, pymongo, pyarrow, oauth2client, mock, hdfs, grpc-google-iam-v1, google-cloud-core, future, fasteners, fastavro, dill, avro-python3, asynctest, async-timeout, aiosignal, google-cloud-vision, google-cloud-videointelligence, google-cloud-spanner, google-cloud-pubsub, google-cloud-language, google-cloud-dlp, google-cloud-bigtable, google-apitools, fsspec, apache-beam, aiohttp, gcsfs\n",
            "  Attempting uninstall: cachetools\n",
            "    Found existing installation: cachetools 4.2.4\n",
            "    Uninstalling cachetools-4.2.4:\n",
            "      Successfully uninstalled cachetools-4.2.4\n",
            "  Attempting uninstall: typing-extensions\n",
            "    Found existing installation: typing-extensions 4.1.1\n",
            "    Uninstalling typing-extensions-4.1.1:\n",
            "      Successfully uninstalled typing-extensions-4.1.1\n",
            "  Attempting uninstall: requests\n",
            "    Found existing installation: requests 2.23.0\n",
            "    Uninstalling requests-2.23.0:\n",
            "      Successfully uninstalled requests-2.23.0\n",
            "  Attempting uninstall: numpy\n",
            "    Found existing installation: numpy 1.21.6\n",
            "    Uninstalling numpy-1.21.6:\n",
            "      Successfully uninstalled numpy-1.21.6\n",
            "  Attempting uninstall: pymongo\n",
            "    Found existing installation: pymongo 4.1.1\n",
            "    Uninstalling pymongo-4.1.1:\n",
            "      Successfully uninstalled pymongo-4.1.1\n",
            "  Attempting uninstall: pyarrow\n",
            "    Found existing installation: pyarrow 6.0.1\n",
            "    Uninstalling pyarrow-6.0.1:\n",
            "      Successfully uninstalled pyarrow-6.0.1\n",
            "  Attempting uninstall: oauth2client\n",
            "    Found existing installation: oauth2client 4.1.3\n",
            "    Uninstalling oauth2client-4.1.3:\n",
            "      Successfully uninstalled oauth2client-4.1.3\n",
            "  Attempting uninstall: google-cloud-core\n",
            "    Found existing installation: google-cloud-core 1.0.3\n",
            "    Uninstalling google-cloud-core-1.0.3:\n",
            "      Successfully uninstalled google-cloud-core-1.0.3\n",
            "  Attempting uninstall: future\n",
            "    Found existing installation: future 0.16.0\n",
            "    Uninstalling future-0.16.0:\n",
            "      Successfully uninstalled future-0.16.0\n",
            "  Attempting uninstall: dill\n",
            "    Found existing installation: dill 0.3.5.1\n",
            "    Uninstalling dill-0.3.5.1:\n",
            "      Successfully uninstalled dill-0.3.5.1\n",
            "  Attempting uninstall: google-cloud-language\n",
            "    Found existing installation: google-cloud-language 1.2.0\n",
            "    Uninstalling google-cloud-language-1.2.0:\n",
            "      Successfully uninstalled google-cloud-language-1.2.0\n",
            "\u001b[31mERROR: pip's dependency resolver does not currently take into account all the packages that are installed. This behaviour is the source of the following dependency conflicts.\n",
            "xarray-einstats 0.2.2 requires numpy>=1.21, but you have numpy 1.20.0 which is incompatible.\n",
            "pymc3 3.11.4 requires cachetools>=4.2.1, but you have cachetools 3.1.1 which is incompatible.\n",
            "pydrive 1.3.1 requires oauth2client>=4.0.0, but you have oauth2client 3.0.0 which is incompatible.\n",
            "multiprocess 0.70.13 requires dill>=0.3.5.1, but you have dill 0.3.1.1 which is incompatible.\n",
            "google-colab 1.0.0 requires requests~=2.23.0, but you have requests 2.28.1 which is incompatible.\n",
            "datascience 0.10.6 requires folium==0.2.1, but you have folium 0.8.3 which is incompatible.\n",
            "albumentations 0.1.12 requires imgaug<0.2.7,>=0.2.5, but you have imgaug 0.2.9 which is incompatible.\u001b[0m\n",
            "Successfully installed aiohttp-3.8.1 aiosignal-1.2.0 apache-beam-2.24.0 async-timeout-4.0.2 asynctest-0.13.0 avro-python3-1.9.2.1 cachetools-3.1.1 dill-0.3.1.1 fastavro-0.23.6 fasteners-0.17.3 frozenlist-1.3.0 fsspec-0.8.4 future-0.18.2 gcsfs-0.7.1 google-apitools-0.5.31 google-cloud-bigtable-1.7.2 google-cloud-core-1.7.2 google-cloud-dlp-1.0.2 google-cloud-language-1.3.2 google-cloud-pubsub-1.7.2 google-cloud-spanner-1.19.3 google-cloud-videointelligence-1.16.3 google-cloud-vision-1.0.2 grpc-google-iam-v1-0.12.4 grpcio-gcp-0.2.2 hdfs-2.7.0 mock-2.0.0 multidict-6.0.2 numpy-1.20.0 oauth2client-3.0.0 pbr-5.9.0 pyarrow-0.17.1 pymongo-3.12.3 requests-2.28.1 typing-extensions-3.7.4.3 yarl-1.7.2\n"
          ]
        },
        {
          "output_type": "display_data",
          "data": {
            "application/vnd.colab-display-data+json": {
              "pip_warning": {
                "packages": [
                  "cachetools",
                  "google",
                  "numpy",
                  "pyarrow",
                  "requests",
                  "typing_extensions"
                ]
              }
            }
          },
          "metadata": {}
        }
      ]
    },
    {
      "cell_type": "markdown",
      "metadata": {
        "id": "k0DDu27S3CJv"
      },
      "source": [
        "##**Entreglable (0.5 puntos)**\n",
        "\n",
        "Desarrollar un pipeline de preprocesamiento utilizando Apache Beam para generar datos de train, eval y test para los datos proporcionados anteriormente. Requisitos:\n",
        "\n",
        "- Proporcionar dos modos de ejecución: `train` y `test`\n",
        "- Soportar ejecuciones en local con `DirectRunner` y ejecuciones en Dataflow usando `DataFlowRunner`."
      ]
    },
    {
      "cell_type": "code",
      "metadata": {
        "id": "1blctlxs_dPO",
        "outputId": "c67186eb-56ba-4b87-feaa-99b2752eba6e",
        "colab": {
          "base_uri": "https://localhost:8080/"
        }
      },
      "source": [
        "%%writefile preprocess.py\n",
        "\n",
        "\n",
        "# Licensed to the Apache Software Foundation (ASF) under one or more\n",
        "# contributor license agreements.  See the NOTICE file distributed with\n",
        "# this work for additional information regarding copyright ownership.\n",
        "# The ASF licenses this file to You under the Apache License, Version 2.0\n",
        "# (the \"License\"); you may not use this file except in compliance with\n",
        "# the License.  You may obtain a copy of the License at\n",
        "#\n",
        "#    http://www.apache.org/licenses/LICENSE-2.0\n",
        "#\n",
        "# Unless required by applicable law or agreed to in writing, software\n",
        "# distributed under the License is distributed on an \"AS IS\" BASIS,\n",
        "# WITHOUT WARRANTIES OR CONDITIONS OF ANY KIND, either express or implied.\n",
        "# See the License for the specific language governing permissions and\n",
        "# limitations under the License.\n",
        "#\n",
        "\n",
        "\"\"\"A word-counting workflow.\"\"\"\n",
        "\n",
        "# pytype: skip-file\n",
        "\n",
        "from __future__ import absolute_import\n",
        "\n",
        "import argparse\n",
        "import logging\n",
        "import re\n",
        "import os\n",
        "import csv\n",
        "import random\n",
        "import json\n",
        "\n",
        "from past.builtins import unicode\n",
        "\n",
        "import apache_beam as beam\n",
        "from apache_beam.io import ReadFromText\n",
        "from apache_beam.io import WriteToText\n",
        "from apache_beam.coders.coders import Coder\n",
        "from apache_beam.options.pipeline_options import PipelineOptions\n",
        "from apache_beam.options.pipeline_options import SetupOptions, DirectOptions\n",
        "\n",
        "import nltk\n",
        "from nltk.corpus import stopwords\n",
        "from nltk.stem import SnowballStemmer\n",
        "\n",
        "nltk.download(\"stopwords\")\n",
        "\n",
        "# CLEANING\n",
        "STOP_WORDS = stopwords.words(\"english\")\n",
        "STEMMER = SnowballStemmer(\"english\")\n",
        "TEXT_CLEANING_RE = \"@\\S+|https?:\\S+|http?:\\S|[^A-Za-z0-9]+\"\n",
        "\n",
        "\n",
        "class ExtractColumnsDoFn(beam.DoFn):\n",
        "    def process(self, element):\n",
        "        # space removal\n",
        "        element_split = json.loads(element)\n",
        "        \n",
        "        # text, annotation\n",
        "        yield element_split[\"content\"],element_split[\"annotation\"][\"label\"][0]\n",
        "\n",
        "\n",
        "class PreprocessColumnsTrainFn(beam.DoFn):\n",
        "    def process_annotation(self, annotation):\n",
        "        annotation = int(annotation)\n",
        "        if annotation == 1:\n",
        "            return \"TROLL\"\n",
        "\n",
        "        else:\n",
        "            return \"NOT\"\n",
        "\n",
        "    def process_text(self, text):\n",
        "        # Remove link,user and special characters\n",
        "        stem = False\n",
        "        text = re.sub(TEXT_CLEANING_RE, \" \", str(text).lower()).strip()\n",
        "        tokens = []\n",
        "        for token in text.split():\n",
        "            if token not in STOP_WORDS:\n",
        "                if stem:\n",
        "                    tokens.append(STEMMER.stem(token))\n",
        "                else:\n",
        "                    tokens.append(token)\n",
        "        return \" \".join(tokens)\n",
        "\n",
        "    def process(self, element):\n",
        "        processed_text = self.process_text(element[0])\n",
        "        processed_annotation = self.process_annotation(element[1])\n",
        "        yield f\"{processed_text}, {processed_annotation}\"\n",
        "\n",
        "\n",
        "class CustomCoder(Coder):\n",
        "    \"\"\"A custom coder used for reading and writing strings\"\"\"\n",
        "\n",
        "    def __init__(self, encoding: str):\n",
        "        # latin-1\n",
        "        # iso-8859-1\n",
        "        self.enconding = encoding\n",
        "\n",
        "    def encode(self, value):\n",
        "        return value.encode(self.enconding)\n",
        "\n",
        "    def decode(self, value):\n",
        "        return value.decode(self.enconding)\n",
        "\n",
        "    def is_deterministic(self):\n",
        "        return True\n",
        "\n",
        "\n",
        "def run(argv=None, save_main_session=True):\n",
        "\n",
        "    \"\"\"Main entry point; defines and runs the wordcount pipeline.\"\"\"\n",
        "\n",
        "    parser = argparse.ArgumentParser()\n",
        "\n",
        "    parser.add_argument(\n",
        "        \"--work-dir\", dest=\"work_dir\", required=True, help=\"Working directory\",\n",
        "    )\n",
        "\n",
        "    parser.add_argument(\n",
        "        \"--input\", dest=\"input\", required=True, help=\"Input dataset in work dir\",\n",
        "    )\n",
        "    parser.add_argument(\n",
        "        \"--output\",\n",
        "        dest=\"output\",\n",
        "        required=True,\n",
        "        help=\"Output path to store transformed data in work dir\",\n",
        "    )\n",
        "    parser.add_argument(\n",
        "        \"--mode\",\n",
        "        dest=\"mode\",\n",
        "        required=True,\n",
        "        choices=[\"train\", \"test\"],\n",
        "        help=\"Type of output to store transformed data\",\n",
        "    )\n",
        "\n",
        "    known_args, pipeline_args = parser.parse_known_args(argv)\n",
        "\n",
        "    # We use the save_main_session option because one or more DoFn's in this\n",
        "    # workflow rely on global context (e.g., a module imported at module level).\n",
        "    pipeline_options = PipelineOptions(pipeline_args)\n",
        "    pipeline_options.view_as(SetupOptions).save_main_session = save_main_session\n",
        "    pipeline_options.view_as(DirectOptions).direct_num_workers = 0\n",
        "\n",
        "    # The pipeline will be run on exiting the with block.\n",
        "    with beam.Pipeline(options=pipeline_options) as p:\n",
        "\n",
        "        # Read the text file[pattern] into a PCollection.\n",
        "        raw_data = p | \"ReadTwitterData\" >> ReadFromText(\n",
        "            known_args.input, coder=CustomCoder(\"latin-1\")\n",
        "        )\n",
        "\n",
        "        if known_args.mode == \"train\":\n",
        "\n",
        "            transformed_data = (\n",
        "                raw_data\n",
        "                | \"ExtractColumns\" >> beam.ParDo(ExtractColumnsDoFn())\n",
        "                | \"Preprocess\" >> beam.ParDo(PreprocessColumnsTrainFn())\n",
        "            )\n",
        "\n",
        "            eval_percent = 20\n",
        "            assert 0 < eval_percent < 100, \"eval_percent must in the range (0-100)\"\n",
        "            train_dataset, eval_dataset = (\n",
        "                transformed_data\n",
        "                | \"Split dataset\"\n",
        "                >> beam.Partition(\n",
        "                    lambda elem, _: int(random.uniform(0, 100) < eval_percent), 2\n",
        "                )\n",
        "            )\n",
        "\n",
        "            train_dataset | \"TrainWriteToCSV\" >> WriteToText(\n",
        "                os.path.join(known_args.output, \"train\", \"part\")\n",
        "            )\n",
        "            eval_dataset | \"EvalWriteToCSV\" >> WriteToText(\n",
        "                os.path.join(known_args.output, \"eval\", \"part\")\n",
        "            )\n",
        "\n",
        "        else:\n",
        "            transformed_data = (\n",
        "                raw_data\n",
        "                | \"ExtractColumns\" >> beam.ParDo(ExtractColumnsDoFn())\n",
        "                | \"Preprocess\" >> beam.Map(lambda x: f'\"{x[0]}\"')\n",
        "            )\n",
        "\n",
        "            transformed_data | \"TestWriteToCSV\" >> WriteToText(\n",
        "                os.path.join(known_args.output, \"test\", \"part\")\n",
        "            )\n",
        "\n",
        "\n",
        "if __name__ == \"__main__\":\n",
        "    logging.getLogger().setLevel(logging.INFO)\n",
        "    run()\n",
        "\n"
      ],
      "execution_count": 13,
      "outputs": [
        {
          "output_type": "stream",
          "name": "stdout",
          "text": [
            "Writing preprocess.py\n"
          ]
        }
      ]
    },
    {
      "cell_type": "markdown",
      "metadata": {
        "id": "qawuKC0k4B0e"
      },
      "source": [
        "Se proporciona un fichero `setup.py` necesario para ejecutar en DataFlow. Modificar la variable `REQUIRED_PACKAGES` con las dependencias que se hayan usado en el `requirements.txt`"
      ]
    },
    {
      "cell_type": "code",
      "metadata": {
        "id": "n1MQvWsk_mVX",
        "outputId": "a11fee45-50e6-4f4d-acf7-813b398fb501",
        "colab": {
          "base_uri": "https://localhost:8080/"
        }
      },
      "source": [
        "%%writefile setup.py\n",
        "\n",
        "import setuptools\n",
        "\n",
        "REQUIRED_PACKAGES = [\n",
        "  \"apache-beam[gcp]==2.24.0\",\n",
        "  \"tensorflow==2.8.0\",\n",
        "  \"gensim==3.6.0\",\n",
        "  \"fsspec==0.8.4\",\n",
        "  \"gcsfs==0.7.1\",\n",
        "  \"numpy==1.20.0\",\n",
        "  \"keras==2.8.0\",\n",
        "]\n",
        "\n",
        "setuptools.setup(\n",
        "    name=\"twitchstreaming\",\n",
        "    version=\"0.0.1\",\n",
        "    install_requires=REQUIRED_PACKAGES,\n",
        "    packages=setuptools.find_packages(),\n",
        "    include_package_data=True,\n",
        "    description=\"Troll detection\",\n",
        ")\n"
      ],
      "execution_count": 14,
      "outputs": [
        {
          "output_type": "stream",
          "name": "stdout",
          "text": [
            "Writing setup.py\n"
          ]
        }
      ]
    },
    {
      "cell_type": "markdown",
      "metadata": {
        "id": "jLDlz_fL4UJA"
      },
      "source": [
        "### Validación preprocess train en local (0.25 puntos)\n",
        "\n",
        "Con el comando mostrado a continuación se valida la correcta generación de los datos de entrenamiento y validación en local."
      ]
    },
    {
      "cell_type": "code",
      "metadata": {
        "id": "vFpirg37C3bN",
        "outputId": "19b69cca-916d-4989-adcc-e5defdbc44bb",
        "colab": {
          "base_uri": "https://localhost:8080/"
        }
      },
      "source": [
        "! python3 preprocess.py \\\n",
        "  --work-dir $WORK_DIR \\\n",
        "  --runner DirectRunner \\\n",
        "  --input $WORK_DIR/data.json \\\n",
        "  --output $WORK_DIR/transformed_data \\\n",
        "  --mode train"
      ],
      "execution_count": 15,
      "outputs": [
        {
          "output_type": "stream",
          "name": "stdout",
          "text": [
            "[nltk_data] Downloading package stopwords to /root/nltk_data...\n",
            "[nltk_data]   Unzipping corpora/stopwords.zip.\n",
            "INFO:apache_beam.runners.portability.fn_api_runner.translations:==================== <function annotate_downstream_side_inputs at 0x7fc52aafbf80> ====================\n",
            "INFO:apache_beam.runners.portability.fn_api_runner.translations:==================== <function fix_side_input_pcoll_coders at 0x7fc52b01a0e0> ====================\n",
            "INFO:apache_beam.runners.portability.fn_api_runner.translations:==================== <function lift_combiners at 0x7fc52b01a170> ====================\n",
            "INFO:apache_beam.runners.portability.fn_api_runner.translations:==================== <function expand_sdf at 0x7fc52b01a200> ====================\n",
            "INFO:apache_beam.runners.portability.fn_api_runner.translations:==================== <function expand_gbk at 0x7fc52b01a290> ====================\n",
            "INFO:apache_beam.runners.portability.fn_api_runner.translations:==================== <function sink_flattens at 0x7fc52b01a3b0> ====================\n",
            "INFO:apache_beam.runners.portability.fn_api_runner.translations:==================== <function greedily_fuse at 0x7fc52b01a440> ====================\n",
            "INFO:apache_beam.runners.portability.fn_api_runner.translations:==================== <function read_to_impulse at 0x7fc52b01a4d0> ====================\n",
            "INFO:apache_beam.runners.portability.fn_api_runner.translations:==================== <function impulse_to_input at 0x7fc52b01a560> ====================\n",
            "INFO:apache_beam.runners.portability.fn_api_runner.translations:==================== <function sort_stages at 0x7fc52b01a7a0> ====================\n",
            "INFO:apache_beam.runners.portability.fn_api_runner.translations:==================== <function setup_timer_mapping at 0x7fc52b01a710> ====================\n",
            "INFO:apache_beam.runners.portability.fn_api_runner.translations:==================== <function populate_data_channel_coders at 0x7fc52b01a830> ====================\n",
            "INFO:apache_beam.runners.worker.statecache:Creating state cache with size 100\n",
            "INFO:apache_beam.runners.portability.fn_api_runner.worker_handlers:Created Worker handler <apache_beam.runners.portability.fn_api_runner.worker_handlers.EmbeddedWorkerHandler object at 0x7fc52b0fd310> for environment ref_Environment_default_environment_1 (beam:env:embedded_python:v1, b'')\n",
            "INFO:apache_beam.runners.worker.statecache:Creating state cache with size 100\n",
            "INFO:apache_beam.runners.portability.fn_api_runner.worker_handlers:Created Worker handler <apache_beam.runners.portability.fn_api_runner.worker_handlers.EmbeddedWorkerHandler object at 0x7fc52aa710d0> for environment ref_Environment_default_environment_1 (beam:env:embedded_python:v1, b'')\n",
            "INFO:apache_beam.runners.portability.fn_api_runner.fn_runner:Running (((((ref_AppliedPTransform_EvalWriteToCSV/Write/WriteImpl/DoOnce/Impulse_32)+(ref_AppliedPTransform_EvalWriteToCSV/Write/WriteImpl/DoOnce/FlatMap(<lambda at core.py:2826>)_33))+(ref_AppliedPTransform_EvalWriteToCSV/Write/WriteImpl/DoOnce/Map(decode)_35))+(ref_AppliedPTransform_EvalWriteToCSV/Write/WriteImpl/InitializeWrite_36))+(ref_PCollection_PCollection_21/Write))+(ref_PCollection_PCollection_22/Write)\n",
            "INFO:apache_beam.runners.portability.fn_api_runner.fn_runner:Running (((ref_AppliedPTransform_ReadTwitterData/Read/_SDFBoundedSourceWrapper/Impulse_5)+(ReadTwitterData/Read/_SDFBoundedSourceWrapper/ParDo(SDFBoundedSourceDoFn)/PairWithRestriction))+(ReadTwitterData/Read/_SDFBoundedSourceWrapper/ParDo(SDFBoundedSourceDoFn)/SplitAndSizeRestriction))+(ref_PCollection_PCollection_1_split/Write)\n",
            "INFO:apache_beam.runners.portability.fn_api_runner.fn_runner:Running (((((ref_AppliedPTransform_TrainWriteToCSV/Write/WriteImpl/DoOnce/Impulse_16)+(ref_AppliedPTransform_TrainWriteToCSV/Write/WriteImpl/DoOnce/FlatMap(<lambda at core.py:2826>)_17))+(ref_AppliedPTransform_TrainWriteToCSV/Write/WriteImpl/DoOnce/Map(decode)_19))+(ref_AppliedPTransform_TrainWriteToCSV/Write/WriteImpl/InitializeWrite_20))+(ref_PCollection_PCollection_10/Write))+(ref_PCollection_PCollection_11/Write)\n",
            "INFO:apache_beam.runners.portability.fn_api_runner.fn_runner:Running ((((((((((((ref_PCollection_PCollection_1_split/Read)+(ReadTwitterData/Read/_SDFBoundedSourceWrapper/ParDo(SDFBoundedSourceDoFn)/Process))+(ref_AppliedPTransform_ExtractColumns_7))+(ref_AppliedPTransform_Preprocess_8))+(ref_AppliedPTransform_Split dataset/ParDo(ApplyPartitionFnFn)/ParDo(ApplyPartitionFnFn)_11))+(ref_AppliedPTransform_TrainWriteToCSV/Write/WriteImpl/WindowInto(WindowIntoFn)_21))+(ref_AppliedPTransform_EvalWriteToCSV/Write/WriteImpl/WindowInto(WindowIntoFn)_37))+(ref_AppliedPTransform_TrainWriteToCSV/Write/WriteImpl/WriteBundles_22))+(ref_AppliedPTransform_TrainWriteToCSV/Write/WriteImpl/Pair_23))+(TrainWriteToCSV/Write/WriteImpl/GroupByKey/Write))+(ref_AppliedPTransform_EvalWriteToCSV/Write/WriteImpl/WriteBundles_38))+(ref_AppliedPTransform_EvalWriteToCSV/Write/WriteImpl/Pair_39))+(EvalWriteToCSV/Write/WriteImpl/GroupByKey/Write)\n",
            "INFO:apache_beam.runners.portability.fn_api_runner.fn_runner:Running ((EvalWriteToCSV/Write/WriteImpl/GroupByKey/Read)+(ref_AppliedPTransform_EvalWriteToCSV/Write/WriteImpl/Extract_41))+(ref_PCollection_PCollection_27/Write)\n",
            "INFO:apache_beam.runners.portability.fn_api_runner.fn_runner:Running ((ref_PCollection_PCollection_21/Read)+(ref_AppliedPTransform_EvalWriteToCSV/Write/WriteImpl/PreFinalize_42))+(ref_PCollection_PCollection_28/Write)\n",
            "INFO:apache_beam.runners.portability.fn_api_runner.fn_runner:Running (ref_PCollection_PCollection_21/Read)+(ref_AppliedPTransform_EvalWriteToCSV/Write/WriteImpl/FinalizeWrite_43)\n",
            "INFO:apache_beam.io.filebasedsink:Starting finalize_write threads with num_shards: 2 (skipped: 0), batches: 2, num_threads: 2\n",
            "INFO:apache_beam.io.filebasedsink:Renamed 2 shards in 0.10 seconds.\n",
            "INFO:apache_beam.runners.portability.fn_api_runner.fn_runner:Running ((TrainWriteToCSV/Write/WriteImpl/GroupByKey/Read)+(ref_AppliedPTransform_TrainWriteToCSV/Write/WriteImpl/Extract_25))+(ref_PCollection_PCollection_16/Write)\n",
            "INFO:apache_beam.runners.portability.fn_api_runner.fn_runner:Running ((ref_PCollection_PCollection_10/Read)+(ref_AppliedPTransform_TrainWriteToCSV/Write/WriteImpl/PreFinalize_26))+(ref_PCollection_PCollection_17/Write)\n",
            "INFO:apache_beam.runners.portability.fn_api_runner.fn_runner:Running (ref_PCollection_PCollection_10/Read)+(ref_AppliedPTransform_TrainWriteToCSV/Write/WriteImpl/FinalizeWrite_27)\n",
            "INFO:apache_beam.io.filebasedsink:Starting finalize_write threads with num_shards: 2 (skipped: 0), batches: 2, num_threads: 2\n",
            "INFO:apache_beam.io.filebasedsink:Renamed 2 shards in 0.10 seconds.\n"
          ]
        }
      ]
    },
    {
      "cell_type": "markdown",
      "metadata": {
        "id": "wkkG271a4qnA"
      },
      "source": [
        "### Validación preprocess test en local (0.25 puntos)\n",
        "\n",
        "Con el comando mostrado a continuación se valida la correcta generación de los datos de test en local."
      ]
    },
    {
      "cell_type": "code",
      "metadata": {
        "id": "u4lkLgecLS3i",
        "outputId": "f78970db-96bc-427b-dbab-d2457b73bd4f",
        "colab": {
          "base_uri": "https://localhost:8080/"
        }
      },
      "source": [
        "! python3 preprocess.py \\\n",
        "  --work-dir $WORK_DIR \\\n",
        "  --runner DirectRunner \\\n",
        "  --input $WORK_DIR/data.json \\\n",
        "  --output $WORK_DIR/transformed_data \\\n",
        "  --mode test"
      ],
      "execution_count": 16,
      "outputs": [
        {
          "output_type": "stream",
          "name": "stdout",
          "text": [
            "[nltk_data] Downloading package stopwords to /root/nltk_data...\n",
            "[nltk_data]   Package stopwords is already up-to-date!\n",
            "INFO:apache_beam.runners.portability.fn_api_runner.translations:==================== <function annotate_downstream_side_inputs at 0x7fe5d3a4eb00> ====================\n",
            "INFO:apache_beam.runners.portability.fn_api_runner.translations:==================== <function fix_side_input_pcoll_coders at 0x7fe5d3a4ec20> ====================\n",
            "INFO:apache_beam.runners.portability.fn_api_runner.translations:==================== <function lift_combiners at 0x7fe5d3a4ecb0> ====================\n",
            "INFO:apache_beam.runners.portability.fn_api_runner.translations:==================== <function expand_sdf at 0x7fe5d3a4ed40> ====================\n",
            "INFO:apache_beam.runners.portability.fn_api_runner.translations:==================== <function expand_gbk at 0x7fe5d3a4edd0> ====================\n",
            "INFO:apache_beam.runners.portability.fn_api_runner.translations:==================== <function sink_flattens at 0x7fe5d3a4eef0> ====================\n",
            "INFO:apache_beam.runners.portability.fn_api_runner.translations:==================== <function greedily_fuse at 0x7fe5d3a4ef80> ====================\n",
            "INFO:apache_beam.runners.portability.fn_api_runner.translations:==================== <function read_to_impulse at 0x7fe5d3a49050> ====================\n",
            "INFO:apache_beam.runners.portability.fn_api_runner.translations:==================== <function impulse_to_input at 0x7fe5d3a490e0> ====================\n",
            "INFO:apache_beam.runners.portability.fn_api_runner.translations:==================== <function sort_stages at 0x7fe5d3a49320> ====================\n",
            "INFO:apache_beam.runners.portability.fn_api_runner.translations:==================== <function setup_timer_mapping at 0x7fe5d3a49290> ====================\n",
            "INFO:apache_beam.runners.portability.fn_api_runner.translations:==================== <function populate_data_channel_coders at 0x7fe5d3a493b0> ====================\n",
            "INFO:apache_beam.runners.worker.statecache:Creating state cache with size 100\n",
            "INFO:apache_beam.runners.portability.fn_api_runner.worker_handlers:Created Worker handler <apache_beam.runners.portability.fn_api_runner.worker_handlers.EmbeddedWorkerHandler object at 0x7fe5d3a2b590> for environment ref_Environment_default_environment_1 (beam:env:embedded_python:v1, b'')\n",
            "INFO:apache_beam.runners.worker.statecache:Creating state cache with size 100\n",
            "INFO:apache_beam.runners.portability.fn_api_runner.worker_handlers:Created Worker handler <apache_beam.runners.portability.fn_api_runner.worker_handlers.EmbeddedWorkerHandler object at 0x7fe5d34dee10> for environment ref_Environment_default_environment_1 (beam:env:embedded_python:v1, b'')\n",
            "INFO:apache_beam.runners.portability.fn_api_runner.fn_runner:Running (((((ref_AppliedPTransform_TestWriteToCSV/Write/WriteImpl/DoOnce/Impulse_13)+(ref_AppliedPTransform_TestWriteToCSV/Write/WriteImpl/DoOnce/FlatMap(<lambda at core.py:2826>)_14))+(ref_AppliedPTransform_TestWriteToCSV/Write/WriteImpl/DoOnce/Map(decode)_16))+(ref_AppliedPTransform_TestWriteToCSV/Write/WriteImpl/InitializeWrite_17))+(ref_PCollection_PCollection_7/Write))+(ref_PCollection_PCollection_8/Write)\n",
            "INFO:apache_beam.runners.portability.fn_api_runner.fn_runner:Running (((ref_AppliedPTransform_ReadTwitterData/Read/_SDFBoundedSourceWrapper/Impulse_5)+(ReadTwitterData/Read/_SDFBoundedSourceWrapper/ParDo(SDFBoundedSourceDoFn)/PairWithRestriction))+(ReadTwitterData/Read/_SDFBoundedSourceWrapper/ParDo(SDFBoundedSourceDoFn)/SplitAndSizeRestriction))+(ref_PCollection_PCollection_1_split/Write)\n",
            "INFO:apache_beam.runners.portability.fn_api_runner.fn_runner:Running (((((((ref_PCollection_PCollection_1_split/Read)+(ReadTwitterData/Read/_SDFBoundedSourceWrapper/ParDo(SDFBoundedSourceDoFn)/Process))+(ref_AppliedPTransform_ExtractColumns_7))+(ref_AppliedPTransform_Preprocess_8))+(ref_AppliedPTransform_TestWriteToCSV/Write/WriteImpl/WindowInto(WindowIntoFn)_18))+(ref_AppliedPTransform_TestWriteToCSV/Write/WriteImpl/WriteBundles_19))+(ref_AppliedPTransform_TestWriteToCSV/Write/WriteImpl/Pair_20))+(TestWriteToCSV/Write/WriteImpl/GroupByKey/Write)\n",
            "INFO:apache_beam.runners.portability.fn_api_runner.fn_runner:Running ((TestWriteToCSV/Write/WriteImpl/GroupByKey/Read)+(ref_AppliedPTransform_TestWriteToCSV/Write/WriteImpl/Extract_22))+(ref_PCollection_PCollection_13/Write)\n",
            "INFO:apache_beam.runners.portability.fn_api_runner.fn_runner:Running ((ref_PCollection_PCollection_7/Read)+(ref_AppliedPTransform_TestWriteToCSV/Write/WriteImpl/PreFinalize_23))+(ref_PCollection_PCollection_14/Write)\n",
            "INFO:apache_beam.runners.portability.fn_api_runner.fn_runner:Running (ref_PCollection_PCollection_7/Read)+(ref_AppliedPTransform_TestWriteToCSV/Write/WriteImpl/FinalizeWrite_24)\n",
            "INFO:apache_beam.io.filebasedsink:Starting finalize_write threads with num_shards: 2 (skipped: 0), batches: 2, num_threads: 2\n",
            "INFO:apache_beam.io.filebasedsink:Renamed 2 shards in 0.10 seconds.\n"
          ]
        }
      ]
    },
    {
      "cell_type": "markdown",
      "metadata": {
        "id": "geZM9Sbj45LK"
      },
      "source": [
        "## Entregable 2 (1.25 puntos)\n",
        "\n",
        "Desarrollar una tarea de entrenamiento para los datos preprocesados. Requisitos:\n",
        "\n",
        "- Soportar ejecuciones en local usando el SDK de AI-Platform y ejecuciones en GCP con el mismo código."
      ]
    },
    {
      "cell_type": "markdown",
      "metadata": {
        "id": "OMUwXgm_5el-"
      },
      "source": [
        "Se crea el directorio donde se dejará este entregable."
      ]
    },
    {
      "cell_type": "code",
      "metadata": {
        "id": "HMi8dI1gLoIc"
      },
      "source": [
        "%mkdir /content/batch/trainer\n",
        "%mkdir /content/batch/trainer/data"
      ],
      "execution_count": 17,
      "outputs": []
    },
    {
      "cell_type": "code",
      "metadata": {
        "id": "3dJyMXTuNPwo",
        "outputId": "2c9642c4-0af2-4b16-bfda-5e0692ed4d9d",
        "colab": {
          "base_uri": "https://localhost:8080/"
        }
      },
      "source": [
        "%%writefile trainer/__init__.py\n",
        "\n",
        "version = \"0.1.0\""
      ],
      "execution_count": 18,
      "outputs": [
        {
          "output_type": "stream",
          "name": "stdout",
          "text": [
            "Writing trainer/__init__.py\n"
          ]
        }
      ]
    },
    {
      "cell_type": "code",
      "source": [
        "%%writefile trainer/task.py\n",
        "\n",
        "from __future__ import absolute_import\n",
        "\n",
        "import argparse\n",
        "import multiprocessing as mp\n",
        "import logging\n",
        "import tempfile\n",
        "import os\n",
        "\n",
        "import pickle\n",
        "import gensim\n",
        "import pandas as pd\n",
        "import numpy as np\n",
        "import tensorflow as tf\n",
        "\n",
        "from tensorflow.keras.preprocessing.text import Tokenizer\n",
        "from tensorflow.keras.preprocessing.sequence import pad_sequences\n",
        "from tensorflow.keras.models import Sequential\n",
        "from tensorflow.keras.layers import (\n",
        "    Dense,\n",
        "    Dropout,\n",
        "    Embedding,\n",
        "    LSTM,\n",
        ")\n",
        "from tensorflow.keras.callbacks import ReduceLROnPlateau, EarlyStopping\n",
        "from sklearn.preprocessing import LabelEncoder\n",
        "\n",
        "\n",
        "# WORD2VEC\n",
        "W2V_SIZE = 300\n",
        "W2V_WINDOW = 7\n",
        "# 32\n",
        "W2V_EPOCH = 5\n",
        "W2V_MIN_COUNT = 10\n",
        "\n",
        "# KERAS\n",
        "SEQUENCE_LENGTH = 300\n",
        "\n",
        "# SENTIMENT\n",
        "POSITIVE = \"POSITIVE\"\n",
        "NEGATIVE = \"NEGATIVE\"\n",
        "NEUTRAL = \"NEUTRAL\"\n",
        "SENTIMENT_THRESHOLDS = (0.4, 0.7)\n",
        "\n",
        "# EXPORT\n",
        "KERAS_MODEL = \"model.h5\"\n",
        "WORD2VEC_MODEL = \"model.w2v\"\n",
        "TOKENIZER_MODEL = \"tokenizer.pkl\"\n",
        "ENCODER_MODEL = \"encoder.pkl\"\n",
        "\n",
        "\n",
        "def generate_word2vec(train_df):\n",
        "    documents = [_text.split() for _text in train_df.text.values]\n",
        "    w2v_model = gensim.models.word2vec.Word2Vec(\n",
        "        size=W2V_SIZE,\n",
        "        window=W2V_WINDOW,\n",
        "        min_count=W2V_MIN_COUNT,\n",
        "        workers=mp.cpu_count(),\n",
        "    )\n",
        "    w2v_model.build_vocab(documents)\n",
        "\n",
        "    words = w2v_model.wv.vocab.keys()\n",
        "    vocab_size = len(words)\n",
        "    logging.info(f\"Vocab size: {vocab_size}\")\n",
        "    w2v_model.train(documents, total_examples=len(documents), epochs=W2V_EPOCH)\n",
        "\n",
        "    return w2v_model\n",
        "\n",
        "\n",
        "def generate_tokenizer(train_df):\n",
        "    tokenizer = Tokenizer()\n",
        "    tokenizer.fit_on_texts(train_df.text)\n",
        "    vocab_size = len(tokenizer.word_index) + 1\n",
        "    logging.info(f\"Total words: {vocab_size}\")\n",
        "    return tokenizer, vocab_size\n",
        "\n",
        "\n",
        "def generate_label_encoder(train_df):\n",
        "    encoder = LabelEncoder()\n",
        "    encoder.fit(train_df.sentiment.tolist())\n",
        "    return encoder\n",
        "\n",
        "\n",
        "def generate_embedding(word2vec_model, vocab_size, tokenizer):\n",
        "    embedding_matrix = np.zeros((vocab_size, W2V_SIZE))\n",
        "    for word, i in tokenizer.word_index.items():\n",
        "        if word in word2vec_model.wv:\n",
        "            embedding_matrix[i] = word2vec_model.wv[word]\n",
        "    return Embedding(\n",
        "        vocab_size,\n",
        "        W2V_SIZE,\n",
        "        weights=[embedding_matrix],\n",
        "        input_length=SEQUENCE_LENGTH,\n",
        "        trainable=False,\n",
        "    )\n",
        "\n",
        "\n",
        "def train_and_evaluate(\n",
        "    work_dir, train_df, eval_df, batch_size=1024, epochs=8, steps=1000\n",
        "):\n",
        "\n",
        "    \"\"\"\n",
        "    Trains and evaluates the estimator given.\n",
        "    The input functions are generated by the preprocessing function.\n",
        "    \"\"\"\n",
        "\n",
        "    model_dir = os.path.join(work_dir, \"data/model\")\n",
        "    if tf.io.gfile.exists(model_dir):\n",
        "        tf.io.gfile.rmtree(model_dir)\n",
        "    tf.io.gfile.mkdir(model_dir)\n",
        "\n",
        "    # Specify where to store our model\n",
        "    run_config = tf.estimator.RunConfig()\n",
        "    run_config = run_config.replace(model_dir=model_dir)\n",
        "\n",
        "    # This will give us a more granular visualization of the training\n",
        "    run_config = run_config.replace(save_summary_steps=10)\n",
        "\n",
        "    # Create Word2vec of training data\n",
        "    logging.info(\"---- Generating word2vec model ----\")\n",
        "    word2vec_model = generate_word2vec(train_df)\n",
        "\n",
        "    # Tokenize training data\n",
        "    logging.info(\"---- Generating tokenizer ----\")\n",
        "    tokenizer, vocab_size = generate_tokenizer(train_df)\n",
        "\n",
        "    logging.info(\"---- Tokenizing train data ----\")\n",
        "    x_train = pad_sequences(\n",
        "        tokenizer.texts_to_sequences(train_df.text), maxlen=SEQUENCE_LENGTH\n",
        "    )\n",
        "    logging.info(\"---- Tokenizing eval data ----\")\n",
        "    x_eval = pad_sequences(\n",
        "        tokenizer.texts_to_sequences(eval_df.text), maxlen=SEQUENCE_LENGTH\n",
        "    )\n",
        "\n",
        "    # Label Encoder\n",
        "    logging.info(\"---- Generating label encoder ----\")\n",
        "    label_encoder = generate_label_encoder(train_df)\n",
        "\n",
        "    logging.info(\"---- Encoding train target ----\")\n",
        "    y_train = label_encoder.transform(train_df.sentiment.tolist())\n",
        "    logging.info(\"---- Encoding eval target ----\")\n",
        "    y_eval = label_encoder.transform(eval_df.sentiment.tolist())\n",
        "\n",
        "    y_train = y_train.reshape(-1, 1)\n",
        "    y_eval = y_eval.reshape(-1, 1)\n",
        "\n",
        "    # Create Embedding Layer\n",
        "    logging.info(\"---- Generating embedding layer ----\")\n",
        "    embedding_layer = generate_embedding(word2vec_model, vocab_size, tokenizer)\n",
        "\n",
        "    logging.info(\"---- Generating Sequential model ----\")\n",
        "    model = Sequential()\n",
        "    model.add(embedding_layer)\n",
        "    model.add(Dropout(0.5))\n",
        "    model.add(LSTM(100, dropout=0.2, recurrent_dropout=0.2))\n",
        "    model.add(Dense(1, activation=\"sigmoid\"))\n",
        "\n",
        "    model.summary()\n",
        "\n",
        "    logging.info(\"---- Adding loss function to model ----\")\n",
        "    model.compile(loss=\"binary_crossentropy\", optimizer=\"adam\", metrics=[\"accuracy\"])\n",
        "\n",
        "    logging.info(\"---- Adding callbacks to model ----\")\n",
        "    callbacks = [\n",
        "        ReduceLROnPlateau(monitor=\"val_loss\", patience=5, cooldown=0),\n",
        "        EarlyStopping(monitor=\"val_accuracy\", min_delta=1e-4, patience=5),\n",
        "    ]\n",
        "\n",
        "    logging.info(\"---- Training model ----\")\n",
        "    model.fit(\n",
        "        x_train,\n",
        "        y_train,\n",
        "        batch_size=batch_size,\n",
        "        steps_per_epoch=steps,\n",
        "        epochs=epochs,\n",
        "        validation_split=0.1,\n",
        "        verbose=1,\n",
        "        callbacks=callbacks,\n",
        "    )\n",
        "\n",
        "    logging.info(\"---- Evaluating model ----\")\n",
        "    score = model.evaluate(x_eval, y_eval, batch_size=batch_size)\n",
        "    logging.info(f\"ACCURACY: {score[1]}\")\n",
        "    logging.info(f\"LOSS: {score[0]}\")\n",
        "\n",
        "    logging.info(\"---- Saving models ----\")\n",
        "    pickle.dump(\n",
        "        tokenizer,\n",
        "        tf.io.gfile.GFile(os.path.join(model_dir, TOKENIZER_MODEL), mode=\"wb\"),\n",
        "        protocol=0,\n",
        "    )\n",
        "    with tempfile.NamedTemporaryFile(suffix=\".h5\") as local_file:\n",
        "        with tf.io.gfile.GFile(\n",
        "            os.path.join(model_dir, KERAS_MODEL), mode=\"wb\"\n",
        "        ) as gcs_file:\n",
        "            model.save(local_file.name)\n",
        "            gcs_file.write(local_file.read())\n",
        "\n",
        "    # word2vec_model.save(os.path.join(model_dir, WORD2VEC_MODEL))\n",
        "\n",
        "    # pickle.dump(\n",
        "    #     label_encoder, open(os.path.join(model_dir, ENCODER_MODEL), \"wb\"), protocol=0\n",
        "    # )\n",
        "\n",
        "\n",
        "if __name__ == \"__main__\":\n",
        "\n",
        "    \"\"\"Main function called by AI Platform.\"\"\"\n",
        "\n",
        "    logging.getLogger().setLevel(logging.INFO)\n",
        "\n",
        "    parser = argparse.ArgumentParser(\n",
        "        formatter_class=argparse.ArgumentDefaultsHelpFormatter\n",
        "    )\n",
        "\n",
        "    parser.add_argument(\n",
        "        \"--job-dir\",\n",
        "        help=\"Directory for staging trainer files. \"\n",
        "        \"This can be a Google Cloud Storage path.\",\n",
        "    )\n",
        "\n",
        "    parser.add_argument(\n",
        "        \"--work-dir\",\n",
        "        required=True,\n",
        "        help=\"Directory for staging and working files. \"\n",
        "        \"This can be a Google Cloud Storage path.\",\n",
        "    )\n",
        "\n",
        "    parser.add_argument(\n",
        "        \"--batch-size\",\n",
        "        type=int,\n",
        "        default=1024,\n",
        "        help=\"Batch size for training and evaluation.\",\n",
        "    )\n",
        "\n",
        "    parser.add_argument(\n",
        "        \"--epochs\", type=int, default=8, help=\"Number of epochs to train the model\",\n",
        "    )\n",
        "\n",
        "    parser.add_argument(\n",
        "        \"--steps\",\n",
        "        type=int,\n",
        "        default=1000,\n",
        "        help=\"Number of steps per epoch to train the model\",\n",
        "    )\n",
        "\n",
        "    args = parser.parse_args()\n",
        "\n",
        "    train_data_files = tf.io.gfile.glob(\n",
        "        os.path.join(args.work_dir, \"data/transformed_data/train/part-*\")\n",
        "    )\n",
        "    eval_data_files = tf.io.gfile.glob(\n",
        "        os.path.join(args.work_dir, \"data/transformed_data/eval/part-*\")\n",
        "    )\n",
        "\n",
        "    train_df = pd.concat(\n",
        "        [\n",
        "            pd.read_csv(\n",
        "                f,\n",
        "                names=[\"text\", \"sentiment\"],\n",
        "                dtype={\"text\": \"string\", \"sentiment\": \"string\"},\n",
        "            )\n",
        "            for f in train_data_files\n",
        "        ]\n",
        "    ).dropna()\n",
        "\n",
        "    eval_df = pd.concat(\n",
        "        [\n",
        "            pd.read_csv(\n",
        "                f,\n",
        "                names=[\"text\", \"sentiment\"],\n",
        "                dtype={\"text\": \"string\", \"sentiment\": \"string\"},\n",
        "            )\n",
        "            for f in eval_data_files\n",
        "        ]\n",
        "    ).dropna()\n",
        "\n",
        "    train_and_evaluate(\n",
        "        args.work_dir,\n",
        "        train_df=train_df,\n",
        "        eval_df=eval_df,\n",
        "        batch_size=args.batch_size,\n",
        "        epochs=args.epochs,\n",
        "        steps=args.steps,\n",
        "    )"
      ],
      "metadata": {
        "id": "7h7GVUGbCql8",
        "outputId": "b12e2cf9-4f6e-452d-9fe9-6682871d506c",
        "colab": {
          "base_uri": "https://localhost:8080/"
        }
      },
      "execution_count": 19,
      "outputs": [
        {
          "output_type": "stream",
          "name": "stdout",
          "text": [
            "Writing trainer/task.py\n"
          ]
        }
      ]
    },
    {
      "cell_type": "markdown",
      "metadata": {
        "id": "8axPHdHX6d9W"
      },
      "source": [
        "### Validación Train en local\n",
        "\n",
        "Con el comando mostrado a continuación se valida el correcto entrenamiento del modelo usando los datos preprocesados del apartado anterior."
      ]
    },
    {
      "cell_type": "code",
      "metadata": {
        "id": "m9997ZzsLmq-",
        "outputId": "8588625a-86f8-4a8e-cb03-c07f115a80f6",
        "colab": {
          "base_uri": "https://localhost:8080/"
        }
      },
      "source": [
        "# Explicitly tell `gcloud ai-platform local train` to use Python 3 \n",
        "! gcloud config set ml_engine/local_python $(which python3)\n",
        "\n",
        "# This is similar to `python -m trainer.task --job-dir local-training-output`\n",
        "# but it better replicates the AI Platform environment, especially for\n",
        "# distributed training (not applicable here).\n",
        "! gcloud ai-platform local train \\\n",
        "  --package-path trainer \\\n",
        "  --module-name trainer.task \\\n",
        "  -- \\\n",
        "  --work-dir $WORK_DIR \\\n",
        "  --epochs 1"
      ],
      "execution_count": 20,
      "outputs": [
        {
          "output_type": "stream",
          "name": "stdout",
          "text": [
            "Updated property [ml_engine/local_python].\n",
            "Traceback (most recent call last):\n",
            "  File \"/usr/lib/python3.7/runpy.py\", line 193, in _run_module_as_main\n",
            "    \"__main__\", mod_spec)\n",
            "  File \"/usr/lib/python3.7/runpy.py\", line 85, in _run_code\n",
            "    exec(code, run_globals)\n",
            "  File \"/content/batch/trainer/task.py\", line 264, in <module>\n",
            "    for f in train_data_files\n",
            "  File \"/usr/local/lib/python3.7/dist-packages/pandas/util/_decorators.py\", line 311, in wrapper\n",
            "    return func(*args, **kwargs)\n",
            "  File \"/usr/local/lib/python3.7/dist-packages/pandas/core/reshape/concat.py\", line 304, in concat\n",
            "    sort=sort,\n",
            "  File \"/usr/local/lib/python3.7/dist-packages/pandas/core/reshape/concat.py\", line 351, in __init__\n",
            "    raise ValueError(\"No objects to concatenate\")\n",
            "ValueError: No objects to concatenate\n"
          ]
        }
      ]
    },
    {
      "cell_type": "markdown",
      "metadata": {
        "id": "0nhlkcjn62Zo"
      },
      "source": [
        "## Entregable 3 (0.5 puntos)\n",
        "\n",
        "Desarrollar un pipeline de inferencia utilizando Apache Beam para generar predicciones usando los modelos generados en el apartado anterior así como los de test generados en el primer entregable.\n"
      ]
    },
    {
      "cell_type": "code",
      "metadata": {
        "id": "eHBpLXB-OmjT",
        "outputId": "7e4c869a-94d6-4e27-ad8d-2f07e8355de3",
        "colab": {
          "base_uri": "https://localhost:8080/"
        }
      },
      "source": [
        "%%writefile predict.py\n",
        "\n",
        "from __future__ import absolute_import\n",
        "from __future__ import print_function\n",
        "\n",
        "import argparse\n",
        "import tempfile\n",
        "import json\n",
        "import os\n",
        "import sys\n",
        "import time\n",
        "\n",
        "import apache_beam as beam\n",
        "from apache_beam.io import ReadFromText\n",
        "from apache_beam.io import WriteToText\n",
        "from apache_beam.options.pipeline_options import GoogleCloudOptions\n",
        "from apache_beam.options.pipeline_options import PipelineOptions\n",
        "from apache_beam.options.pipeline_options import SetupOptions\n",
        "from apache_beam.coders.coders import Coder\n",
        "\n",
        "import pickle\n",
        "import tensorflow as tf\n",
        "from tensorflow.keras.preprocessing.sequence import pad_sequences\n",
        "\n",
        "# KERAS\n",
        "SEQUENCE_LENGTH = 300\n",
        "\n",
        "# SENTIMENT\n",
        "POSITIVE = \"POSITIVE\"\n",
        "NEGATIVE = \"NEGATIVE\"\n",
        "NEUTRAL = \"NEUTRAL\"\n",
        "SENTIMENT_THRESHOLDS = (0.4, 0.7)\n",
        "\n",
        "# EXPORT\n",
        "KERAS_MODEL = \"model.h5\"\n",
        "TOKENIZER_MODEL = \"tokenizer.pkl\"\n",
        "\n",
        "\n",
        "class Predict(beam.DoFn):\n",
        "    def __init__(\n",
        "        self, model_dir,\n",
        "    ):\n",
        "        self.model_dir = model_dir\n",
        "        self.model = None\n",
        "        self.tokenizer = None\n",
        "\n",
        "    def setup(self):\n",
        "        keras_model_path = os.path.join(self.model_dir, KERAS_MODEL)\n",
        "        with tempfile.NamedTemporaryFile(suffix=\".h5\") as local_file:\n",
        "            with tf.io.gfile.GFile(keras_model_path, mode=\"rb\") as gcs_file:\n",
        "                local_file.write(gcs_file.read())\n",
        "                self.model = tf.keras.models.load_model(local_file.name)\n",
        "\n",
        "        tokenizer_path = os.path.join(self.model_dir, TOKENIZER_MODEL)\n",
        "        self.tokenizer = pickle.load(tf.io.gfile.GFile(tokenizer_path, mode=\"rb\"))\n",
        "#cambiar\n",
        "    def decode_sentiment(self, score, include_neutral=True):\n",
        "         return NEGATIVE if score < 0.5 else POSITIVE\n",
        "\n",
        "\n",
        "    def process(self, element):\n",
        "        start_at = time.time()\n",
        "        # Tokenize text\n",
        "        x_test = pad_sequences(\n",
        "            self.tokenizer.texts_to_sequences([element]), maxlen=SEQUENCE_LENGTH\n",
        "        )\n",
        "        # Predict\n",
        "        score = self.model.predict([x_test])[0]\n",
        "        # Decode sentiment\n",
        "        label = self.decode_sentiment(score)\n",
        "\n",
        "        yield {\n",
        "            \"text\": element,\n",
        "            \"label\": label,\n",
        "            \"score\": float(score),\n",
        "            \"elapsed_time\": time.time() - start_at,\n",
        "        }\n",
        "\n",
        "\n",
        "class CustomCoder(Coder):\n",
        "    \"\"\"A custom coder used for reading and writing strings\"\"\"\n",
        "\n",
        "    def __init__(self, encoding: str):\n",
        "        # latin-1\n",
        "        # iso-8859-1\n",
        "        self.enconding = encoding\n",
        "\n",
        "    def encode(self, value):\n",
        "        return value.encode(self.enconding)\n",
        "\n",
        "    def decode(self, value):\n",
        "        return value.decode(self.enconding)\n",
        "\n",
        "    def is_deterministic(self):\n",
        "        return True\n",
        "\n",
        "\n",
        "def run(model_dir, source, sink, beam_options=None):\n",
        "    with beam.Pipeline(options=beam_options) as p:\n",
        "        _ = (\n",
        "            p\n",
        "            | \"Read data\" >> source\n",
        "            # | \"Preprocess\" >> beam.ParDo(PreprocessTextFn(model_dir, \"ID\"))\n",
        "            | \"Predict\" >> beam.ParDo(Predict(model_dir))\n",
        "            | \"Format as JSON\" >> beam.Map(json.dumps)\n",
        "            | \"Write predictions\" >> sink\n",
        "        )\n",
        "\n",
        "\n",
        "if __name__ == \"__main__\":\n",
        "    \"\"\"Main function\"\"\"\n",
        "    parser = argparse.ArgumentParser(\n",
        "        formatter_class=argparse.ArgumentDefaultsHelpFormatter\n",
        "    )\n",
        "\n",
        "    parser.add_argument(\n",
        "        \"--work-dir\",\n",
        "        dest=\"work_dir\",\n",
        "        required=True,\n",
        "        help=\"Directory for temporary files and preprocessed datasets to. \"\n",
        "        \"This can be a Google Cloud Storage path.\",\n",
        "    )\n",
        "\n",
        "    parser.add_argument(\n",
        "        \"--model-dir\",\n",
        "        dest=\"model_dir\",\n",
        "        required=True,\n",
        "        help=\"Path to the exported TensorFlow model. \"\n",
        "        \"This can be a Google Cloud Storage path.\",\n",
        "    )\n",
        "\n",
        "    verbs = parser.add_subparsers(dest=\"verb\")\n",
        "    batch_verb = verbs.add_parser(\"batch\", help=\"Batch prediction\")\n",
        "    batch_verb.add_argument(\n",
        "        \"--inputs-dir\",\n",
        "        dest=\"inputs_dir\",\n",
        "        required=True,\n",
        "        help=\"Input directory where CSV data files are read from. \"\n",
        "        \"This can be a Google Cloud Storage path.\",\n",
        "    )\n",
        "    batch_verb.add_argument(\n",
        "        \"--outputs-dir\",\n",
        "        dest=\"outputs_dir\",\n",
        "        required=True,\n",
        "        help=\"Directory to store prediction results. \"\n",
        "        \"This can be a Google Cloud Storage path.\",\n",
        "    )\n",
        "\n",
        "    args, pipeline_args = parser.parse_known_args()\n",
        "    print(args)\n",
        "    beam_options = PipelineOptions(pipeline_args)\n",
        "    beam_options.view_as(SetupOptions).save_main_session = True\n",
        "    # beam_options.view_as(DirectOptions).direct_num_workers = 0\n",
        "\n",
        "    project = beam_options.view_as(GoogleCloudOptions).project\n",
        "\n",
        "    if args.verb == \"batch\":\n",
        "        results_prefix = os.path.join(args.outputs_dir, \"part\")\n",
        "\n",
        "        source = ReadFromText(args.inputs_dir, coder=CustomCoder(\"latin-1\"))\n",
        "        sink = WriteToText(results_prefix)\n",
        "\n",
        "    else:\n",
        "        parser.print_usage()\n",
        "        sys.exit(1)\n",
        "\n",
        "    run(args.model_dir, source, sink, beam_options)"
      ],
      "execution_count": 21,
      "outputs": [
        {
          "output_type": "stream",
          "name": "stdout",
          "text": [
            "Writing predict.py\n"
          ]
        }
      ]
    },
    {
      "cell_type": "markdown",
      "metadata": {
        "id": "MUdgcLIP7a42"
      },
      "source": [
        "Generamos un timestamp para la ejecución de las predicciones"
      ]
    },
    {
      "cell_type": "code",
      "metadata": {
        "id": "_pvKMtuQPOlr"
      },
      "source": [
        "from datetime import datetime\n",
        "\n",
        "# current date and time\n",
        "TIMESTAMP = datetime.now().strftime('%Y-%m-%d_%H-%M-%S')"
      ],
      "execution_count": 22,
      "outputs": []
    },
    {
      "cell_type": "markdown",
      "metadata": {
        "id": "RkLMdMup70ne"
      },
      "source": [
        "### Validación Predict en local\n",
        "\n",
        "Con el comando mostrado a continuación se valida la correcta inferencia usando los modelos anteriores y los datos de test generados anteriormente."
      ]
    },
    {
      "cell_type": "code",
      "metadata": {
        "id": "iUJN0XCLPR_X",
        "outputId": "ce86da0e-4d60-4cc8-c0df-19ef8c7a2362",
        "colab": {
          "base_uri": "https://localhost:8080/"
        }
      },
      "source": [
        "! python3 predict.py \\\n",
        "  --work-dir $WORK_DIR \\\n",
        "  --model-dir $WORK_DIR/model \\\n",
        "  batch \\\n",
        "  --inputs-dir $WORK_DIR/transformed_data/test/part* \\\n",
        "  --outputs-dir $WORK_DIR/predictions/$TIMESTAMP"
      ],
      "execution_count": 25,
      "outputs": [
        {
          "output_type": "stream",
          "name": "stdout",
          "text": [
            "Namespace(inputs_dir='/content/batch/transformed_data/test/part-00000-of-00002', model_dir='/content/batch/model', outputs_dir='/content/batch/predictions/2022-07-10_21-10-27', verb='batch', work_dir='/content/batch')\n",
            "Traceback (most recent call last):\n",
            "  File \"/usr/local/lib/python3.7/dist-packages/apache_beam/runners/worker/sdk_worker.py\", line 379, in get\n",
            "    processor = self.cached_bundle_processors[bundle_descriptor_id].pop()\n",
            "IndexError: pop from empty list\n",
            "\n",
            "During handling of the above exception, another exception occurred:\n",
            "\n",
            "Traceback (most recent call last):\n",
            "  File \"apache_beam/runners/common.py\", line 1253, in apache_beam.runners.common.DoFnRunner._invoke_lifecycle_method\n",
            "  File \"apache_beam/runners/common.py\", line 504, in apache_beam.runners.common.DoFnInvoker.invoke_setup\n",
            "  File \"predict.py\", line 50, in setup\n",
            "    local_file.write(gcs_file.read())\n",
            "  File \"/usr/local/lib/python3.7/dist-packages/tensorflow/python/lib/io/file_io.py\", line 114, in read\n",
            "    self._preread_check()\n",
            "  File \"/usr/local/lib/python3.7/dist-packages/tensorflow/python/lib/io/file_io.py\", line 77, in _preread_check\n",
            "    compat.path_to_str(self.__name), 1024 * 512)\n",
            "tensorflow.python.framework.errors_impl.NotFoundError: /content/batch/model/model.h5; No such file or directory\n",
            "\n",
            "During handling of the above exception, another exception occurred:\n",
            "\n",
            "Traceback (most recent call last):\n",
            "  File \"predict.py\", line 166, in <module>\n",
            "    run(args.model_dir, source, sink, beam_options)\n",
            "  File \"predict.py\", line 105, in run\n",
            "    | \"Write predictions\" >> sink\n",
            "  File \"/usr/local/lib/python3.7/dist-packages/apache_beam/pipeline.py\", line 555, in __exit__\n",
            "    self.result = self.run()\n",
            "  File \"/usr/local/lib/python3.7/dist-packages/apache_beam/pipeline.py\", line 534, in run\n",
            "    return self.runner.run_pipeline(self, self._options)\n",
            "  File \"/usr/local/lib/python3.7/dist-packages/apache_beam/runners/direct/direct_runner.py\", line 119, in run_pipeline\n",
            "    return runner.run_pipeline(pipeline, options)\n",
            "  File \"/usr/local/lib/python3.7/dist-packages/apache_beam/runners/portability/fn_api_runner/fn_runner.py\", line 176, in run_pipeline\n",
            "    pipeline.to_runner_api(default_environment=self._default_environment))\n",
            "  File \"/usr/local/lib/python3.7/dist-packages/apache_beam/runners/portability/fn_api_runner/fn_runner.py\", line 186, in run_via_runner_api\n",
            "    return self.run_stages(stage_context, stages)\n",
            "  File \"/usr/local/lib/python3.7/dist-packages/apache_beam/runners/portability/fn_api_runner/fn_runner.py\", line 344, in run_stages\n",
            "    bundle_context_manager,\n",
            "  File \"/usr/local/lib/python3.7/dist-packages/apache_beam/runners/portability/fn_api_runner/fn_runner.py\", line 523, in _run_stage\n",
            "    bundle_manager)\n",
            "  File \"/usr/local/lib/python3.7/dist-packages/apache_beam/runners/portability/fn_api_runner/fn_runner.py\", line 561, in _run_bundle\n",
            "    data_input, data_output, input_timers, expected_timer_output)\n",
            "  File \"/usr/local/lib/python3.7/dist-packages/apache_beam/runners/portability/fn_api_runner/fn_runner.py\", line 945, in process_bundle\n",
            "    timer_inputs)):\n",
            "  File \"/usr/lib/python3.7/concurrent/futures/_base.py\", line 598, in result_iterator\n",
            "    yield fs.pop().result()\n",
            "  File \"/usr/lib/python3.7/concurrent/futures/_base.py\", line 435, in result\n",
            "    return self.__get_result()\n",
            "  File \"/usr/lib/python3.7/concurrent/futures/_base.py\", line 384, in __get_result\n",
            "    raise self._exception\n",
            "  File \"/usr/local/lib/python3.7/dist-packages/apache_beam/utils/thread_pool_executor.py\", line 44, in run\n",
            "    self._future.set_result(self._fn(*self._fn_args, **self._fn_kwargs))\n",
            "  File \"/usr/local/lib/python3.7/dist-packages/apache_beam/runners/portability/fn_api_runner/fn_runner.py\", line 941, in execute\n",
            "    dry_run)\n",
            "  File \"/usr/local/lib/python3.7/dist-packages/apache_beam/runners/portability/fn_api_runner/fn_runner.py\", line 841, in process_bundle\n",
            "    result_future = self._worker_handler.control_conn.push(process_bundle_req)\n",
            "  File \"/usr/local/lib/python3.7/dist-packages/apache_beam/runners/portability/fn_api_runner/worker_handlers.py\", line 353, in push\n",
            "    response = self.worker.do_instruction(request)\n",
            "  File \"/usr/local/lib/python3.7/dist-packages/apache_beam/runners/worker/sdk_worker.py\", line 483, in do_instruction\n",
            "    getattr(request, request_type), request.instruction_id)\n",
            "  File \"/usr/local/lib/python3.7/dist-packages/apache_beam/runners/worker/sdk_worker.py\", line 512, in process_bundle\n",
            "    instruction_id, request.process_bundle_descriptor_id)\n",
            "  File \"/usr/local/lib/python3.7/dist-packages/apache_beam/runners/worker/sdk_worker.py\", line 385, in get\n",
            "    self.data_channel_factory)\n",
            "  File \"/usr/local/lib/python3.7/dist-packages/apache_beam/runners/worker/bundle_processor.py\", line 854, in __init__\n",
            "    op.setup()\n",
            "  File \"apache_beam/runners/worker/operations.py\", line 611, in apache_beam.runners.worker.operations.DoOperation.setup\n",
            "  File \"apache_beam/runners/worker/operations.py\", line 660, in apache_beam.runners.worker.operations.DoOperation.setup\n",
            "  File \"apache_beam/runners/common.py\", line 1259, in apache_beam.runners.common.DoFnRunner.setup\n",
            "  File \"apache_beam/runners/common.py\", line 1255, in apache_beam.runners.common.DoFnRunner._invoke_lifecycle_method\n",
            "  File \"apache_beam/runners/common.py\", line 1294, in apache_beam.runners.common.DoFnRunner._reraise_augmented\n",
            "  File \"/usr/local/lib/python3.7/dist-packages/future/utils/__init__.py\", line 446, in raise_with_traceback\n",
            "    raise exc.with_traceback(traceback)\n",
            "  File \"apache_beam/runners/common.py\", line 1253, in apache_beam.runners.common.DoFnRunner._invoke_lifecycle_method\n",
            "  File \"apache_beam/runners/common.py\", line 504, in apache_beam.runners.common.DoFnInvoker.invoke_setup\n",
            "  File \"predict.py\", line 50, in setup\n",
            "    local_file.write(gcs_file.read())\n",
            "  File \"/usr/local/lib/python3.7/dist-packages/tensorflow/python/lib/io/file_io.py\", line 114, in read\n",
            "    self._preread_check()\n",
            "  File \"/usr/local/lib/python3.7/dist-packages/tensorflow/python/lib/io/file_io.py\", line 77, in _preread_check\n",
            "    compat.path_to_str(self.__name), 1024 * 512)\n",
            "RuntimeError: tensorflow.python.framework.errors_impl.NotFoundError: /content/batch/model/model.h5; No such file or directory [while running 'Predict']\n"
          ]
        }
      ]
    },
    {
      "cell_type": "markdown",
      "metadata": {
        "id": "Um68jx_F8mjF"
      },
      "source": [
        "##Entregable 4 (1.25 puntos)\n",
        "\n",
        "En este entregable se validará el funcionamiento del código en un proyecto de GCP sobre DataFlow y AI Platform"
      ]
    },
    {
      "cell_type": "markdown",
      "metadata": {
        "id": "_JHC9dCT83FH"
      },
      "source": [
        "Establecemos el bucket y region de GCP sobre el que trabajaremos:"
      ]
    },
    {
      "cell_type": "code",
      "metadata": {
        "id": "cgUpX__KQvt-"
      },
      "source": [
        "GCP_WORK_DIR = 'gs://practica-veronica'\n",
        "GCP_REGION = \"europe-west1\""
      ],
      "execution_count": 32,
      "outputs": []
    },
    {
      "cell_type": "markdown",
      "metadata": {
        "id": "_A66WAfm9DmU"
      },
      "source": [
        "### Validación preprocess train en Dataflow (0.25 puntos)\n",
        "\n",
        "Con el comando mostrado a continuación se valida la correcta generación de los datos de entrenamiento y validación en GCP con el servicio DataFlow."
      ]
    },
    {
      "cell_type": "code",
      "metadata": {
        "id": "EJYVuWyJP1Ya",
        "outputId": "9866afcd-25f9-42fe-d559-aa042509dade",
        "colab": {
          "base_uri": "https://localhost:8080/"
        }
      },
      "source": [
        "! python3 preprocess.py \\\n",
        "  --project $PROJECT_ID \\\n",
        "  --region $GCP_REGION \\\n",
        "  --runner DataflowRunner \\\n",
        "  --temp_location $GCP_WORK_DIR/beam-temp \\\n",
        "  --setup_file ./setup.py \\\n",
        "  --work-dir $GCP_WORK_DIR \\\n",
        "  --input $GCP_WORK_DIR/data.json \\\n",
        "  --output $GCP_WORK_DIR/transformed_data \\\n",
        "  --mode train"
      ],
      "execution_count": 33,
      "outputs": [
        {
          "output_type": "stream",
          "name": "stdout",
          "text": [
            "[nltk_data] Downloading package stopwords to /root/nltk_data...\n",
            "[nltk_data]   Package stopwords is already up-to-date!\n",
            "INFO:apache_beam.internal.gcp.auth:Setting socket default timeout to 60 seconds.\n",
            "INFO:apache_beam.internal.gcp.auth:socket default timeout is 60.0 seconds.\n",
            "INFO:oauth2client.transport:Attempting refresh to obtain initial access_token\n",
            "INFO:apache_beam.runners.portability.stager:Executing command: ['/usr/bin/python3', 'setup.py', 'sdist', '--dist-dir', '/tmp/tmpx774rul1']\n",
            "warning: sdist: standard file not found: should have one of README, README.rst, README.txt, README.md\n",
            "\n",
            "warning: check: missing required meta-data: url\n",
            "\n",
            "warning: check: missing meta-data: either (author and author_email) or (maintainer and maintainer_email) must be supplied\n",
            "\n",
            "INFO:apache_beam.runners.portability.stager:Downloading source distribution of the SDK from PyPi\n",
            "INFO:apache_beam.runners.portability.stager:Executing command: ['/usr/bin/python3', '-m', 'pip', 'download', '--dest', '/tmp/tmpx774rul1', 'apache-beam==2.24.0', '--no-deps', '--no-binary', ':all:']\n",
            "INFO:apache_beam.runners.portability.stager:Staging SDK sources from PyPI: dataflow_python_sdk.tar\n",
            "INFO:apache_beam.runners.portability.stager:Downloading binary distribution of the SDK from PyPi\n",
            "INFO:apache_beam.runners.portability.stager:Executing command: ['/usr/bin/python3', '-m', 'pip', 'download', '--dest', '/tmp/tmpx774rul1', 'apache-beam==2.24.0', '--no-deps', '--only-binary', ':all:', '--python-version', '37', '--implementation', 'cp', '--abi', 'cp37m', '--platform', 'manylinux1_x86_64']\n",
            "INFO:apache_beam.runners.portability.stager:Staging binary distribution of the SDK from PyPI: apache_beam-2.24.0-cp37-cp37m-manylinux1_x86_64.whl\n",
            "WARNING:root:Make sure that locally built Python SDK docker image has Python 3.7 interpreter.\n",
            "INFO:root:Using Python SDK docker image: apache/beam_python3.7_sdk:2.24.0. If the image is not available at local, we will try to pull from hub.docker.com\n",
            "INFO:apache_beam.runners.dataflow.internal.apiclient:Defaulting to the temp_location as staging_location: gs://practica-veronica/beam-temp\n",
            "INFO:apache_beam.runners.dataflow.internal.apiclient:Starting GCS upload to gs://practica-veronica/beam-temp/beamapp-root-0710213410-254771.1657488850.255165/pipeline.pb...\n",
            "INFO:apache_beam.runners.dataflow.internal.apiclient:Completed GCS upload to gs://practica-veronica/beam-temp/beamapp-root-0710213410-254771.1657488850.255165/pipeline.pb in 0 seconds.\n",
            "INFO:apache_beam.runners.dataflow.internal.apiclient:Starting GCS upload to gs://practica-veronica/beam-temp/beamapp-root-0710213410-254771.1657488850.255165/workflow.tar.gz...\n",
            "INFO:apache_beam.runners.dataflow.internal.apiclient:Completed GCS upload to gs://practica-veronica/beam-temp/beamapp-root-0710213410-254771.1657488850.255165/workflow.tar.gz in 0 seconds.\n",
            "INFO:apache_beam.runners.dataflow.internal.apiclient:Starting GCS upload to gs://practica-veronica/beam-temp/beamapp-root-0710213410-254771.1657488850.255165/pickled_main_session...\n",
            "INFO:apache_beam.runners.dataflow.internal.apiclient:Completed GCS upload to gs://practica-veronica/beam-temp/beamapp-root-0710213410-254771.1657488850.255165/pickled_main_session in 0 seconds.\n",
            "INFO:apache_beam.runners.dataflow.internal.apiclient:Starting GCS upload to gs://practica-veronica/beam-temp/beamapp-root-0710213410-254771.1657488850.255165/dataflow_python_sdk.tar...\n",
            "INFO:apache_beam.runners.dataflow.internal.apiclient:Completed GCS upload to gs://practica-veronica/beam-temp/beamapp-root-0710213410-254771.1657488850.255165/dataflow_python_sdk.tar in 0 seconds.\n",
            "INFO:apache_beam.runners.dataflow.internal.apiclient:Starting GCS upload to gs://practica-veronica/beam-temp/beamapp-root-0710213410-254771.1657488850.255165/apache_beam-2.24.0-cp37-cp37m-manylinux1_x86_64.whl...\n",
            "INFO:apache_beam.runners.dataflow.internal.apiclient:Completed GCS upload to gs://practica-veronica/beam-temp/beamapp-root-0710213410-254771.1657488850.255165/apache_beam-2.24.0-cp37-cp37m-manylinux1_x86_64.whl in 2 seconds.\n",
            "INFO:apache_beam.runners.dataflow.internal.apiclient:Create job: <Job\n",
            " createTime: '2022-07-10T21:34:17.874366Z'\n",
            " currentStateTime: '1970-01-01T00:00:00Z'\n",
            " id: '2022-07-10_14_34_16-6899199771411690041'\n",
            " location: 'europe-west1'\n",
            " name: 'beamapp-root-0710213410-254771'\n",
            " projectId: 'practica-veronica'\n",
            " stageStates: []\n",
            " startTime: '2022-07-10T21:34:17.874366Z'\n",
            " steps: []\n",
            " tempFiles: []\n",
            " type: TypeValueValuesEnum(JOB_TYPE_BATCH, 1)>\n",
            "INFO:apache_beam.runners.dataflow.internal.apiclient:Created job with id: [2022-07-10_14_34_16-6899199771411690041]\n",
            "INFO:apache_beam.runners.dataflow.internal.apiclient:Submitted job: 2022-07-10_14_34_16-6899199771411690041\n",
            "INFO:apache_beam.runners.dataflow.internal.apiclient:To access the Dataflow monitoring console, please navigate to https://console.cloud.google.com/dataflow/jobs/europe-west1/2022-07-10_14_34_16-6899199771411690041?project=practica-veronica\n",
            "INFO:apache_beam.runners.dataflow.dataflow_runner:Job 2022-07-10_14_34_16-6899199771411690041 is in state JOB_STATE_PENDING\n",
            "INFO:apache_beam.runners.dataflow.dataflow_runner:2022-07-10T21:34:16.264Z: JOB_MESSAGE_BASIC: Dataflow Runner V2 auto-enabled. Use --experiments=disable_runner_v2 to opt out.\n",
            "INFO:apache_beam.runners.dataflow.dataflow_runner:2022-07-10T21:34:18.442Z: JOB_MESSAGE_DETAILED: Autoscaling is enabled for job 2022-07-10_14_34_16-6899199771411690041. The number of workers will be between 1 and 1000.\n",
            "INFO:apache_beam.runners.dataflow.dataflow_runner:2022-07-10T21:34:18.642Z: JOB_MESSAGE_DETAILED: Autoscaling was automatically enabled for job 2022-07-10_14_34_16-6899199771411690041.\n",
            "INFO:apache_beam.runners.dataflow.dataflow_runner:2022-07-10T21:34:20.620Z: JOB_MESSAGE_BASIC: Worker configuration: n1-standard-1 in europe-west1-b.\n",
            "INFO:apache_beam.runners.dataflow.dataflow_runner:2022-07-10T21:34:21.372Z: JOB_MESSAGE_DETAILED: Expanding SplittableParDo operations into optimizable parts.\n",
            "INFO:apache_beam.runners.dataflow.dataflow_runner:2022-07-10T21:34:21.395Z: JOB_MESSAGE_DETAILED: Expanding CollectionToSingleton operations into optimizable parts.\n",
            "INFO:apache_beam.runners.dataflow.dataflow_runner:2022-07-10T21:34:21.446Z: JOB_MESSAGE_DETAILED: Expanding CoGroupByKey operations into optimizable parts.\n",
            "INFO:apache_beam.runners.dataflow.dataflow_runner:2022-07-10T21:34:21.481Z: JOB_MESSAGE_DEBUG: Combiner lifting skipped for step TrainWriteToCSV/Write/WriteImpl/GroupByKey: GroupByKey not followed by a combiner.\n",
            "INFO:apache_beam.runners.dataflow.dataflow_runner:2022-07-10T21:34:21.585Z: JOB_MESSAGE_DEBUG: Combiner lifting skipped for step EvalWriteToCSV/Write/WriteImpl/GroupByKey: GroupByKey not followed by a combiner.\n",
            "INFO:apache_beam.runners.dataflow.dataflow_runner:2022-07-10T21:34:21.621Z: JOB_MESSAGE_DETAILED: Expanding GroupByKey operations into optimizable parts.\n",
            "INFO:apache_beam.runners.dataflow.dataflow_runner:2022-07-10T21:34:21.654Z: JOB_MESSAGE_DEBUG: Annotating graph with Autotuner information.\n",
            "INFO:apache_beam.runners.dataflow.dataflow_runner:2022-07-10T21:34:21.696Z: JOB_MESSAGE_DETAILED: Fusing adjacent ParDo, Read, Write, and Flatten operations\n",
            "INFO:apache_beam.runners.dataflow.dataflow_runner:2022-07-10T21:34:21.724Z: JOB_MESSAGE_DETAILED: Fusing consumer EvalWriteToCSV/Write/WriteImpl/InitializeWrite into EvalWriteToCSV/Write/WriteImpl/DoOnce/Map(decode)\n",
            "INFO:apache_beam.runners.dataflow.dataflow_runner:2022-07-10T21:34:21.759Z: JOB_MESSAGE_DETAILED: Fusing consumer TrainWriteToCSV/Write/WriteImpl/InitializeWrite into TrainWriteToCSV/Write/WriteImpl/DoOnce/Map(decode)\n",
            "INFO:apache_beam.runners.dataflow.dataflow_runner:2022-07-10T21:34:21.794Z: JOB_MESSAGE_DETAILED: Fusing consumer EvalWriteToCSV/Write/WriteImpl/DoOnce/FlatMap(<lambda at core.py:2826>) into EvalWriteToCSV/Write/WriteImpl/DoOnce/Impulse\n",
            "INFO:apache_beam.runners.dataflow.dataflow_runner:2022-07-10T21:34:21.821Z: JOB_MESSAGE_DETAILED: Fusing consumer EvalWriteToCSV/Write/WriteImpl/DoOnce/Map(decode) into EvalWriteToCSV/Write/WriteImpl/DoOnce/FlatMap(<lambda at core.py:2826>)\n",
            "INFO:apache_beam.runners.dataflow.dataflow_runner:2022-07-10T21:34:21.841Z: JOB_MESSAGE_DETAILED: Fusing consumer ref_AppliedPTransform_ReadTwitterData/Read/_SDFBoundedSourceWrapper/ParDo(SDFBoundedSourceDoFn)_6/PairWithRestriction into ReadTwitterData/Read/_SDFBoundedSourceWrapper/Impulse\n",
            "INFO:apache_beam.runners.dataflow.dataflow_runner:2022-07-10T21:34:21.874Z: JOB_MESSAGE_DETAILED: Fusing consumer ref_AppliedPTransform_ReadTwitterData/Read/_SDFBoundedSourceWrapper/ParDo(SDFBoundedSourceDoFn)_6/SplitWithSizing into ref_AppliedPTransform_ReadTwitterData/Read/_SDFBoundedSourceWrapper/ParDo(SDFBoundedSourceDoFn)_6/PairWithRestriction\n",
            "INFO:apache_beam.runners.dataflow.dataflow_runner:2022-07-10T21:34:21.907Z: JOB_MESSAGE_DETAILED: Fusing consumer ExtractColumns into ref_AppliedPTransform_ReadTwitterData/Read/_SDFBoundedSourceWrapper/ParDo(SDFBoundedSourceDoFn)_6/ProcessElementAndRestrictionWithSizing\n",
            "INFO:apache_beam.runners.dataflow.dataflow_runner:2022-07-10T21:34:21.931Z: JOB_MESSAGE_DETAILED: Fusing consumer Preprocess into ExtractColumns\n",
            "INFO:apache_beam.runners.dataflow.dataflow_runner:2022-07-10T21:34:21.964Z: JOB_MESSAGE_DETAILED: Fusing consumer Split dataset/ParDo(ApplyPartitionFnFn)/ParDo(ApplyPartitionFnFn) into Preprocess\n",
            "INFO:apache_beam.runners.dataflow.dataflow_runner:2022-07-10T21:34:21.998Z: JOB_MESSAGE_DETAILED: Fusing consumer EvalWriteToCSV/Write/WriteImpl/WindowInto(WindowIntoFn) into Split dataset/ParDo(ApplyPartitionFnFn)/ParDo(ApplyPartitionFnFn)\n",
            "INFO:apache_beam.runners.dataflow.dataflow_runner:2022-07-10T21:34:22.032Z: JOB_MESSAGE_DETAILED: Fusing consumer EvalWriteToCSV/Write/WriteImpl/WriteBundles into EvalWriteToCSV/Write/WriteImpl/WindowInto(WindowIntoFn)\n",
            "INFO:apache_beam.runners.dataflow.dataflow_runner:2022-07-10T21:34:22.064Z: JOB_MESSAGE_DETAILED: Fusing consumer EvalWriteToCSV/Write/WriteImpl/Pair into EvalWriteToCSV/Write/WriteImpl/WriteBundles\n",
            "INFO:apache_beam.runners.dataflow.dataflow_runner:2022-07-10T21:34:22.091Z: JOB_MESSAGE_DETAILED: Fusing consumer EvalWriteToCSV/Write/WriteImpl/GroupByKey/Write into EvalWriteToCSV/Write/WriteImpl/Pair\n",
            "INFO:apache_beam.runners.dataflow.dataflow_runner:2022-07-10T21:34:22.116Z: JOB_MESSAGE_DETAILED: Fusing consumer EvalWriteToCSV/Write/WriteImpl/Extract into EvalWriteToCSV/Write/WriteImpl/GroupByKey/Read\n",
            "INFO:apache_beam.runners.dataflow.dataflow_runner:2022-07-10T21:34:22.152Z: JOB_MESSAGE_DETAILED: Fusing consumer TrainWriteToCSV/Write/WriteImpl/DoOnce/FlatMap(<lambda at core.py:2826>) into TrainWriteToCSV/Write/WriteImpl/DoOnce/Impulse\n",
            "INFO:apache_beam.runners.dataflow.dataflow_runner:2022-07-10T21:34:22.186Z: JOB_MESSAGE_DETAILED: Fusing consumer TrainWriteToCSV/Write/WriteImpl/DoOnce/Map(decode) into TrainWriteToCSV/Write/WriteImpl/DoOnce/FlatMap(<lambda at core.py:2826>)\n",
            "INFO:apache_beam.runners.dataflow.dataflow_runner:2022-07-10T21:34:22.218Z: JOB_MESSAGE_DETAILED: Fusing consumer TrainWriteToCSV/Write/WriteImpl/WindowInto(WindowIntoFn) into Split dataset/ParDo(ApplyPartitionFnFn)/ParDo(ApplyPartitionFnFn)\n",
            "INFO:apache_beam.runners.dataflow.dataflow_runner:2022-07-10T21:34:22.244Z: JOB_MESSAGE_DETAILED: Fusing consumer TrainWriteToCSV/Write/WriteImpl/WriteBundles into TrainWriteToCSV/Write/WriteImpl/WindowInto(WindowIntoFn)\n",
            "INFO:apache_beam.runners.dataflow.dataflow_runner:2022-07-10T21:34:22.269Z: JOB_MESSAGE_DETAILED: Fusing consumer TrainWriteToCSV/Write/WriteImpl/Pair into TrainWriteToCSV/Write/WriteImpl/WriteBundles\n",
            "INFO:apache_beam.runners.dataflow.dataflow_runner:2022-07-10T21:34:22.299Z: JOB_MESSAGE_DETAILED: Fusing consumer TrainWriteToCSV/Write/WriteImpl/GroupByKey/Write into TrainWriteToCSV/Write/WriteImpl/Pair\n",
            "INFO:apache_beam.runners.dataflow.dataflow_runner:2022-07-10T21:34:22.325Z: JOB_MESSAGE_DETAILED: Fusing consumer TrainWriteToCSV/Write/WriteImpl/Extract into TrainWriteToCSV/Write/WriteImpl/GroupByKey/Read\n",
            "INFO:apache_beam.runners.dataflow.dataflow_runner:2022-07-10T21:34:22.377Z: JOB_MESSAGE_DEBUG: Workflow config is missing a default resource spec.\n",
            "INFO:apache_beam.runners.dataflow.dataflow_runner:2022-07-10T21:34:22.404Z: JOB_MESSAGE_DEBUG: Adding StepResource setup and teardown to workflow graph.\n",
            "INFO:apache_beam.runners.dataflow.dataflow_runner:2022-07-10T21:34:22.437Z: JOB_MESSAGE_DEBUG: Adding workflow start and stop steps.\n",
            "INFO:apache_beam.runners.dataflow.dataflow_runner:2022-07-10T21:34:22.471Z: JOB_MESSAGE_DEBUG: Assigning stage ids.\n",
            "INFO:apache_beam.runners.dataflow.dataflow_runner:2022-07-10T21:34:22.663Z: JOB_MESSAGE_DEBUG: Executing wait step start28\n",
            "INFO:apache_beam.runners.dataflow.dataflow_runner:2022-07-10T21:34:22.743Z: JOB_MESSAGE_BASIC: Executing operation TrainWriteToCSV/Write/WriteImpl/DoOnce/Impulse+TrainWriteToCSV/Write/WriteImpl/DoOnce/FlatMap(<lambda at core.py:2826>)+TrainWriteToCSV/Write/WriteImpl/DoOnce/Map(decode)+TrainWriteToCSV/Write/WriteImpl/InitializeWrite\n",
            "INFO:apache_beam.runners.dataflow.dataflow_runner:2022-07-10T21:34:22.775Z: JOB_MESSAGE_BASIC: Executing operation ReadTwitterData/Read/_SDFBoundedSourceWrapper/Impulse+ref_AppliedPTransform_ReadTwitterData/Read/_SDFBoundedSourceWrapper/ParDo(SDFBoundedSourceDoFn)_6/PairWithRestriction+ref_AppliedPTransform_ReadTwitterData/Read/_SDFBoundedSourceWrapper/ParDo(SDFBoundedSourceDoFn)_6/SplitWithSizing\n",
            "INFO:apache_beam.runners.dataflow.dataflow_runner:2022-07-10T21:34:22.788Z: JOB_MESSAGE_DEBUG: Starting worker pool setup.\n",
            "INFO:apache_beam.runners.dataflow.dataflow_runner:2022-07-10T21:34:22.797Z: JOB_MESSAGE_BASIC: Executing operation EvalWriteToCSV/Write/WriteImpl/DoOnce/Impulse+EvalWriteToCSV/Write/WriteImpl/DoOnce/FlatMap(<lambda at core.py:2826>)+EvalWriteToCSV/Write/WriteImpl/DoOnce/Map(decode)+EvalWriteToCSV/Write/WriteImpl/InitializeWrite\n",
            "INFO:apache_beam.runners.dataflow.dataflow_runner:2022-07-10T21:34:22.819Z: JOB_MESSAGE_BASIC: Starting 1 workers in europe-west1-b...\n",
            "INFO:apache_beam.runners.dataflow.dataflow_runner:Job 2022-07-10_14_34_16-6899199771411690041 is in state JOB_STATE_RUNNING\n",
            "INFO:apache_beam.runners.dataflow.dataflow_runner:2022-07-10T21:35:05.866Z: JOB_MESSAGE_DETAILED: Autoscaling: Raised the number of workers to 1 based on the rate of progress in the currently running stage(s).\n",
            "INFO:apache_beam.runners.dataflow.dataflow_runner:2022-07-10T21:35:40.154Z: JOB_MESSAGE_DETAILED: Workers have started successfully.\n",
            "INFO:apache_beam.runners.dataflow.dataflow_runner:2022-07-10T21:40:38.262Z: JOB_MESSAGE_BASIC: Finished operation TrainWriteToCSV/Write/WriteImpl/DoOnce/Impulse+TrainWriteToCSV/Write/WriteImpl/DoOnce/FlatMap(<lambda at core.py:2826>)+TrainWriteToCSV/Write/WriteImpl/DoOnce/Map(decode)+TrainWriteToCSV/Write/WriteImpl/InitializeWrite\n",
            "INFO:apache_beam.runners.dataflow.dataflow_runner:2022-07-10T21:40:38.325Z: JOB_MESSAGE_DEBUG: Value \"TrainWriteToCSV/Write/WriteImpl/DoOnce/Map(decode).None\" materialized.\n",
            "INFO:apache_beam.runners.dataflow.dataflow_runner:2022-07-10T21:40:38.358Z: JOB_MESSAGE_DEBUG: Value \"TrainWriteToCSV/Write/WriteImpl/InitializeWrite.None\" materialized.\n",
            "INFO:apache_beam.runners.dataflow.dataflow_runner:2022-07-10T21:40:38.429Z: JOB_MESSAGE_BASIC: Executing operation TrainWriteToCSV/Write/WriteImpl/WriteBundles/View-python_side_input0-TrainWriteToCSV/Write/WriteImpl/WriteBundles\n",
            "INFO:apache_beam.runners.dataflow.dataflow_runner:2022-07-10T21:40:38.462Z: JOB_MESSAGE_BASIC: Executing operation TrainWriteToCSV/Write/WriteImpl/FinalizeWrite/View-python_side_input0-TrainWriteToCSV/Write/WriteImpl/FinalizeWrite\n",
            "INFO:apache_beam.runners.dataflow.dataflow_runner:2022-07-10T21:40:38.497Z: JOB_MESSAGE_BASIC: Executing operation TrainWriteToCSV/Write/WriteImpl/PreFinalize/View-python_side_input0-TrainWriteToCSV/Write/WriteImpl/PreFinalize\n",
            "INFO:apache_beam.runners.dataflow.dataflow_runner:2022-07-10T21:40:38.502Z: JOB_MESSAGE_BASIC: Finished operation TrainWriteToCSV/Write/WriteImpl/WriteBundles/View-python_side_input0-TrainWriteToCSV/Write/WriteImpl/WriteBundles\n",
            "INFO:apache_beam.runners.dataflow.dataflow_runner:2022-07-10T21:40:38.514Z: JOB_MESSAGE_BASIC: Finished operation TrainWriteToCSV/Write/WriteImpl/FinalizeWrite/View-python_side_input0-TrainWriteToCSV/Write/WriteImpl/FinalizeWrite\n",
            "INFO:apache_beam.runners.dataflow.dataflow_runner:2022-07-10T21:40:38.558Z: JOB_MESSAGE_BASIC: Finished operation TrainWriteToCSV/Write/WriteImpl/PreFinalize/View-python_side_input0-TrainWriteToCSV/Write/WriteImpl/PreFinalize\n",
            "INFO:apache_beam.runners.dataflow.dataflow_runner:2022-07-10T21:40:38.588Z: JOB_MESSAGE_DEBUG: Value \"TrainWriteToCSV/Write/WriteImpl/WriteBundles/View-python_side_input0-TrainWriteToCSV/Write/WriteImpl/WriteBundles.out\" materialized.\n",
            "INFO:apache_beam.runners.dataflow.dataflow_runner:2022-07-10T21:40:38.614Z: JOB_MESSAGE_DEBUG: Value \"TrainWriteToCSV/Write/WriteImpl/FinalizeWrite/View-python_side_input0-TrainWriteToCSV/Write/WriteImpl/FinalizeWrite.out\" materialized.\n",
            "INFO:apache_beam.runners.dataflow.dataflow_runner:2022-07-10T21:40:38.636Z: JOB_MESSAGE_DEBUG: Value \"TrainWriteToCSV/Write/WriteImpl/PreFinalize/View-python_side_input0-TrainWriteToCSV/Write/WriteImpl/PreFinalize.out\" materialized.\n",
            "INFO:apache_beam.runners.dataflow.dataflow_runner:2022-07-10T21:40:42.316Z: JOB_MESSAGE_BASIC: Finished operation ReadTwitterData/Read/_SDFBoundedSourceWrapper/Impulse+ref_AppliedPTransform_ReadTwitterData/Read/_SDFBoundedSourceWrapper/ParDo(SDFBoundedSourceDoFn)_6/PairWithRestriction+ref_AppliedPTransform_ReadTwitterData/Read/_SDFBoundedSourceWrapper/ParDo(SDFBoundedSourceDoFn)_6/SplitWithSizing\n",
            "INFO:apache_beam.runners.dataflow.dataflow_runner:2022-07-10T21:40:42.417Z: JOB_MESSAGE_DEBUG: Value \"ref_AppliedPTransform_ReadTwitterData/Read/_SDFBoundedSourceWrapper/ParDo(SDFBoundedSourceDoFn)_6-split-with-sizing-out3\" materialized.\n",
            "INFO:apache_beam.runners.dataflow.dataflow_runner:2022-07-10T21:40:45.950Z: JOB_MESSAGE_BASIC: Finished operation EvalWriteToCSV/Write/WriteImpl/DoOnce/Impulse+EvalWriteToCSV/Write/WriteImpl/DoOnce/FlatMap(<lambda at core.py:2826>)+EvalWriteToCSV/Write/WriteImpl/DoOnce/Map(decode)+EvalWriteToCSV/Write/WriteImpl/InitializeWrite\n",
            "INFO:apache_beam.runners.dataflow.dataflow_runner:2022-07-10T21:40:46.028Z: JOB_MESSAGE_DEBUG: Value \"EvalWriteToCSV/Write/WriteImpl/DoOnce/Map(decode).None\" materialized.\n",
            "INFO:apache_beam.runners.dataflow.dataflow_runner:2022-07-10T21:40:46.059Z: JOB_MESSAGE_DEBUG: Value \"EvalWriteToCSV/Write/WriteImpl/InitializeWrite.None\" materialized.\n",
            "INFO:apache_beam.runners.dataflow.dataflow_runner:2022-07-10T21:40:46.137Z: JOB_MESSAGE_BASIC: Executing operation EvalWriteToCSV/Write/WriteImpl/WriteBundles/View-python_side_input0-EvalWriteToCSV/Write/WriteImpl/WriteBundles\n",
            "INFO:apache_beam.runners.dataflow.dataflow_runner:2022-07-10T21:40:46.171Z: JOB_MESSAGE_BASIC: Executing operation EvalWriteToCSV/Write/WriteImpl/FinalizeWrite/View-python_side_input0-EvalWriteToCSV/Write/WriteImpl/FinalizeWrite\n",
            "INFO:apache_beam.runners.dataflow.dataflow_runner:2022-07-10T21:40:46.195Z: JOB_MESSAGE_BASIC: Executing operation EvalWriteToCSV/Write/WriteImpl/PreFinalize/View-python_side_input0-EvalWriteToCSV/Write/WriteImpl/PreFinalize\n",
            "INFO:apache_beam.runners.dataflow.dataflow_runner:2022-07-10T21:40:46.199Z: JOB_MESSAGE_BASIC: Finished operation EvalWriteToCSV/Write/WriteImpl/WriteBundles/View-python_side_input0-EvalWriteToCSV/Write/WriteImpl/WriteBundles\n",
            "INFO:apache_beam.runners.dataflow.dataflow_runner:2022-07-10T21:40:46.256Z: JOB_MESSAGE_DEBUG: Value \"EvalWriteToCSV/Write/WriteImpl/WriteBundles/View-python_side_input0-EvalWriteToCSV/Write/WriteImpl/WriteBundles.out\" materialized.\n",
            "INFO:apache_beam.runners.dataflow.dataflow_runner:2022-07-10T21:40:46.258Z: JOB_MESSAGE_BASIC: Finished operation EvalWriteToCSV/Write/WriteImpl/PreFinalize/View-python_side_input0-EvalWriteToCSV/Write/WriteImpl/PreFinalize\n",
            "INFO:apache_beam.runners.dataflow.dataflow_runner:2022-07-10T21:40:46.263Z: JOB_MESSAGE_BASIC: Finished operation EvalWriteToCSV/Write/WriteImpl/FinalizeWrite/View-python_side_input0-EvalWriteToCSV/Write/WriteImpl/FinalizeWrite\n",
            "INFO:apache_beam.runners.dataflow.dataflow_runner:2022-07-10T21:40:46.329Z: JOB_MESSAGE_DEBUG: Value \"EvalWriteToCSV/Write/WriteImpl/FinalizeWrite/View-python_side_input0-EvalWriteToCSV/Write/WriteImpl/FinalizeWrite.out\" materialized.\n",
            "INFO:apache_beam.runners.dataflow.dataflow_runner:2022-07-10T21:40:46.352Z: JOB_MESSAGE_DEBUG: Value \"EvalWriteToCSV/Write/WriteImpl/PreFinalize/View-python_side_input0-EvalWriteToCSV/Write/WriteImpl/PreFinalize.out\" materialized.\n",
            "INFO:apache_beam.runners.dataflow.dataflow_runner:2022-07-10T21:40:46.373Z: JOB_MESSAGE_BASIC: Executing operation EvalWriteToCSV/Write/WriteImpl/GroupByKey/Create\n",
            "INFO:apache_beam.runners.dataflow.dataflow_runner:2022-07-10T21:40:46.431Z: JOB_MESSAGE_BASIC: Executing operation TrainWriteToCSV/Write/WriteImpl/GroupByKey/Create\n",
            "INFO:apache_beam.runners.dataflow.dataflow_runner:2022-07-10T21:40:48.860Z: JOB_MESSAGE_BASIC: Finished operation EvalWriteToCSV/Write/WriteImpl/GroupByKey/Create\n",
            "INFO:apache_beam.runners.dataflow.dataflow_runner:2022-07-10T21:40:48.929Z: JOB_MESSAGE_DEBUG: Value \"EvalWriteToCSV/Write/WriteImpl/GroupByKey/Session\" materialized.\n",
            "INFO:apache_beam.runners.dataflow.dataflow_runner:2022-07-10T21:40:51.901Z: JOB_MESSAGE_BASIC: Finished operation TrainWriteToCSV/Write/WriteImpl/GroupByKey/Create\n",
            "INFO:apache_beam.runners.dataflow.dataflow_runner:2022-07-10T21:40:51.961Z: JOB_MESSAGE_DEBUG: Value \"TrainWriteToCSV/Write/WriteImpl/GroupByKey/Session\" materialized.\n",
            "INFO:apache_beam.runners.dataflow.dataflow_runner:2022-07-10T21:40:52.030Z: JOB_MESSAGE_BASIC: Executing operation ref_AppliedPTransform_ReadTwitterData/Read/_SDFBoundedSourceWrapper/ParDo(SDFBoundedSourceDoFn)_6/ProcessElementAndRestrictionWithSizing+ExtractColumns+Preprocess+Split dataset/ParDo(ApplyPartitionFnFn)/ParDo(ApplyPartitionFnFn)+EvalWriteToCSV/Write/WriteImpl/WindowInto(WindowIntoFn)+EvalWriteToCSV/Write/WriteImpl/WriteBundles+EvalWriteToCSV/Write/WriteImpl/Pair+EvalWriteToCSV/Write/WriteImpl/GroupByKey/Write+TrainWriteToCSV/Write/WriteImpl/WindowInto(WindowIntoFn)+TrainWriteToCSV/Write/WriteImpl/WriteBundles+TrainWriteToCSV/Write/WriteImpl/Pair+TrainWriteToCSV/Write/WriteImpl/GroupByKey/Write\n",
            "INFO:apache_beam.runners.dataflow.dataflow_runner:2022-07-10T21:41:15.505Z: JOB_MESSAGE_BASIC: Finished operation ref_AppliedPTransform_ReadTwitterData/Read/_SDFBoundedSourceWrapper/ParDo(SDFBoundedSourceDoFn)_6/ProcessElementAndRestrictionWithSizing+ExtractColumns+Preprocess+Split dataset/ParDo(ApplyPartitionFnFn)/ParDo(ApplyPartitionFnFn)+EvalWriteToCSV/Write/WriteImpl/WindowInto(WindowIntoFn)+EvalWriteToCSV/Write/WriteImpl/WriteBundles+EvalWriteToCSV/Write/WriteImpl/Pair+EvalWriteToCSV/Write/WriteImpl/GroupByKey/Write+TrainWriteToCSV/Write/WriteImpl/WindowInto(WindowIntoFn)+TrainWriteToCSV/Write/WriteImpl/WriteBundles+TrainWriteToCSV/Write/WriteImpl/Pair+TrainWriteToCSV/Write/WriteImpl/GroupByKey/Write\n",
            "INFO:apache_beam.runners.dataflow.dataflow_runner:2022-07-10T21:41:15.608Z: JOB_MESSAGE_BASIC: Executing operation EvalWriteToCSV/Write/WriteImpl/GroupByKey/Close\n",
            "INFO:apache_beam.runners.dataflow.dataflow_runner:2022-07-10T21:41:15.631Z: JOB_MESSAGE_BASIC: Executing operation TrainWriteToCSV/Write/WriteImpl/GroupByKey/Close\n",
            "INFO:apache_beam.runners.dataflow.dataflow_runner:2022-07-10T21:41:15.690Z: JOB_MESSAGE_BASIC: Finished operation TrainWriteToCSV/Write/WriteImpl/GroupByKey/Close\n",
            "INFO:apache_beam.runners.dataflow.dataflow_runner:2022-07-10T21:41:15.753Z: JOB_MESSAGE_BASIC: Executing operation TrainWriteToCSV/Write/WriteImpl/GroupByKey/Read+TrainWriteToCSV/Write/WriteImpl/Extract\n",
            "INFO:apache_beam.runners.dataflow.dataflow_runner:2022-07-10T21:41:16.118Z: JOB_MESSAGE_BASIC: Finished operation EvalWriteToCSV/Write/WriteImpl/GroupByKey/Close\n",
            "INFO:apache_beam.runners.dataflow.dataflow_runner:2022-07-10T21:41:16.183Z: JOB_MESSAGE_BASIC: Executing operation EvalWriteToCSV/Write/WriteImpl/GroupByKey/Read+EvalWriteToCSV/Write/WriteImpl/Extract\n",
            "INFO:apache_beam.runners.dataflow.dataflow_runner:2022-07-10T21:41:19.237Z: JOB_MESSAGE_BASIC: Finished operation TrainWriteToCSV/Write/WriteImpl/GroupByKey/Read+TrainWriteToCSV/Write/WriteImpl/Extract\n",
            "INFO:apache_beam.runners.dataflow.dataflow_runner:2022-07-10T21:41:19.305Z: JOB_MESSAGE_DEBUG: Value \"TrainWriteToCSV/Write/WriteImpl/Extract.None\" materialized.\n",
            "INFO:apache_beam.runners.dataflow.dataflow_runner:2022-07-10T21:41:19.357Z: JOB_MESSAGE_BASIC: Executing operation TrainWriteToCSV/Write/WriteImpl/FinalizeWrite/View-python_side_input1-TrainWriteToCSV/Write/WriteImpl/FinalizeWrite\n",
            "INFO:apache_beam.runners.dataflow.dataflow_runner:2022-07-10T21:41:19.418Z: JOB_MESSAGE_BASIC: Finished operation TrainWriteToCSV/Write/WriteImpl/FinalizeWrite/View-python_side_input1-TrainWriteToCSV/Write/WriteImpl/FinalizeWrite\n",
            "INFO:apache_beam.runners.dataflow.dataflow_runner:2022-07-10T21:41:19.422Z: JOB_MESSAGE_BASIC: Executing operation TrainWriteToCSV/Write/WriteImpl/PreFinalize/View-python_side_input1-TrainWriteToCSV/Write/WriteImpl/PreFinalize\n",
            "INFO:apache_beam.runners.dataflow.dataflow_runner:2022-07-10T21:41:19.479Z: JOB_MESSAGE_DEBUG: Value \"TrainWriteToCSV/Write/WriteImpl/FinalizeWrite/View-python_side_input1-TrainWriteToCSV/Write/WriteImpl/FinalizeWrite.out\" materialized.\n",
            "INFO:apache_beam.runners.dataflow.dataflow_runner:2022-07-10T21:41:19.487Z: JOB_MESSAGE_BASIC: Finished operation TrainWriteToCSV/Write/WriteImpl/PreFinalize/View-python_side_input1-TrainWriteToCSV/Write/WriteImpl/PreFinalize\n",
            "INFO:apache_beam.runners.dataflow.dataflow_runner:2022-07-10T21:41:19.548Z: JOB_MESSAGE_DEBUG: Value \"TrainWriteToCSV/Write/WriteImpl/PreFinalize/View-python_side_input1-TrainWriteToCSV/Write/WriteImpl/PreFinalize.out\" materialized.\n",
            "INFO:apache_beam.runners.dataflow.dataflow_runner:2022-07-10T21:41:19.648Z: JOB_MESSAGE_BASIC: Executing operation TrainWriteToCSV/Write/WriteImpl/PreFinalize\n",
            "INFO:apache_beam.runners.dataflow.dataflow_runner:2022-07-10T21:41:22.815Z: JOB_MESSAGE_BASIC: Finished operation EvalWriteToCSV/Write/WriteImpl/GroupByKey/Read+EvalWriteToCSV/Write/WriteImpl/Extract\n",
            "INFO:apache_beam.runners.dataflow.dataflow_runner:2022-07-10T21:41:22.879Z: JOB_MESSAGE_DEBUG: Value \"EvalWriteToCSV/Write/WriteImpl/Extract.None\" materialized.\n",
            "INFO:apache_beam.runners.dataflow.dataflow_runner:2022-07-10T21:41:22.934Z: JOB_MESSAGE_BASIC: Executing operation EvalWriteToCSV/Write/WriteImpl/FinalizeWrite/View-python_side_input1-EvalWriteToCSV/Write/WriteImpl/FinalizeWrite\n",
            "INFO:apache_beam.runners.dataflow.dataflow_runner:2022-07-10T21:41:22.968Z: JOB_MESSAGE_BASIC: Executing operation EvalWriteToCSV/Write/WriteImpl/PreFinalize/View-python_side_input1-EvalWriteToCSV/Write/WriteImpl/PreFinalize\n",
            "INFO:apache_beam.runners.dataflow.dataflow_runner:2022-07-10T21:41:22.995Z: JOB_MESSAGE_BASIC: Finished operation EvalWriteToCSV/Write/WriteImpl/FinalizeWrite/View-python_side_input1-EvalWriteToCSV/Write/WriteImpl/FinalizeWrite\n",
            "INFO:apache_beam.runners.dataflow.dataflow_runner:2022-07-10T21:41:23.030Z: JOB_MESSAGE_BASIC: Finished operation EvalWriteToCSV/Write/WriteImpl/PreFinalize/View-python_side_input1-EvalWriteToCSV/Write/WriteImpl/PreFinalize\n",
            "INFO:apache_beam.runners.dataflow.dataflow_runner:2022-07-10T21:41:23.047Z: JOB_MESSAGE_DEBUG: Value \"EvalWriteToCSV/Write/WriteImpl/FinalizeWrite/View-python_side_input1-EvalWriteToCSV/Write/WriteImpl/FinalizeWrite.out\" materialized.\n",
            "INFO:apache_beam.runners.dataflow.dataflow_runner:2022-07-10T21:41:23.096Z: JOB_MESSAGE_DEBUG: Value \"EvalWriteToCSV/Write/WriteImpl/PreFinalize/View-python_side_input1-EvalWriteToCSV/Write/WriteImpl/PreFinalize.out\" materialized.\n",
            "INFO:apache_beam.runners.dataflow.dataflow_runner:2022-07-10T21:41:23.151Z: JOB_MESSAGE_BASIC: Executing operation EvalWriteToCSV/Write/WriteImpl/PreFinalize\n",
            "INFO:apache_beam.runners.dataflow.dataflow_runner:2022-07-10T21:41:26.778Z: JOB_MESSAGE_BASIC: Finished operation TrainWriteToCSV/Write/WriteImpl/PreFinalize\n",
            "INFO:apache_beam.runners.dataflow.dataflow_runner:2022-07-10T21:41:26.826Z: JOB_MESSAGE_DEBUG: Value \"TrainWriteToCSV/Write/WriteImpl/PreFinalize.None\" materialized.\n",
            "INFO:apache_beam.runners.dataflow.dataflow_runner:2022-07-10T21:41:26.894Z: JOB_MESSAGE_BASIC: Executing operation TrainWriteToCSV/Write/WriteImpl/FinalizeWrite/View-python_side_input2-TrainWriteToCSV/Write/WriteImpl/FinalizeWrite\n",
            "INFO:apache_beam.runners.dataflow.dataflow_runner:2022-07-10T21:41:27.112Z: JOB_MESSAGE_BASIC: Finished operation TrainWriteToCSV/Write/WriteImpl/FinalizeWrite/View-python_side_input2-TrainWriteToCSV/Write/WriteImpl/FinalizeWrite\n",
            "INFO:apache_beam.runners.dataflow.dataflow_runner:2022-07-10T21:41:27.178Z: JOB_MESSAGE_DEBUG: Value \"TrainWriteToCSV/Write/WriteImpl/FinalizeWrite/View-python_side_input2-TrainWriteToCSV/Write/WriteImpl/FinalizeWrite.out\" materialized.\n",
            "INFO:apache_beam.runners.dataflow.dataflow_runner:2022-07-10T21:41:27.239Z: JOB_MESSAGE_BASIC: Executing operation TrainWriteToCSV/Write/WriteImpl/FinalizeWrite\n",
            "INFO:apache_beam.runners.dataflow.dataflow_runner:2022-07-10T21:41:29.841Z: JOB_MESSAGE_BASIC: Finished operation TrainWriteToCSV/Write/WriteImpl/FinalizeWrite\n",
            "INFO:apache_beam.runners.dataflow.dataflow_runner:2022-07-10T21:41:33.767Z: JOB_MESSAGE_BASIC: Finished operation EvalWriteToCSV/Write/WriteImpl/PreFinalize\n",
            "INFO:apache_beam.runners.dataflow.dataflow_runner:2022-07-10T21:41:33.833Z: JOB_MESSAGE_DEBUG: Value \"EvalWriteToCSV/Write/WriteImpl/PreFinalize.None\" materialized.\n",
            "INFO:apache_beam.runners.dataflow.dataflow_runner:2022-07-10T21:41:33.889Z: JOB_MESSAGE_BASIC: Executing operation EvalWriteToCSV/Write/WriteImpl/FinalizeWrite/View-python_side_input2-EvalWriteToCSV/Write/WriteImpl/FinalizeWrite\n",
            "INFO:apache_beam.runners.dataflow.dataflow_runner:2022-07-10T21:41:33.945Z: JOB_MESSAGE_BASIC: Finished operation EvalWriteToCSV/Write/WriteImpl/FinalizeWrite/View-python_side_input2-EvalWriteToCSV/Write/WriteImpl/FinalizeWrite\n",
            "INFO:apache_beam.runners.dataflow.dataflow_runner:2022-07-10T21:41:34.003Z: JOB_MESSAGE_DEBUG: Value \"EvalWriteToCSV/Write/WriteImpl/FinalizeWrite/View-python_side_input2-EvalWriteToCSV/Write/WriteImpl/FinalizeWrite.out\" materialized.\n",
            "INFO:apache_beam.runners.dataflow.dataflow_runner:2022-07-10T21:41:34.066Z: JOB_MESSAGE_BASIC: Executing operation EvalWriteToCSV/Write/WriteImpl/FinalizeWrite\n",
            "INFO:apache_beam.runners.dataflow.dataflow_runner:2022-07-10T21:41:37.239Z: JOB_MESSAGE_BASIC: Finished operation EvalWriteToCSV/Write/WriteImpl/FinalizeWrite\n",
            "INFO:apache_beam.runners.dataflow.dataflow_runner:2022-07-10T21:41:37.304Z: JOB_MESSAGE_DEBUG: Executing success step success26\n",
            "INFO:apache_beam.runners.dataflow.dataflow_runner:2022-07-10T21:41:37.453Z: JOB_MESSAGE_DETAILED: Cleaning up.\n",
            "INFO:apache_beam.runners.dataflow.dataflow_runner:2022-07-10T21:41:37.578Z: JOB_MESSAGE_DEBUG: Starting worker pool teardown.\n",
            "INFO:apache_beam.runners.dataflow.dataflow_runner:2022-07-10T21:41:37.612Z: JOB_MESSAGE_BASIC: Stopping worker pool...\n",
            "INFO:apache_beam.runners.dataflow.dataflow_runner:2022-07-10T21:42:30.657Z: JOB_MESSAGE_DETAILED: Autoscaling: Resized worker pool from 1 to 0.\n",
            "INFO:apache_beam.runners.dataflow.dataflow_runner:2022-07-10T21:42:30.702Z: JOB_MESSAGE_BASIC: Worker pool stopped.\n",
            "INFO:apache_beam.runners.dataflow.dataflow_runner:2022-07-10T21:42:30.724Z: JOB_MESSAGE_DEBUG: Tearing down pending resources...\n",
            "INFO:apache_beam.runners.dataflow.dataflow_runner:Job 2022-07-10_14_34_16-6899199771411690041 is in state JOB_STATE_DONE\n"
          ]
        }
      ]
    },
    {
      "cell_type": "markdown",
      "metadata": {
        "id": "8czKRMb99ZRX"
      },
      "source": [
        "### Validación preprocess test en Dataflow (0.25 puntos)\n",
        "\n",
        "Con el comando mostrado a continuación se valida la correcta generación de los datos de test en GCP con el servicio DataFlow."
      ]
    },
    {
      "cell_type": "code",
      "metadata": {
        "id": "45mfSRGdQLBO",
        "outputId": "73624273-4420-4386-8465-26f2d97d3eae",
        "colab": {
          "base_uri": "https://localhost:8080/"
        }
      },
      "source": [
        "! python3 preprocess.py \\\n",
        "  --project $PROJECT_ID \\\n",
        "  --region $GCP_REGION \\\n",
        "  --runner DataflowRunner \\\n",
        "  --temp_location $GCP_WORK_DIR/beam-temp \\\n",
        "  --setup_file ./setup.py \\\n",
        "  --work-dir $GCP_WORK_DIR \\\n",
        "  --input $GCP_WORK_DIR/data.json \\\n",
        "  --output $GCP_WORK_DIR/transformed_data \\\n",
        "  --mode test"
      ],
      "execution_count": 34,
      "outputs": [
        {
          "output_type": "stream",
          "name": "stdout",
          "text": [
            "[nltk_data] Downloading package stopwords to /root/nltk_data...\n",
            "[nltk_data]   Package stopwords is already up-to-date!\n",
            "INFO:apache_beam.internal.gcp.auth:Setting socket default timeout to 60 seconds.\n",
            "INFO:apache_beam.internal.gcp.auth:socket default timeout is 60.0 seconds.\n",
            "INFO:oauth2client.transport:Attempting refresh to obtain initial access_token\n",
            "INFO:apache_beam.runners.portability.stager:Executing command: ['/usr/bin/python3', 'setup.py', 'sdist', '--dist-dir', '/tmp/tmpr3_6qq5a']\n",
            "warning: sdist: standard file not found: should have one of README, README.rst, README.txt, README.md\n",
            "\n",
            "warning: check: missing required meta-data: url\n",
            "\n",
            "warning: check: missing meta-data: either (author and author_email) or (maintainer and maintainer_email) must be supplied\n",
            "\n",
            "INFO:apache_beam.runners.portability.stager:Downloading source distribution of the SDK from PyPi\n",
            "INFO:apache_beam.runners.portability.stager:Executing command: ['/usr/bin/python3', '-m', 'pip', 'download', '--dest', '/tmp/tmpr3_6qq5a', 'apache-beam==2.24.0', '--no-deps', '--no-binary', ':all:']\n",
            "INFO:apache_beam.runners.portability.stager:Staging SDK sources from PyPI: dataflow_python_sdk.tar\n",
            "INFO:apache_beam.runners.portability.stager:Downloading binary distribution of the SDK from PyPi\n",
            "INFO:apache_beam.runners.portability.stager:Executing command: ['/usr/bin/python3', '-m', 'pip', 'download', '--dest', '/tmp/tmpr3_6qq5a', 'apache-beam==2.24.0', '--no-deps', '--only-binary', ':all:', '--python-version', '37', '--implementation', 'cp', '--abi', 'cp37m', '--platform', 'manylinux1_x86_64']\n",
            "INFO:apache_beam.runners.portability.stager:Staging binary distribution of the SDK from PyPI: apache_beam-2.24.0-cp37-cp37m-manylinux1_x86_64.whl\n",
            "WARNING:root:Make sure that locally built Python SDK docker image has Python 3.7 interpreter.\n",
            "INFO:root:Using Python SDK docker image: apache/beam_python3.7_sdk:2.24.0. If the image is not available at local, we will try to pull from hub.docker.com\n",
            "INFO:apache_beam.runners.dataflow.internal.apiclient:Defaulting to the temp_location as staging_location: gs://practica-veronica/beam-temp\n",
            "INFO:apache_beam.runners.dataflow.internal.apiclient:Starting GCS upload to gs://practica-veronica/beam-temp/beamapp-root-0710214406-784940.1657489446.785313/pipeline.pb...\n",
            "INFO:apache_beam.runners.dataflow.internal.apiclient:Completed GCS upload to gs://practica-veronica/beam-temp/beamapp-root-0710214406-784940.1657489446.785313/pipeline.pb in 0 seconds.\n",
            "INFO:apache_beam.runners.dataflow.internal.apiclient:Starting GCS upload to gs://practica-veronica/beam-temp/beamapp-root-0710214406-784940.1657489446.785313/workflow.tar.gz...\n",
            "INFO:apache_beam.runners.dataflow.internal.apiclient:Completed GCS upload to gs://practica-veronica/beam-temp/beamapp-root-0710214406-784940.1657489446.785313/workflow.tar.gz in 0 seconds.\n",
            "INFO:apache_beam.runners.dataflow.internal.apiclient:Starting GCS upload to gs://practica-veronica/beam-temp/beamapp-root-0710214406-784940.1657489446.785313/pickled_main_session...\n",
            "INFO:apache_beam.runners.dataflow.internal.apiclient:Completed GCS upload to gs://practica-veronica/beam-temp/beamapp-root-0710214406-784940.1657489446.785313/pickled_main_session in 0 seconds.\n",
            "INFO:apache_beam.runners.dataflow.internal.apiclient:Starting GCS upload to gs://practica-veronica/beam-temp/beamapp-root-0710214406-784940.1657489446.785313/dataflow_python_sdk.tar...\n",
            "INFO:apache_beam.runners.dataflow.internal.apiclient:Completed GCS upload to gs://practica-veronica/beam-temp/beamapp-root-0710214406-784940.1657489446.785313/dataflow_python_sdk.tar in 0 seconds.\n",
            "INFO:apache_beam.runners.dataflow.internal.apiclient:Starting GCS upload to gs://practica-veronica/beam-temp/beamapp-root-0710214406-784940.1657489446.785313/apache_beam-2.24.0-cp37-cp37m-manylinux1_x86_64.whl...\n",
            "INFO:apache_beam.runners.dataflow.internal.apiclient:Completed GCS upload to gs://practica-veronica/beam-temp/beamapp-root-0710214406-784940.1657489446.785313/apache_beam-2.24.0-cp37-cp37m-manylinux1_x86_64.whl in 4 seconds.\n",
            "INFO:apache_beam.runners.dataflow.internal.apiclient:Create job: <Job\n",
            " createTime: '2022-07-10T21:44:14.126791Z'\n",
            " currentStateTime: '1970-01-01T00:00:00Z'\n",
            " id: '2022-07-10_14_44_13-2845257578077327364'\n",
            " location: 'europe-west1'\n",
            " name: 'beamapp-root-0710214406-784940'\n",
            " projectId: 'practica-veronica'\n",
            " stageStates: []\n",
            " startTime: '2022-07-10T21:44:14.126791Z'\n",
            " steps: []\n",
            " tempFiles: []\n",
            " type: TypeValueValuesEnum(JOB_TYPE_BATCH, 1)>\n",
            "INFO:apache_beam.runners.dataflow.internal.apiclient:Created job with id: [2022-07-10_14_44_13-2845257578077327364]\n",
            "INFO:apache_beam.runners.dataflow.internal.apiclient:Submitted job: 2022-07-10_14_44_13-2845257578077327364\n",
            "INFO:apache_beam.runners.dataflow.internal.apiclient:To access the Dataflow monitoring console, please navigate to https://console.cloud.google.com/dataflow/jobs/europe-west1/2022-07-10_14_44_13-2845257578077327364?project=practica-veronica\n",
            "INFO:apache_beam.runners.dataflow.dataflow_runner:Job 2022-07-10_14_44_13-2845257578077327364 is in state JOB_STATE_PENDING\n",
            "INFO:apache_beam.runners.dataflow.dataflow_runner:2022-07-10T21:44:13.452Z: JOB_MESSAGE_BASIC: Dataflow Runner V2 auto-enabled. Use --experiments=disable_runner_v2 to opt out.\n",
            "INFO:apache_beam.runners.dataflow.dataflow_runner:2022-07-10T21:44:14.605Z: JOB_MESSAGE_DETAILED: Autoscaling is enabled for job 2022-07-10_14_44_13-2845257578077327364. The number of workers will be between 1 and 1000.\n",
            "INFO:apache_beam.runners.dataflow.dataflow_runner:2022-07-10T21:44:14.649Z: JOB_MESSAGE_DETAILED: Autoscaling was automatically enabled for job 2022-07-10_14_44_13-2845257578077327364.\n",
            "INFO:apache_beam.runners.dataflow.dataflow_runner:2022-07-10T21:44:16.475Z: JOB_MESSAGE_BASIC: Worker configuration: n1-standard-1 in europe-west1-d.\n",
            "INFO:apache_beam.runners.dataflow.dataflow_runner:2022-07-10T21:44:17.302Z: JOB_MESSAGE_DETAILED: Expanding SplittableParDo operations into optimizable parts.\n",
            "INFO:apache_beam.runners.dataflow.dataflow_runner:2022-07-10T21:44:17.333Z: JOB_MESSAGE_DETAILED: Expanding CollectionToSingleton operations into optimizable parts.\n",
            "INFO:apache_beam.runners.dataflow.dataflow_runner:2022-07-10T21:44:17.397Z: JOB_MESSAGE_DETAILED: Expanding CoGroupByKey operations into optimizable parts.\n",
            "INFO:apache_beam.runners.dataflow.dataflow_runner:2022-07-10T21:44:17.460Z: JOB_MESSAGE_DEBUG: Combiner lifting skipped for step TestWriteToCSV/Write/WriteImpl/GroupByKey: GroupByKey not followed by a combiner.\n",
            "INFO:apache_beam.runners.dataflow.dataflow_runner:2022-07-10T21:44:17.506Z: JOB_MESSAGE_DETAILED: Expanding GroupByKey operations into optimizable parts.\n",
            "INFO:apache_beam.runners.dataflow.dataflow_runner:2022-07-10T21:44:17.540Z: JOB_MESSAGE_DEBUG: Annotating graph with Autotuner information.\n",
            "INFO:apache_beam.runners.dataflow.dataflow_runner:2022-07-10T21:44:17.598Z: JOB_MESSAGE_DETAILED: Fusing adjacent ParDo, Read, Write, and Flatten operations\n",
            "INFO:apache_beam.runners.dataflow.dataflow_runner:2022-07-10T21:44:17.625Z: JOB_MESSAGE_DETAILED: Fusing consumer TestWriteToCSV/Write/WriteImpl/InitializeWrite into TestWriteToCSV/Write/WriteImpl/DoOnce/Map(decode)\n",
            "INFO:apache_beam.runners.dataflow.dataflow_runner:2022-07-10T21:44:17.660Z: JOB_MESSAGE_DETAILED: Fusing consumer TestWriteToCSV/Write/WriteImpl/DoOnce/FlatMap(<lambda at core.py:2826>) into TestWriteToCSV/Write/WriteImpl/DoOnce/Impulse\n",
            "INFO:apache_beam.runners.dataflow.dataflow_runner:2022-07-10T21:44:17.685Z: JOB_MESSAGE_DETAILED: Fusing consumer TestWriteToCSV/Write/WriteImpl/DoOnce/Map(decode) into TestWriteToCSV/Write/WriteImpl/DoOnce/FlatMap(<lambda at core.py:2826>)\n",
            "INFO:apache_beam.runners.dataflow.dataflow_runner:2022-07-10T21:44:17.718Z: JOB_MESSAGE_DETAILED: Fusing consumer ref_AppliedPTransform_ReadTwitterData/Read/_SDFBoundedSourceWrapper/ParDo(SDFBoundedSourceDoFn)_6/PairWithRestriction into ReadTwitterData/Read/_SDFBoundedSourceWrapper/Impulse\n",
            "INFO:apache_beam.runners.dataflow.dataflow_runner:2022-07-10T21:44:17.743Z: JOB_MESSAGE_DETAILED: Fusing consumer ref_AppliedPTransform_ReadTwitterData/Read/_SDFBoundedSourceWrapper/ParDo(SDFBoundedSourceDoFn)_6/SplitWithSizing into ref_AppliedPTransform_ReadTwitterData/Read/_SDFBoundedSourceWrapper/ParDo(SDFBoundedSourceDoFn)_6/PairWithRestriction\n",
            "INFO:apache_beam.runners.dataflow.dataflow_runner:2022-07-10T21:44:17.780Z: JOB_MESSAGE_DETAILED: Fusing consumer ExtractColumns into ref_AppliedPTransform_ReadTwitterData/Read/_SDFBoundedSourceWrapper/ParDo(SDFBoundedSourceDoFn)_6/ProcessElementAndRestrictionWithSizing\n",
            "INFO:apache_beam.runners.dataflow.dataflow_runner:2022-07-10T21:44:17.810Z: JOB_MESSAGE_DETAILED: Fusing consumer Preprocess into ExtractColumns\n",
            "INFO:apache_beam.runners.dataflow.dataflow_runner:2022-07-10T21:44:17.834Z: JOB_MESSAGE_DETAILED: Fusing consumer TestWriteToCSV/Write/WriteImpl/WindowInto(WindowIntoFn) into Preprocess\n",
            "INFO:apache_beam.runners.dataflow.dataflow_runner:2022-07-10T21:44:17.871Z: JOB_MESSAGE_DETAILED: Fusing consumer TestWriteToCSV/Write/WriteImpl/WriteBundles into TestWriteToCSV/Write/WriteImpl/WindowInto(WindowIntoFn)\n",
            "INFO:apache_beam.runners.dataflow.dataflow_runner:2022-07-10T21:44:17.948Z: JOB_MESSAGE_DETAILED: Fusing consumer TestWriteToCSV/Write/WriteImpl/Pair into TestWriteToCSV/Write/WriteImpl/WriteBundles\n",
            "INFO:apache_beam.runners.dataflow.dataflow_runner:2022-07-10T21:44:17.970Z: JOB_MESSAGE_DETAILED: Fusing consumer TestWriteToCSV/Write/WriteImpl/GroupByKey/Write into TestWriteToCSV/Write/WriteImpl/Pair\n",
            "INFO:apache_beam.runners.dataflow.dataflow_runner:2022-07-10T21:44:18.001Z: JOB_MESSAGE_DETAILED: Fusing consumer TestWriteToCSV/Write/WriteImpl/Extract into TestWriteToCSV/Write/WriteImpl/GroupByKey/Read\n",
            "INFO:apache_beam.runners.dataflow.dataflow_runner:2022-07-10T21:44:18.027Z: JOB_MESSAGE_DEBUG: Workflow config is missing a default resource spec.\n",
            "INFO:apache_beam.runners.dataflow.dataflow_runner:2022-07-10T21:44:18.057Z: JOB_MESSAGE_DEBUG: Adding StepResource setup and teardown to workflow graph.\n",
            "INFO:apache_beam.runners.dataflow.dataflow_runner:2022-07-10T21:44:18.084Z: JOB_MESSAGE_DEBUG: Adding workflow start and stop steps.\n",
            "INFO:apache_beam.runners.dataflow.dataflow_runner:2022-07-10T21:44:18.107Z: JOB_MESSAGE_DEBUG: Assigning stage ids.\n",
            "INFO:apache_beam.runners.dataflow.dataflow_runner:2022-07-10T21:44:18.243Z: JOB_MESSAGE_DEBUG: Executing wait step start19\n",
            "INFO:apache_beam.runners.dataflow.dataflow_runner:2022-07-10T21:44:18.302Z: JOB_MESSAGE_BASIC: Executing operation ReadTwitterData/Read/_SDFBoundedSourceWrapper/Impulse+ref_AppliedPTransform_ReadTwitterData/Read/_SDFBoundedSourceWrapper/ParDo(SDFBoundedSourceDoFn)_6/PairWithRestriction+ref_AppliedPTransform_ReadTwitterData/Read/_SDFBoundedSourceWrapper/ParDo(SDFBoundedSourceDoFn)_6/SplitWithSizing\n",
            "INFO:apache_beam.runners.dataflow.dataflow_runner:2022-07-10T21:44:18.333Z: JOB_MESSAGE_BASIC: Executing operation TestWriteToCSV/Write/WriteImpl/DoOnce/Impulse+TestWriteToCSV/Write/WriteImpl/DoOnce/FlatMap(<lambda at core.py:2826>)+TestWriteToCSV/Write/WriteImpl/DoOnce/Map(decode)+TestWriteToCSV/Write/WriteImpl/InitializeWrite\n",
            "INFO:apache_beam.runners.dataflow.dataflow_runner:2022-07-10T21:44:18.346Z: JOB_MESSAGE_DEBUG: Starting worker pool setup.\n",
            "INFO:apache_beam.runners.dataflow.dataflow_runner:2022-07-10T21:44:18.372Z: JOB_MESSAGE_BASIC: Starting 1 workers in europe-west1-d...\n",
            "INFO:apache_beam.runners.dataflow.dataflow_runner:Job 2022-07-10_14_44_13-2845257578077327364 is in state JOB_STATE_RUNNING\n",
            "INFO:apache_beam.runners.dataflow.dataflow_runner:2022-07-10T21:44:45.729Z: JOB_MESSAGE_DETAILED: Autoscaling: Raised the number of workers to 1 based on the rate of progress in the currently running stage(s).\n",
            "INFO:apache_beam.runners.dataflow.dataflow_runner:2022-07-10T21:45:18.999Z: JOB_MESSAGE_DETAILED: Workers have started successfully.\n",
            "INFO:apache_beam.runners.dataflow.dataflow_runner:2022-07-10T21:50:27.137Z: JOB_MESSAGE_BASIC: Finished operation TestWriteToCSV/Write/WriteImpl/DoOnce/Impulse+TestWriteToCSV/Write/WriteImpl/DoOnce/FlatMap(<lambda at core.py:2826>)+TestWriteToCSV/Write/WriteImpl/DoOnce/Map(decode)+TestWriteToCSV/Write/WriteImpl/InitializeWrite\n",
            "INFO:apache_beam.runners.dataflow.dataflow_runner:2022-07-10T21:50:27.197Z: JOB_MESSAGE_DEBUG: Value \"TestWriteToCSV/Write/WriteImpl/DoOnce/Map(decode).None\" materialized.\n",
            "INFO:apache_beam.runners.dataflow.dataflow_runner:2022-07-10T21:50:27.252Z: JOB_MESSAGE_DEBUG: Value \"TestWriteToCSV/Write/WriteImpl/InitializeWrite.None\" materialized.\n",
            "INFO:apache_beam.runners.dataflow.dataflow_runner:2022-07-10T21:50:27.307Z: JOB_MESSAGE_BASIC: Executing operation TestWriteToCSV/Write/WriteImpl/WriteBundles/View-python_side_input0-TestWriteToCSV/Write/WriteImpl/WriteBundles\n",
            "INFO:apache_beam.runners.dataflow.dataflow_runner:2022-07-10T21:50:27.340Z: JOB_MESSAGE_BASIC: Executing operation TestWriteToCSV/Write/WriteImpl/FinalizeWrite/View-python_side_input0-TestWriteToCSV/Write/WriteImpl/FinalizeWrite\n",
            "INFO:apache_beam.runners.dataflow.dataflow_runner:2022-07-10T21:50:27.364Z: JOB_MESSAGE_BASIC: Finished operation TestWriteToCSV/Write/WriteImpl/WriteBundles/View-python_side_input0-TestWriteToCSV/Write/WriteImpl/WriteBundles\n",
            "INFO:apache_beam.runners.dataflow.dataflow_runner:2022-07-10T21:50:27.374Z: JOB_MESSAGE_BASIC: Executing operation TestWriteToCSV/Write/WriteImpl/PreFinalize/View-python_side_input0-TestWriteToCSV/Write/WriteImpl/PreFinalize\n",
            "INFO:apache_beam.runners.dataflow.dataflow_runner:2022-07-10T21:50:27.398Z: JOB_MESSAGE_BASIC: Finished operation TestWriteToCSV/Write/WriteImpl/FinalizeWrite/View-python_side_input0-TestWriteToCSV/Write/WriteImpl/FinalizeWrite\n",
            "INFO:apache_beam.runners.dataflow.dataflow_runner:2022-07-10T21:50:27.427Z: JOB_MESSAGE_BASIC: Finished operation TestWriteToCSV/Write/WriteImpl/PreFinalize/View-python_side_input0-TestWriteToCSV/Write/WriteImpl/PreFinalize\n",
            "INFO:apache_beam.runners.dataflow.dataflow_runner:2022-07-10T21:50:27.431Z: JOB_MESSAGE_DEBUG: Value \"TestWriteToCSV/Write/WriteImpl/WriteBundles/View-python_side_input0-TestWriteToCSV/Write/WriteImpl/WriteBundles.out\" materialized.\n",
            "INFO:apache_beam.runners.dataflow.dataflow_runner:2022-07-10T21:50:27.464Z: JOB_MESSAGE_DEBUG: Value \"TestWriteToCSV/Write/WriteImpl/FinalizeWrite/View-python_side_input0-TestWriteToCSV/Write/WriteImpl/FinalizeWrite.out\" materialized.\n",
            "INFO:apache_beam.runners.dataflow.dataflow_runner:2022-07-10T21:50:27.485Z: JOB_MESSAGE_DEBUG: Value \"TestWriteToCSV/Write/WriteImpl/PreFinalize/View-python_side_input0-TestWriteToCSV/Write/WriteImpl/PreFinalize.out\" materialized.\n",
            "INFO:apache_beam.runners.dataflow.dataflow_runner:2022-07-10T21:50:31.580Z: JOB_MESSAGE_BASIC: Finished operation ReadTwitterData/Read/_SDFBoundedSourceWrapper/Impulse+ref_AppliedPTransform_ReadTwitterData/Read/_SDFBoundedSourceWrapper/ParDo(SDFBoundedSourceDoFn)_6/PairWithRestriction+ref_AppliedPTransform_ReadTwitterData/Read/_SDFBoundedSourceWrapper/ParDo(SDFBoundedSourceDoFn)_6/SplitWithSizing\n",
            "INFO:apache_beam.runners.dataflow.dataflow_runner:2022-07-10T21:50:31.638Z: JOB_MESSAGE_DEBUG: Value \"ref_AppliedPTransform_ReadTwitterData/Read/_SDFBoundedSourceWrapper/ParDo(SDFBoundedSourceDoFn)_6-split-with-sizing-out3\" materialized.\n",
            "INFO:apache_beam.runners.dataflow.dataflow_runner:2022-07-10T21:50:31.705Z: JOB_MESSAGE_BASIC: Executing operation TestWriteToCSV/Write/WriteImpl/GroupByKey/Create\n",
            "INFO:apache_beam.runners.dataflow.dataflow_runner:2022-07-10T21:50:34.639Z: JOB_MESSAGE_BASIC: Finished operation TestWriteToCSV/Write/WriteImpl/GroupByKey/Create\n",
            "INFO:apache_beam.runners.dataflow.dataflow_runner:2022-07-10T21:50:34.702Z: JOB_MESSAGE_DEBUG: Value \"TestWriteToCSV/Write/WriteImpl/GroupByKey/Session\" materialized.\n",
            "INFO:apache_beam.runners.dataflow.dataflow_runner:2022-07-10T21:50:34.768Z: JOB_MESSAGE_BASIC: Executing operation ref_AppliedPTransform_ReadTwitterData/Read/_SDFBoundedSourceWrapper/ParDo(SDFBoundedSourceDoFn)_6/ProcessElementAndRestrictionWithSizing+ExtractColumns+Preprocess+TestWriteToCSV/Write/WriteImpl/WindowInto(WindowIntoFn)+TestWriteToCSV/Write/WriteImpl/WriteBundles+TestWriteToCSV/Write/WriteImpl/Pair+TestWriteToCSV/Write/WriteImpl/GroupByKey/Write\n",
            "INFO:apache_beam.runners.dataflow.dataflow_runner:2022-07-10T21:50:48.940Z: JOB_MESSAGE_BASIC: Finished operation ref_AppliedPTransform_ReadTwitterData/Read/_SDFBoundedSourceWrapper/ParDo(SDFBoundedSourceDoFn)_6/ProcessElementAndRestrictionWithSizing+ExtractColumns+Preprocess+TestWriteToCSV/Write/WriteImpl/WindowInto(WindowIntoFn)+TestWriteToCSV/Write/WriteImpl/WriteBundles+TestWriteToCSV/Write/WriteImpl/Pair+TestWriteToCSV/Write/WriteImpl/GroupByKey/Write\n",
            "INFO:apache_beam.runners.dataflow.dataflow_runner:2022-07-10T21:50:48.989Z: JOB_MESSAGE_BASIC: Executing operation TestWriteToCSV/Write/WriteImpl/GroupByKey/Close\n",
            "INFO:apache_beam.runners.dataflow.dataflow_runner:2022-07-10T21:50:49.068Z: JOB_MESSAGE_BASIC: Finished operation TestWriteToCSV/Write/WriteImpl/GroupByKey/Close\n",
            "INFO:apache_beam.runners.dataflow.dataflow_runner:2022-07-10T21:50:49.126Z: JOB_MESSAGE_BASIC: Executing operation TestWriteToCSV/Write/WriteImpl/GroupByKey/Read+TestWriteToCSV/Write/WriteImpl/Extract\n",
            "INFO:apache_beam.runners.dataflow.dataflow_runner:2022-07-10T21:51:02.594Z: JOB_MESSAGE_BASIC: Finished operation TestWriteToCSV/Write/WriteImpl/GroupByKey/Read+TestWriteToCSV/Write/WriteImpl/Extract\n",
            "INFO:apache_beam.runners.dataflow.dataflow_runner:2022-07-10T21:51:02.665Z: JOB_MESSAGE_DEBUG: Value \"TestWriteToCSV/Write/WriteImpl/Extract.None\" materialized.\n",
            "INFO:apache_beam.runners.dataflow.dataflow_runner:2022-07-10T21:51:02.724Z: JOB_MESSAGE_BASIC: Executing operation TestWriteToCSV/Write/WriteImpl/FinalizeWrite/View-python_side_input1-TestWriteToCSV/Write/WriteImpl/FinalizeWrite\n",
            "INFO:apache_beam.runners.dataflow.dataflow_runner:2022-07-10T21:51:02.747Z: JOB_MESSAGE_BASIC: Executing operation TestWriteToCSV/Write/WriteImpl/PreFinalize/View-python_side_input1-TestWriteToCSV/Write/WriteImpl/PreFinalize\n",
            "INFO:apache_beam.runners.dataflow.dataflow_runner:2022-07-10T21:51:02.775Z: JOB_MESSAGE_BASIC: Finished operation TestWriteToCSV/Write/WriteImpl/FinalizeWrite/View-python_side_input1-TestWriteToCSV/Write/WriteImpl/FinalizeWrite\n",
            "INFO:apache_beam.runners.dataflow.dataflow_runner:2022-07-10T21:51:02.824Z: JOB_MESSAGE_DEBUG: Value \"TestWriteToCSV/Write/WriteImpl/FinalizeWrite/View-python_side_input1-TestWriteToCSV/Write/WriteImpl/FinalizeWrite.out\" materialized.\n",
            "INFO:apache_beam.runners.dataflow.dataflow_runner:2022-07-10T21:51:02.874Z: JOB_MESSAGE_BASIC: Finished operation TestWriteToCSV/Write/WriteImpl/PreFinalize/View-python_side_input1-TestWriteToCSV/Write/WriteImpl/PreFinalize\n",
            "INFO:apache_beam.runners.dataflow.dataflow_runner:2022-07-10T21:51:02.933Z: JOB_MESSAGE_DEBUG: Value \"TestWriteToCSV/Write/WriteImpl/PreFinalize/View-python_side_input1-TestWriteToCSV/Write/WriteImpl/PreFinalize.out\" materialized.\n",
            "INFO:apache_beam.runners.dataflow.dataflow_runner:2022-07-10T21:51:02.991Z: JOB_MESSAGE_BASIC: Executing operation TestWriteToCSV/Write/WriteImpl/PreFinalize\n",
            "INFO:apache_beam.runners.dataflow.dataflow_runner:2022-07-10T21:51:06.271Z: JOB_MESSAGE_BASIC: Finished operation TestWriteToCSV/Write/WriteImpl/PreFinalize\n",
            "INFO:apache_beam.runners.dataflow.dataflow_runner:2022-07-10T21:51:06.336Z: JOB_MESSAGE_DEBUG: Value \"TestWriteToCSV/Write/WriteImpl/PreFinalize.None\" materialized.\n",
            "INFO:apache_beam.runners.dataflow.dataflow_runner:2022-07-10T21:51:06.402Z: JOB_MESSAGE_BASIC: Executing operation TestWriteToCSV/Write/WriteImpl/FinalizeWrite/View-python_side_input2-TestWriteToCSV/Write/WriteImpl/FinalizeWrite\n",
            "INFO:apache_beam.runners.dataflow.dataflow_runner:2022-07-10T21:51:08.840Z: JOB_MESSAGE_BASIC: Finished operation TestWriteToCSV/Write/WriteImpl/FinalizeWrite/View-python_side_input2-TestWriteToCSV/Write/WriteImpl/FinalizeWrite\n",
            "INFO:apache_beam.runners.dataflow.dataflow_runner:2022-07-10T21:51:08.896Z: JOB_MESSAGE_DEBUG: Value \"TestWriteToCSV/Write/WriteImpl/FinalizeWrite/View-python_side_input2-TestWriteToCSV/Write/WriteImpl/FinalizeWrite.out\" materialized.\n",
            "INFO:apache_beam.runners.dataflow.dataflow_runner:2022-07-10T21:51:08.990Z: JOB_MESSAGE_BASIC: Executing operation TestWriteToCSV/Write/WriteImpl/FinalizeWrite\n",
            "INFO:apache_beam.runners.dataflow.dataflow_runner:2022-07-10T21:51:12.015Z: JOB_MESSAGE_BASIC: Finished operation TestWriteToCSV/Write/WriteImpl/FinalizeWrite\n",
            "INFO:apache_beam.runners.dataflow.dataflow_runner:2022-07-10T21:51:12.070Z: JOB_MESSAGE_DEBUG: Executing success step success17\n",
            "INFO:apache_beam.runners.dataflow.dataflow_runner:2022-07-10T21:51:12.151Z: JOB_MESSAGE_DETAILED: Cleaning up.\n",
            "INFO:apache_beam.runners.dataflow.dataflow_runner:2022-07-10T21:51:15.453Z: JOB_MESSAGE_DEBUG: Starting worker pool teardown.\n",
            "INFO:apache_beam.runners.dataflow.dataflow_runner:2022-07-10T21:51:15.486Z: JOB_MESSAGE_BASIC: Stopping worker pool...\n",
            "INFO:apache_beam.runners.dataflow.dataflow_runner:2022-07-10T21:51:52.219Z: JOB_MESSAGE_DETAILED: Autoscaling: Resized worker pool from 1 to 0.\n",
            "INFO:apache_beam.runners.dataflow.dataflow_runner:2022-07-10T21:51:52.257Z: JOB_MESSAGE_BASIC: Worker pool stopped.\n",
            "INFO:apache_beam.runners.dataflow.dataflow_runner:2022-07-10T21:51:52.294Z: JOB_MESSAGE_DEBUG: Tearing down pending resources...\n",
            "INFO:apache_beam.runners.dataflow.dataflow_runner:Job 2022-07-10_14_44_13-2845257578077327364 is in state JOB_STATE_DONE\n"
          ]
        }
      ]
    },
    {
      "cell_type": "markdown",
      "metadata": {
        "id": "NFNxYtxW9fP9"
      },
      "source": [
        "### Validación Train en AI Platform (0.5 puntos)\n",
        "\n",
        "Con el comando mostrado a continuación se valida el correcto entrenamiento del modelo usando los datos de las ejecuciones anteriores en GCP con los datos obtenidos almacenados en Google Cloud Storage."
      ]
    },
    {
      "cell_type": "markdown",
      "metadata": {
        "id": "b0fP_5Gy9zfz"
      },
      "source": [
        "Generamos un nombre para el job de entrenamiento y donde se almacenarán los metadatos."
      ]
    },
    {
      "cell_type": "code",
      "metadata": {
        "id": "_eU0FkyLQPt6"
      },
      "source": [
        "JOB = \"troll_detection_batch_$(date +%Y%m%d_%H%M%S)\"\n",
        "JOB_DIR = GCP_WORK_DIR + \"/trainer\""
      ],
      "execution_count": 35,
      "outputs": []
    },
    {
      "cell_type": "code",
      "metadata": {
        "id": "3Z33nVs5QSEI",
        "outputId": "6c2d9288-77bf-49c9-92e9-3754fbe63859",
        "colab": {
          "base_uri": "https://localhost:8080/"
        }
      },
      "source": [
        "! gcloud ai-platform jobs submit training $JOB \\\n",
        "  --module-name trainer.task \\\n",
        "  --package-path trainer \\\n",
        "  --scale-tier basic_gpu \\\n",
        "  --python-version 3.7 \\\n",
        "  --runtime-version 2.1 \\\n",
        "  --region $GCP_REGION \\\n",
        "  --job-dir $JOB_DIR \\\n",
        "  --stream-logs \\\n",
        "  -- \\\n",
        "  --work-dir $GCP_WORK_DIR \\\n",
        "  --epochs 1"
      ],
      "execution_count": 36,
      "outputs": [
        {
          "output_type": "stream",
          "name": "stdout",
          "text": [
            "\u001b[1;31mERROR:\u001b[0m (gcloud.ai-platform.jobs.submit.training) HttpError accessing <https://ml.googleapis.com/v1/projects/practica-veronica/jobs?alt=json>: response: <{'vary': 'Origin, X-Origin, Referer', 'content-type': 'application/json; charset=UTF-8', 'content-encoding': 'gzip', 'date': 'Sun, 10 Jul 2022 21:52:59 GMT', 'server': 'ESF', 'cache-control': 'private', 'x-xss-protection': '0', 'x-frame-options': 'SAMEORIGIN', 'x-content-type-options': 'nosniff', 'transfer-encoding': 'chunked', 'status': 429}>, content <{\n",
            "  \"error\": {\n",
            "    \"code\": 429,\n",
            "    \"message\": \"Quota failure for project practica-veronica. The request for 1 K80 accelerators exceeds the allowed maximum of 0 A100, 0 K80, 0 P100, 0 P4, 0 T4, 0 TPU_V2, 0 TPU_V2_POD, 0 TPU_V3, 0 TPU_V3_POD, 0 V100 accelerators. To read more about Cloud ML Engine quota, see https://cloud.google.com/ml-engine/quotas.\",\n",
            "    \"status\": \"RESOURCE_EXHAUSTED\",\n",
            "    \"details\": [\n",
            "      {\n",
            "        \"@type\": \"type.googleapis.com/google.rpc.QuotaFailure\",\n",
            "        \"violations\": [\n",
            "          {\n",
            "            \"subject\": \"practica-veronica\",\n",
            "            \"description\": \"The request for 1 K80 accelerators exceeds the allowed maximum of 0 A100, 0 K80, 0 P100, 0 P4, 0 T4, 0 TPU_V2, 0 TPU_V2_POD, 0 TPU_V3, 0 TPU_V3_POD, 0 V100 accelerators.\"\n",
            "          }\n",
            "        ]\n",
            "      }\n",
            "    ]\n",
            "  }\n",
            "}\n",
            ">\n",
            "This may be due to network connectivity issues. Please check your network settings, and the status of the service you are trying to reach.\n"
          ]
        }
      ]
    },
    {
      "cell_type": "markdown",
      "metadata": {
        "id": "wu5SOWsy9886"
      },
      "source": [
        "### Validación predict en Dataflow (0.25 puntos)\n",
        "\n",
        "Con el comando mostrado a continuación se valida la predicción correcta de los datos de test usando los modelos generados en el comando anterior."
      ]
    },
    {
      "cell_type": "markdown",
      "metadata": {
        "id": "OXoHCgMg-LUD"
      },
      "source": [
        "Generamos un timestamp para el almacenamiento de las inferencias en Google Cloud Storage."
      ]
    },
    {
      "cell_type": "code",
      "metadata": {
        "id": "fmcetQtnQjVo"
      },
      "source": [
        "from datetime import datetime\n",
        "\n",
        "# current date and time\n",
        "TIMESTAMP = datetime.now().strftime('%Y-%m-%d_%H-%M-%S')"
      ],
      "execution_count": 37,
      "outputs": []
    },
    {
      "cell_type": "code",
      "metadata": {
        "id": "zT_NxsKDQlxD",
        "outputId": "8f5b98ef-19af-44a3-93c3-036f08c6daaf",
        "colab": {
          "base_uri": "https://localhost:8080/"
        }
      },
      "source": [
        "# For using sample models: --model-dir gs://$BUCKET_NAME/models/\n",
        "! python3 predict.py \\\n",
        "  --work-dir $GCP_WORK_DIR \\\n",
        "  --model-dir $GCP_WORK_DIR/model/ \\\n",
        "  batch \\\n",
        "  --project $PROJECT_ID \\\n",
        "  --region $GCP_REGION \\\n",
        "  --runner DataflowRunner \\\n",
        "  --temp_location $GCP_WORK_DIR/beam-temp \\\n",
        "  --setup_file ./setup.py \\\n",
        "  --inputs-dir $GCP_WORK_DIR/transformed_data/test/part* \\\n",
        "  --outputs-dir $GCP_WORK_DIR/predictions/$TIMESTAMP"
      ],
      "execution_count": 38,
      "outputs": [
        {
          "output_type": "stream",
          "name": "stdout",
          "text": [
            "Namespace(inputs_dir='gs://practica-veronica/transformed_data/test/part*', model_dir='gs://practica-veronica/model/', outputs_dir='gs://practica-veronica/predictions/2022-07-10_21-53-31', verb='batch', work_dir='gs://practica-veronica')\n",
            "warning: sdist: standard file not found: should have one of README, README.rst, README.txt, README.md\n",
            "\n",
            "warning: check: missing required meta-data: url\n",
            "\n",
            "warning: check: missing meta-data: either (author and author_email) or (maintainer and maintainer_email) must be supplied\n",
            "\n",
            "WARNING:root:Make sure that locally built Python SDK docker image has Python 3.7 interpreter.\n",
            "Traceback (most recent call last):\n",
            "  File \"predict.py\", line 166, in <module>\n",
            "    run(args.model_dir, source, sink, beam_options)\n",
            "  File \"predict.py\", line 105, in run\n",
            "    | \"Write predictions\" >> sink\n",
            "  File \"/usr/local/lib/python3.7/dist-packages/apache_beam/pipeline.py\", line 556, in __exit__\n",
            "    self.result.wait_until_finish()\n",
            "  File \"/usr/local/lib/python3.7/dist-packages/apache_beam/runners/dataflow/dataflow_runner.py\", line 1619, in wait_until_finish\n",
            "    time.sleep(5.0)\n",
            "KeyboardInterrupt\n",
            "^C\n"
          ]
        }
      ]
    },
    {
      "cell_type": "markdown",
      "metadata": {
        "id": "9GWbfFvwQTGS"
      },
      "source": [
        "# Inferencia online\n",
        "\n",
        "En esta segunda parte de la práctica se realizará un microservicio de inferencia online usando los modelos generados en la primera parte. Para esta parte de la práctica el código de vuestro microservicio deberá estar subido en un repositorio. En la variable de debajo deberéis dejar la URL a vuestro repositorrio pues será el contenido con el que serás evaluado. \n",
        "\n",
        "**Importante:** asegúrate de crear el repositorio de manera pública para poder clonarlo.\n",
        "\n",
        "A continuación os dejo un diagrama con la arquitectura que se va a desarrollar:\n",
        "\n",
        "![online_diagram](https://drive.google.com/uc?export=view&id=1zR7Cwp0Vq1QeTxwLoJ8YJNRM9G5KVh2S)"
      ]
    },
    {
      "cell_type": "code",
      "metadata": {
        "id": "REn23OCIBjXF"
      },
      "source": [
        "REPOSITORIO = \"https://github.com/verobermejo/IMPLEMENTACION_ALGORITMOS.git\""
      ],
      "execution_count": 43,
      "outputs": []
    },
    {
      "cell_type": "markdown",
      "metadata": {
        "id": "NqBT-b_8BsIR"
      },
      "source": [
        "Creamos el directorio donde trabajaremos."
      ]
    },
    {
      "cell_type": "code",
      "metadata": {
        "id": "VAskyBUAQZHx",
        "outputId": "bbc86a2e-bf9f-4d3f-c3e9-62c27a26619a",
        "colab": {
          "base_uri": "https://localhost:8080/"
        }
      },
      "source": [
        "%mkdir /content/online\n",
        "%cd /content/online"
      ],
      "execution_count": 44,
      "outputs": [
        {
          "output_type": "stream",
          "name": "stdout",
          "text": [
            "/content/online\n"
          ]
        }
      ]
    },
    {
      "cell_type": "code",
      "metadata": {
        "id": "xlj7lGW3Q6CS",
        "outputId": "e41ab4bf-fef2-42bd-9f41-f42c43d10bba",
        "colab": {
          "base_uri": "https://localhost:8080/"
        }
      },
      "source": [
        "# Clone the repository\n",
        "! git clone $REPOSITORIO\n",
        "\n",
        "# Set the working directory to the sample code directory\n",
        "%cd ./IMPLEMENTACION_ALGORITMOS\n",
        "\n",
        "# Change to develop\n",
        "! git checkout develop"
      ],
      "execution_count": 46,
      "outputs": [
        {
          "output_type": "stream",
          "name": "stdout",
          "text": [
            "fatal: destination path 'IMPLEMENTACION_ALGORITMOS' already exists and is not an empty directory.\n",
            "/content/online/IMPLEMENTACION_ALGORITMOS\n",
            "error: pathspec 'develop' did not match any file(s) known to git.\n"
          ]
        }
      ]
    },
    {
      "cell_type": "code",
      "metadata": {
        "id": "FndkRszYQ8_f",
        "outputId": "421f334f-4ed2-41a6-d31e-cf4d8d1f236f",
        "colab": {
          "base_uri": "https://localhost:8080/",
          "height": 1000
        }
      },
      "source": [
        "! pip install -r requirements.txt"
      ],
      "execution_count": 47,
      "outputs": [
        {
          "output_type": "stream",
          "name": "stdout",
          "text": [
            "Looking in indexes: https://pypi.org/simple, https://us-python.pkg.dev/colab-wheels/public/simple/\n",
            "Collecting requests==2.25.0\n",
            "  Downloading requests-2.25.0-py2.py3-none-any.whl (61 kB)\n",
            "\u001b[K     |████████████████████████████████| 61 kB 4.8 MB/s \n",
            "\u001b[?25hCollecting uvicorn==0.12.2\n",
            "  Downloading uvicorn-0.12.2-py3-none-any.whl (45 kB)\n",
            "\u001b[K     |████████████████████████████████| 45 kB 3.8 MB/s \n",
            "\u001b[?25hCollecting fastapi==0.61.2\n",
            "  Downloading fastapi-0.61.2-py3-none-any.whl (48 kB)\n",
            "\u001b[K     |████████████████████████████████| 48 kB 7.1 MB/s \n",
            "\u001b[?25hCollecting h5py==2.10.0\n",
            "  Downloading h5py-2.10.0-cp37-cp37m-manylinux1_x86_64.whl (2.9 MB)\n",
            "\u001b[K     |████████████████████████████████| 2.9 MB 16.8 MB/s \n",
            "\u001b[?25hCollecting scikit-learn==0.23.2\n",
            "  Downloading scikit_learn-0.23.2-cp37-cp37m-manylinux1_x86_64.whl (6.8 MB)\n",
            "\u001b[K     |████████████████████████████████| 6.8 MB 15.2 MB/s \n",
            "\u001b[?25hRequirement already satisfied: scipy==1.4.1 in /usr/local/lib/python3.7/dist-packages (from -r requirements.txt (line 6)) (1.4.1)\n",
            "Collecting tensorflow==2.1.0\n",
            "  Downloading tensorflow-2.1.0-cp37-cp37m-manylinux2010_x86_64.whl (421.8 MB)\n",
            "\u001b[K     |████████████████████████████████| 421.8 MB 24 kB/s \n",
            "\u001b[?25hRequirement already satisfied: loguru==0.5.3 in /usr/local/lib/python3.7/dist-packages (from -r requirements.txt (line 8)) (0.5.3)\n",
            "Requirement already satisfied: gensim==3.6.0 in /usr/local/lib/python3.7/dist-packages (from -r requirements.txt (line 9)) (3.6.0)\n",
            "Requirement already satisfied: fsspec==0.8.4 in /usr/local/lib/python3.7/dist-packages (from -r requirements.txt (line 10)) (0.8.4)\n",
            "Requirement already satisfied: gcsfs==0.7.1 in /usr/local/lib/python3.7/dist-packages (from -r requirements.txt (line 11)) (0.7.1)\n",
            "Collecting numpy==1.19.5\n",
            "  Downloading numpy-1.19.5-cp37-cp37m-manylinux2010_x86_64.whl (14.8 MB)\n",
            "\u001b[K     |████████████████████████████████| 14.8 MB 38.4 MB/s \n",
            "\u001b[?25hRequirement already satisfied: urllib3<1.27,>=1.21.1 in /usr/local/lib/python3.7/dist-packages (from requests==2.25.0->-r requirements.txt (line 1)) (1.24.3)\n",
            "Requirement already satisfied: chardet<4,>=3.0.2 in /usr/local/lib/python3.7/dist-packages (from requests==2.25.0->-r requirements.txt (line 1)) (3.0.4)\n",
            "Requirement already satisfied: idna<3,>=2.5 in /usr/local/lib/python3.7/dist-packages (from requests==2.25.0->-r requirements.txt (line 1)) (2.10)\n",
            "Requirement already satisfied: certifi>=2017.4.17 in /usr/local/lib/python3.7/dist-packages (from requests==2.25.0->-r requirements.txt (line 1)) (2022.6.15)\n",
            "Collecting h11>=0.8\n",
            "  Downloading h11-0.13.0-py3-none-any.whl (58 kB)\n",
            "\u001b[K     |████████████████████████████████| 58 kB 7.0 MB/s \n",
            "\u001b[?25hRequirement already satisfied: click==7.* in /usr/local/lib/python3.7/dist-packages (from uvicorn==0.12.2->-r requirements.txt (line 2)) (7.1.2)\n",
            "Requirement already satisfied: typing-extensions in /usr/local/lib/python3.7/dist-packages (from uvicorn==0.12.2->-r requirements.txt (line 2)) (3.7.4.3)\n",
            "Collecting starlette==0.13.6\n",
            "  Downloading starlette-0.13.6-py3-none-any.whl (59 kB)\n",
            "\u001b[K     |████████████████████████████████| 59 kB 5.4 MB/s \n",
            "\u001b[?25hRequirement already satisfied: pydantic<2.0.0,>=1.0.0 in /usr/local/lib/python3.7/dist-packages (from fastapi==0.61.2->-r requirements.txt (line 3)) (1.8.2)\n",
            "Requirement already satisfied: six in /usr/local/lib/python3.7/dist-packages (from h5py==2.10.0->-r requirements.txt (line 4)) (1.15.0)\n",
            "Requirement already satisfied: joblib>=0.11 in /usr/local/lib/python3.7/dist-packages (from scikit-learn==0.23.2->-r requirements.txt (line 5)) (1.1.0)\n",
            "Requirement already satisfied: threadpoolctl>=2.0.0 in /usr/local/lib/python3.7/dist-packages (from scikit-learn==0.23.2->-r requirements.txt (line 5)) (3.1.0)\n",
            "Collecting keras-applications>=1.0.8\n",
            "  Downloading Keras_Applications-1.0.8-py3-none-any.whl (50 kB)\n",
            "\u001b[K     |████████████████████████████████| 50 kB 8.1 MB/s \n",
            "\u001b[?25hCollecting gast==0.2.2\n",
            "  Downloading gast-0.2.2.tar.gz (10 kB)\n",
            "Requirement already satisfied: wheel>=0.26 in /usr/local/lib/python3.7/dist-packages (from tensorflow==2.1.0->-r requirements.txt (line 7)) (0.37.1)\n",
            "Requirement already satisfied: termcolor>=1.1.0 in /usr/local/lib/python3.7/dist-packages (from tensorflow==2.1.0->-r requirements.txt (line 7)) (1.1.0)\n",
            "Collecting tensorboard<2.2.0,>=2.1.0\n",
            "  Downloading tensorboard-2.1.1-py3-none-any.whl (3.8 MB)\n",
            "\u001b[K     |████████████████████████████████| 3.8 MB 35.9 MB/s \n",
            "\u001b[?25hRequirement already satisfied: protobuf>=3.8.0 in /usr/local/lib/python3.7/dist-packages (from tensorflow==2.1.0->-r requirements.txt (line 7)) (3.17.3)\n",
            "Requirement already satisfied: astor>=0.6.0 in /usr/local/lib/python3.7/dist-packages (from tensorflow==2.1.0->-r requirements.txt (line 7)) (0.8.1)\n",
            "Requirement already satisfied: google-pasta>=0.1.6 in /usr/local/lib/python3.7/dist-packages (from tensorflow==2.1.0->-r requirements.txt (line 7)) (0.2.0)\n",
            "Requirement already satisfied: grpcio>=1.8.6 in /usr/local/lib/python3.7/dist-packages (from tensorflow==2.1.0->-r requirements.txt (line 7)) (1.46.3)\n",
            "Collecting tensorflow-estimator<2.2.0,>=2.1.0rc0\n",
            "  Downloading tensorflow_estimator-2.1.0-py2.py3-none-any.whl (448 kB)\n",
            "\u001b[K     |████████████████████████████████| 448 kB 30.4 MB/s \n",
            "\u001b[?25hRequirement already satisfied: wrapt>=1.11.1 in /usr/local/lib/python3.7/dist-packages (from tensorflow==2.1.0->-r requirements.txt (line 7)) (1.14.1)\n",
            "Requirement already satisfied: opt-einsum>=2.3.2 in /usr/local/lib/python3.7/dist-packages (from tensorflow==2.1.0->-r requirements.txt (line 7)) (3.3.0)\n",
            "Requirement already satisfied: keras-preprocessing>=1.1.0 in /usr/local/lib/python3.7/dist-packages (from tensorflow==2.1.0->-r requirements.txt (line 7)) (1.1.2)\n",
            "Requirement already satisfied: absl-py>=0.7.0 in /usr/local/lib/python3.7/dist-packages (from tensorflow==2.1.0->-r requirements.txt (line 7)) (1.1.0)\n",
            "Requirement already satisfied: smart-open>=1.2.1 in /usr/local/lib/python3.7/dist-packages (from gensim==3.6.0->-r requirements.txt (line 9)) (5.2.1)\n",
            "Requirement already satisfied: decorator in /usr/local/lib/python3.7/dist-packages (from gcsfs==0.7.1->-r requirements.txt (line 11)) (4.4.2)\n",
            "Requirement already satisfied: google-auth>=1.2 in /usr/local/lib/python3.7/dist-packages (from gcsfs==0.7.1->-r requirements.txt (line 11)) (1.35.0)\n",
            "Requirement already satisfied: google-auth-oauthlib in /usr/local/lib/python3.7/dist-packages (from gcsfs==0.7.1->-r requirements.txt (line 11)) (0.4.6)\n",
            "Requirement already satisfied: aiohttp in /usr/local/lib/python3.7/dist-packages (from gcsfs==0.7.1->-r requirements.txt (line 11)) (3.8.1)\n",
            "Requirement already satisfied: setuptools>=40.3.0 in /usr/local/lib/python3.7/dist-packages (from google-auth>=1.2->gcsfs==0.7.1->-r requirements.txt (line 11)) (57.4.0)\n",
            "Requirement already satisfied: rsa<5,>=3.1.4 in /usr/local/lib/python3.7/dist-packages (from google-auth>=1.2->gcsfs==0.7.1->-r requirements.txt (line 11)) (4.8)\n",
            "Requirement already satisfied: cachetools<5.0,>=2.0.0 in /usr/local/lib/python3.7/dist-packages (from google-auth>=1.2->gcsfs==0.7.1->-r requirements.txt (line 11)) (3.1.1)\n",
            "Requirement already satisfied: pyasn1-modules>=0.2.1 in /usr/local/lib/python3.7/dist-packages (from google-auth>=1.2->gcsfs==0.7.1->-r requirements.txt (line 11)) (0.2.8)\n",
            "Requirement already satisfied: pyasn1<0.5.0,>=0.4.6 in /usr/local/lib/python3.7/dist-packages (from pyasn1-modules>=0.2.1->google-auth>=1.2->gcsfs==0.7.1->-r requirements.txt (line 11)) (0.4.8)\n",
            "Requirement already satisfied: markdown>=2.6.8 in /usr/local/lib/python3.7/dist-packages (from tensorboard<2.2.0,>=2.1.0->tensorflow==2.1.0->-r requirements.txt (line 7)) (3.3.7)\n",
            "Requirement already satisfied: werkzeug>=0.11.15 in /usr/local/lib/python3.7/dist-packages (from tensorboard<2.2.0,>=2.1.0->tensorflow==2.1.0->-r requirements.txt (line 7)) (1.0.1)\n",
            "Requirement already satisfied: requests-oauthlib>=0.7.0 in /usr/local/lib/python3.7/dist-packages (from google-auth-oauthlib->gcsfs==0.7.1->-r requirements.txt (line 11)) (1.3.1)\n",
            "Requirement already satisfied: importlib-metadata>=4.4 in /usr/local/lib/python3.7/dist-packages (from markdown>=2.6.8->tensorboard<2.2.0,>=2.1.0->tensorflow==2.1.0->-r requirements.txt (line 7)) (4.11.4)\n",
            "Requirement already satisfied: zipp>=0.5 in /usr/local/lib/python3.7/dist-packages (from importlib-metadata>=4.4->markdown>=2.6.8->tensorboard<2.2.0,>=2.1.0->tensorflow==2.1.0->-r requirements.txt (line 7)) (3.8.0)\n",
            "Requirement already satisfied: oauthlib>=3.0.0 in /usr/local/lib/python3.7/dist-packages (from requests-oauthlib>=0.7.0->google-auth-oauthlib->gcsfs==0.7.1->-r requirements.txt (line 11)) (3.2.0)\n",
            "Requirement already satisfied: aiosignal>=1.1.2 in /usr/local/lib/python3.7/dist-packages (from aiohttp->gcsfs==0.7.1->-r requirements.txt (line 11)) (1.2.0)\n",
            "Requirement already satisfied: charset-normalizer<3.0,>=2.0 in /usr/local/lib/python3.7/dist-packages (from aiohttp->gcsfs==0.7.1->-r requirements.txt (line 11)) (2.1.0)\n",
            "Requirement already satisfied: async-timeout<5.0,>=4.0.0a3 in /usr/local/lib/python3.7/dist-packages (from aiohttp->gcsfs==0.7.1->-r requirements.txt (line 11)) (4.0.2)\n",
            "Requirement already satisfied: frozenlist>=1.1.1 in /usr/local/lib/python3.7/dist-packages (from aiohttp->gcsfs==0.7.1->-r requirements.txt (line 11)) (1.3.0)\n",
            "Requirement already satisfied: yarl<2.0,>=1.0 in /usr/local/lib/python3.7/dist-packages (from aiohttp->gcsfs==0.7.1->-r requirements.txt (line 11)) (1.7.2)\n",
            "Requirement already satisfied: attrs>=17.3.0 in /usr/local/lib/python3.7/dist-packages (from aiohttp->gcsfs==0.7.1->-r requirements.txt (line 11)) (21.4.0)\n",
            "Requirement already satisfied: asynctest==0.13.0 in /usr/local/lib/python3.7/dist-packages (from aiohttp->gcsfs==0.7.1->-r requirements.txt (line 11)) (0.13.0)\n",
            "Requirement already satisfied: multidict<7.0,>=4.5 in /usr/local/lib/python3.7/dist-packages (from aiohttp->gcsfs==0.7.1->-r requirements.txt (line 11)) (6.0.2)\n",
            "Building wheels for collected packages: gast\n",
            "  Building wheel for gast (setup.py) ... \u001b[?25l\u001b[?25hdone\n",
            "  Created wheel for gast: filename=gast-0.2.2-py3-none-any.whl size=7554 sha256=9e7e3c973f365a681c6efd0421b3f0307e741e6e201cb9099b5b06e4428ee9d6\n",
            "  Stored in directory: /root/.cache/pip/wheels/21/7f/02/420f32a803f7d0967b48dd823da3f558c5166991bfd204eef3\n",
            "Successfully built gast\n",
            "Installing collected packages: requests, numpy, h5py, tensorflow-estimator, tensorboard, starlette, keras-applications, h11, gast, uvicorn, tensorflow, scikit-learn, fastapi\n",
            "  Attempting uninstall: requests\n",
            "    Found existing installation: requests 2.28.1\n",
            "    Uninstalling requests-2.28.1:\n",
            "      Successfully uninstalled requests-2.28.1\n",
            "  Attempting uninstall: numpy\n",
            "    Found existing installation: numpy 1.20.0\n",
            "    Uninstalling numpy-1.20.0:\n",
            "      Successfully uninstalled numpy-1.20.0\n",
            "  Attempting uninstall: h5py\n",
            "    Found existing installation: h5py 3.1.0\n",
            "    Uninstalling h5py-3.1.0:\n",
            "      Successfully uninstalled h5py-3.1.0\n",
            "  Attempting uninstall: tensorflow-estimator\n",
            "    Found existing installation: tensorflow-estimator 2.8.0\n",
            "    Uninstalling tensorflow-estimator-2.8.0:\n",
            "      Successfully uninstalled tensorflow-estimator-2.8.0\n",
            "  Attempting uninstall: tensorboard\n",
            "    Found existing installation: tensorboard 2.8.0\n",
            "    Uninstalling tensorboard-2.8.0:\n",
            "      Successfully uninstalled tensorboard-2.8.0\n",
            "  Attempting uninstall: gast\n",
            "    Found existing installation: gast 0.5.3\n",
            "    Uninstalling gast-0.5.3:\n",
            "      Successfully uninstalled gast-0.5.3\n",
            "  Attempting uninstall: tensorflow\n",
            "    Found existing installation: tensorflow 2.8.2+zzzcolab20220527125636\n",
            "    Uninstalling tensorflow-2.8.2+zzzcolab20220527125636:\n",
            "      Successfully uninstalled tensorflow-2.8.2+zzzcolab20220527125636\n",
            "  Attempting uninstall: scikit-learn\n",
            "    Found existing installation: scikit-learn 1.0.2\n",
            "    Uninstalling scikit-learn-1.0.2:\n",
            "      Successfully uninstalled scikit-learn-1.0.2\n",
            "\u001b[31mERROR: pip's dependency resolver does not currently take into account all the packages that are installed. This behaviour is the source of the following dependency conflicts.\n",
            "yellowbrick 1.4 requires scikit-learn>=1.0.0, but you have scikit-learn 0.23.2 which is incompatible.\n",
            "xarray-einstats 0.2.2 requires numpy>=1.21, but you have numpy 1.19.5 which is incompatible.\n",
            "tensorflow-probability 0.16.0 requires gast>=0.3.2, but you have gast 0.2.2 which is incompatible.\n",
            "pymc3 3.11.4 requires cachetools>=4.2.1, but you have cachetools 3.1.1 which is incompatible.\n",
            "imbalanced-learn 0.8.1 requires scikit-learn>=0.24, but you have scikit-learn 0.23.2 which is incompatible.\n",
            "google-colab 1.0.0 requires requests~=2.23.0, but you have requests 2.25.0 which is incompatible.\n",
            "datascience 0.10.6 requires folium==0.2.1, but you have folium 0.8.3 which is incompatible.\n",
            "albumentations 0.1.12 requires imgaug<0.2.7,>=0.2.5, but you have imgaug 0.2.9 which is incompatible.\u001b[0m\n",
            "Successfully installed fastapi-0.61.2 gast-0.2.2 h11-0.13.0 h5py-2.10.0 keras-applications-1.0.8 numpy-1.19.5 requests-2.25.0 scikit-learn-0.23.2 starlette-0.13.6 tensorboard-2.1.1 tensorflow-2.1.0 tensorflow-estimator-2.1.0 uvicorn-0.12.2\n"
          ]
        },
        {
          "output_type": "display_data",
          "data": {
            "application/vnd.colab-display-data+json": {
              "pip_warning": {
                "packages": [
                  "numpy",
                  "requests"
                ]
              }
            }
          },
          "metadata": {}
        }
      ]
    },
    {
      "cell_type": "code",
      "metadata": {
        "id": "IefrYp6tJ4PE"
      },
      "source": [
        "! pip install pyngrok"
      ],
      "execution_count": null,
      "outputs": []
    },
    {
      "cell_type": "markdown",
      "metadata": {
        "id": "qNde3TEzCmjg"
      },
      "source": [
        "Para cuando estes modificando, probando y ejecutando ficheros os dejo en las celdas de abajo los comandos de git necesarios para interaccionar con vuestro repositorio en caso de que queráis:"
      ]
    },
    {
      "cell_type": "code",
      "metadata": {
        "id": "qsjWKcYZC6mm"
      },
      "source": [
        "! git status"
      ],
      "execution_count": null,
      "outputs": []
    },
    {
      "cell_type": "code",
      "metadata": {
        "id": "PuVHFtqvC8Kw"
      },
      "source": [
        "! git add <files>\n",
        "! git commit -m \"Nuevos cambios\"\n",
        "! git push origin master"
      ],
      "execution_count": null,
      "outputs": []
    },
    {
      "cell_type": "markdown",
      "metadata": {
        "id": "H88vcTU_DDpv"
      },
      "source": [
        "Será necesario definir y establecer la variable de entorno `DEFAULT_MODEL_PATH` para definir donde están almacenados nuestros modelos para hacer inferencia."
      ]
    },
    {
      "cell_type": "code",
      "metadata": {
        "id": "Tn9xsgx4u5xP"
      },
      "source": [
        "import os\n",
        "\n",
        "os.environ[\"DEFAULT_MODEL_PATH\"] = \"/content/batch/model/\""
      ],
      "execution_count": null,
      "outputs": []
    },
    {
      "cell_type": "markdown",
      "metadata": {
        "id": "z-IslHWwDSTU"
      },
      "source": [
        "### Validación inferencia online en local (1.75 puntos)\n",
        "\n",
        "Se validará la correcta inferencia del microservio en local utilizando Swagger. Para ejecutar en local solo hay que ejecutar los comandos a continuación. Después, entrar en la URL proporcionada por ngrock `<ngrok_url>/docs` para acceder a swagger y probar la inferencia como vimos en clase."
      ]
    },
    {
      "cell_type": "code",
      "metadata": {
        "id": "81vGToBWJ_h-"
      },
      "source": [
        "# For testing purposes\n",
        "import nest_asyncio\n",
        "from pyngrok import ngrok\n",
        "\n",
        "ngrok_tunnel = ngrok.connect(8000)\n",
        "print('Public URL:', ngrok_tunnel.public_url)\n",
        "nest_asyncio.apply()"
      ],
      "execution_count": null,
      "outputs": []
    },
    {
      "cell_type": "code",
      "metadata": {
        "id": "hFeSh7rcuG7L"
      },
      "source": [
        "! uvicorn app.main:app --port 8000"
      ],
      "execution_count": null,
      "outputs": []
    },
    {
      "cell_type": "markdown",
      "metadata": {
        "id": "fuLtOjukEMIl"
      },
      "source": [
        "### Validación inferencia online en GCP (1.75 puntos)\n",
        "\n",
        "Se validará el correcto funcionamiento del microservicio haciendo una petición POST de inferencia a través de curl al microservicio desplegado en GCP."
      ]
    },
    {
      "cell_type": "markdown",
      "metadata": {
        "id": "MX1MiTGuD2KS"
      },
      "source": [
        "Primero, contruiremos una imagen Docker con el microservicio y subiremos el desarrollo al Container Repository en GCP a través de Cloud Build."
      ]
    },
    {
      "cell_type": "code",
      "metadata": {
        "id": "PRhq-d_E7-CY"
      },
      "source": [
        "! gcloud builds submit --tag gcr.io/$PROJECT_ID/troll-detection-online-service"
      ],
      "execution_count": null,
      "outputs": []
    },
    {
      "cell_type": "markdown",
      "metadata": {
        "id": "aYVptQ0WEEd-"
      },
      "source": [
        "Desplegaremos la imagen Docker generada en el Container Registry en el servicio de Cloud Run. Después, validaremos que las inferencias funcionan en GCP usando el comando mostrado a continuación:"
      ]
    },
    {
      "cell_type": "code",
      "metadata": {
        "id": "KC0honui-W23"
      },
      "source": [
        "! curl -X POST \"https://troll-detection-service-g2v7skqfeq-uc.a.run.app/api/model/predict\" -H  \"accept: application/json\" -H  \"Content-Type: application/json\" -d \"{\\\"text\\\":\\\"i hate you\\\"}\""
      ],
      "execution_count": null,
      "outputs": []
    },
    {
      "cell_type": "markdown",
      "metadata": {
        "id": "ZvBWPoGGKwuJ"
      },
      "source": [
        "# Detección de Trolls en Twitch en Streaming\n",
        "\n",
        "En esta última parte de la práctica se realizará un pipeline de inferencia en tiempo real de un chat de Twitch alcualmente en vivo. Para ello, usaremos mi canal de Twitch `https://www.twitch.tv/franalgaba` donde tengo un bot deplegado poniendo mensajes troll y no troll de forma aleatoria del dataset que hemos usado en la primera parte.\n",
        "\n",
        "Para acceder al chat de Twitch os proporciono el conector correspondiente que será desplegado como Cloud Function como hicimos en clase y usando mis credenciales recogerá los mensajes del chat y los enviará a un topic de Pub/Sub en GCP. Después, desarrollarás un job en streaming de Dataflow con el que leerás esos mensajes de Pub/sub, los mandarás a tu microservicio de inferencia para que haga las predicciones y enviarás los resultados a un nuevo tópico de Pub/Sub.\n",
        "\n",
        "A continuación os dejo un diagrama con la arquitectura que se va a desarrollar:\n",
        "\n",
        "![streaming_diagram](https://drive.google.com/uc?export=view&id=1TEBPPc9ZF09IM5iGq9FwGAx9PVzAYNPg)"
      ]
    },
    {
      "cell_type": "markdown",
      "metadata": {
        "id": "Yw3oY8n5GjuU"
      },
      "source": [
        "Primero, creamos el publisher que será el encargado de recoger los mensajes de Twitch y enviarlos a Pub/Sub. Esto os lo doy yo desarrollado, sólo tendréis que desplegarlo en una Cloud Function."
      ]
    },
    {
      "cell_type": "code",
      "metadata": {
        "id": "HH8WcRKrKwKy"
      },
      "source": [
        "%mkdir -p /content/streaming/publisher"
      ],
      "execution_count": 40,
      "outputs": []
    },
    {
      "cell_type": "code",
      "metadata": {
        "id": "75whqxX7K54B",
        "outputId": "812a7a03-4f76-4428-bf69-c58e3682daac",
        "colab": {
          "base_uri": "https://localhost:8080/"
        }
      },
      "source": [
        "# Execute after restart\n",
        "%cd /content/streaming/publisher"
      ],
      "execution_count": 41,
      "outputs": [
        {
          "output_type": "stream",
          "name": "stdout",
          "text": [
            "/content/streaming/publisher\n"
          ]
        }
      ]
    },
    {
      "cell_type": "code",
      "metadata": {
        "id": "jyOecviAK8QO",
        "outputId": "669ead81-1a98-4f8e-a1bf-d555cb819bea",
        "colab": {
          "base_uri": "https://localhost:8080/"
        }
      },
      "source": [
        "%%writefile requirements.txt\n",
        "\n",
        "twitchio==1.2.3\n",
        "loguru==0.5.3\n",
        "google-cloud-pubsub==2.1.0"
      ],
      "execution_count": 42,
      "outputs": [
        {
          "output_type": "stream",
          "name": "stdout",
          "text": [
            "Writing requirements.txt\n"
          ]
        }
      ]
    },
    {
      "cell_type": "code",
      "metadata": {
        "id": "z-pnzR-jMkZ4",
        "outputId": "38883581-3599-44cc-d3e8-b27fbca4d5ce",
        "colab": {
          "base_uri": "https://localhost:8080/"
        }
      },
      "source": [
        "%%writefile main.py\n",
        "\n",
        "import os  # for importing env vars for the bot to use\n",
        "import sys\n",
        "import json\n",
        "import time\n",
        "\n",
        "from twitchio.ext import commands\n",
        "from google.cloud import pubsub_v1\n",
        "from loguru import logger\n",
        "\n",
        "PROJECT_ID = os.getenv(\"PROJECT_ID\")\n",
        "TOPIC_NAME = os.getenv(\"TOPIC_NAME\")\n",
        "\n",
        "TOPIC_PATH = f\"projects/{PROJECT_ID}/topics/{TOPIC_NAME}\"\n",
        "\n",
        "publisher = pubsub_v1.PublisherClient()\n",
        "\n",
        "\n",
        "class Bot(commands.Bot):\n",
        "\n",
        "    def __init__(self, irc_token='...', client_id='...', nick='...', prefix=\"!\", initial_channels=['...'], debug=True):\n",
        "        super().__init__(irc_token=irc_token, client_id=client_id, nick=nick, prefix='!',\n",
        "                         initial_channels=initial_channels)\n",
        "        self.debug = debug\n",
        "\n",
        "    # Events don't need decorators when subclassed\n",
        "    async def event_ready(self):\n",
        "        logger.info('Ready')\n",
        "\n",
        "    async def event_message(self, message):\n",
        "        logger.info(message.content)\n",
        "        publisher.publish(TOPIC_PATH, str.encode(message.content))\n",
        "\n",
        "\n",
        "def main(request):\n",
        "\n",
        "    topic_name = f\"projects/{PROJECT_ID}/topics/{TOPIC_NAME}\"\n",
        "    # publisher.create_topic(topic_name)\n",
        "\n",
        "    request_json = request.get_json(silent=True)\n",
        "\n",
        "    logger.info(\"Starting listener...\")\n",
        "    if \"debug\" in request_json and isinstance(request_json[\"debug\"], bool):\n",
        "        logger.info(f\"Debug mode: {request_json['debug']}\")\n",
        "        bot = Bot(\n",
        "          # set up the bot\n",
        "          irc_token=\"oauth:xl5cpf8qe8tl1d03dppymchi6r04iz\",\n",
        "          client_id=\"ciliqxi534iwg4pfqj7swl1jmkt23y\",\n",
        "          nick=\"franalgaba\",\n",
        "          prefix=\"!\",\n",
        "          initial_channels=[\"franalgaba\"],\n",
        "          debug=request_json['debug'])\n",
        "    else:\n",
        "        bot = Bot(\n",
        "          # set up the bot\n",
        "          irc_token=\"oauth:xl5cpf8qe8tl1d03dppymchi6r04iz\",\n",
        "          client_id=\"ciliqxi534iwg4pfqj7swl1jmkt23y\",\n",
        "          nick=\"franalgaba\",\n",
        "          prefix=\"!\",\n",
        "          initial_channels=[\"franalgaba\"])\n",
        "\n",
        "    bot.run()"
      ],
      "execution_count": 43,
      "outputs": [
        {
          "output_type": "stream",
          "name": "stdout",
          "text": [
            "Writing main.py\n"
          ]
        }
      ]
    },
    {
      "cell_type": "code",
      "metadata": {
        "id": "FDrQjJbsVO-4",
        "outputId": "e7b061d5-9c82-4c9f-eb5c-8d4e1194ac93",
        "colab": {
          "base_uri": "https://localhost:8080/"
        }
      },
      "source": [
        "# In case user service error...\n",
        "! gcloud iam service-accounts add-iam-policy-binding <project_id>@appspot.gserviceaccount.com --member=user:<mail> --role=roles/iam.serviceAccountUser"
      ],
      "execution_count": 44,
      "outputs": [
        {
          "output_type": "stream",
          "name": "stdout",
          "text": [
            "/bin/bash: project_id: No such file or directory\n"
          ]
        }
      ]
    },
    {
      "cell_type": "markdown",
      "metadata": {
        "id": "7x_BX3FCG3mD"
      },
      "source": [
        "Para lanzar vuestra Cloud Function, que recoja y mande mensajes solo tenéis que ejecutar el comando siguiente (haced los pasos vistos en clase para desplegar el servicio):"
      ]
    },
    {
      "cell_type": "code",
      "metadata": {
        "id": "PcemNpnsKxFy",
        "outputId": "401e4123-053e-4f77-c991-66b4d443a8f8",
        "colab": {
          "base_uri": "https://localhost:8080/"
        }
      },
      "source": [
        "! curl -X POST https://us-central1-twitch-practice.cloudfunctions.net/bot-reciever -H \"Content-Type:application/json\"  -d '{\"debug\": false}'"
      ],
      "execution_count": 45,
      "outputs": [
        {
          "output_type": "stream",
          "name": "stdout",
          "text": [
            "Error: could not handle the request\n"
          ]
        }
      ]
    },
    {
      "cell_type": "markdown",
      "metadata": {
        "id": "Yr3SmFrUHCvN"
      },
      "source": [
        "## Entregable 1 (3 puntos)\n",
        "\n",
        "En este entregable desarrollarás un pipeline de inferencia en streaming usando Apache Beam para ejecutar en Dataflow un job en streaming que llamará a vuestro microservicio para realizar inferencias."
      ]
    },
    {
      "cell_type": "code",
      "metadata": {
        "id": "IwlDH0KFbn1q"
      },
      "source": [
        "%mkdir /content/streaming/subscriber"
      ],
      "execution_count": 46,
      "outputs": []
    },
    {
      "cell_type": "code",
      "metadata": {
        "id": "DLNtrkgybtHE",
        "outputId": "e0fe060e-6700-4e8c-ba9b-c49d5eac17a3",
        "colab": {
          "base_uri": "https://localhost:8080/"
        }
      },
      "source": [
        "%cd /content/streaming/subscriber"
      ],
      "execution_count": 47,
      "outputs": [
        {
          "output_type": "stream",
          "name": "stdout",
          "text": [
            "/content/streaming/subscriber\n"
          ]
        }
      ]
    },
    {
      "cell_type": "code",
      "metadata": {
        "id": "XtBrcF2zbz04",
        "outputId": "3aa885c4-2146-4fb5-ba15-3918801e3939",
        "colab": {
          "base_uri": "https://localhost:8080/"
        }
      },
      "source": [
        "%%writefile requirements.txt\n",
        "\n",
        "apache-beam[gcp]==2.24.0\n",
        "fsspec==0.8.4\n",
        "gcsfs==0.7.1\n",
        "loguru==0.5.3"
      ],
      "execution_count": 48,
      "outputs": [
        {
          "output_type": "stream",
          "name": "stdout",
          "text": [
            "Writing requirements.txt\n"
          ]
        }
      ]
    },
    {
      "cell_type": "code",
      "metadata": {
        "id": "6RN9KNMob1jY",
        "outputId": "dba7cab2-4867-44b0-885f-4dbf33557018",
        "colab": {
          "base_uri": "https://localhost:8080/"
        }
      },
      "source": [
        "! pip install -r requirements.txt"
      ],
      "execution_count": 49,
      "outputs": [
        {
          "output_type": "stream",
          "name": "stdout",
          "text": [
            "Looking in indexes: https://pypi.org/simple, https://us-python.pkg.dev/colab-wheels/public/simple/\n",
            "Requirement already satisfied: apache-beam[gcp]==2.24.0 in /usr/local/lib/python3.7/dist-packages (from -r requirements.txt (line 2)) (2.24.0)\n",
            "Requirement already satisfied: fsspec==0.8.4 in /usr/local/lib/python3.7/dist-packages (from -r requirements.txt (line 3)) (0.8.4)\n",
            "Requirement already satisfied: gcsfs==0.7.1 in /usr/local/lib/python3.7/dist-packages (from -r requirements.txt (line 4)) (0.7.1)\n",
            "Collecting loguru==0.5.3\n",
            "  Downloading loguru-0.5.3-py3-none-any.whl (57 kB)\n",
            "\u001b[K     |████████████████████████████████| 57 kB 5.1 MB/s \n",
            "\u001b[?25hRequirement already satisfied: google-auth-oauthlib in /usr/local/lib/python3.7/dist-packages (from gcsfs==0.7.1->-r requirements.txt (line 4)) (0.4.6)\n",
            "Requirement already satisfied: aiohttp in /usr/local/lib/python3.7/dist-packages (from gcsfs==0.7.1->-r requirements.txt (line 4)) (3.8.1)\n",
            "Requirement already satisfied: google-auth>=1.2 in /usr/local/lib/python3.7/dist-packages (from gcsfs==0.7.1->-r requirements.txt (line 4)) (1.35.0)\n",
            "Requirement already satisfied: decorator in /usr/local/lib/python3.7/dist-packages (from gcsfs==0.7.1->-r requirements.txt (line 4)) (4.4.2)\n",
            "Requirement already satisfied: requests in /usr/local/lib/python3.7/dist-packages (from gcsfs==0.7.1->-r requirements.txt (line 4)) (2.28.1)\n",
            "Requirement already satisfied: hdfs<3.0.0,>=2.1.0 in /usr/local/lib/python3.7/dist-packages (from apache-beam[gcp]==2.24.0->-r requirements.txt (line 2)) (2.7.0)\n",
            "Requirement already satisfied: pyarrow<0.18.0,>=0.15.1 in /usr/local/lib/python3.7/dist-packages (from apache-beam[gcp]==2.24.0->-r requirements.txt (line 2)) (0.17.1)\n",
            "Requirement already satisfied: dill<0.3.2,>=0.3.1.1 in /usr/local/lib/python3.7/dist-packages (from apache-beam[gcp]==2.24.0->-r requirements.txt (line 2)) (0.3.1.1)\n",
            "Requirement already satisfied: fastavro<0.24,>=0.21.4 in /usr/local/lib/python3.7/dist-packages (from apache-beam[gcp]==2.24.0->-r requirements.txt (line 2)) (0.23.6)\n",
            "Requirement already satisfied: protobuf<4,>=3.12.2 in /usr/local/lib/python3.7/dist-packages (from apache-beam[gcp]==2.24.0->-r requirements.txt (line 2)) (3.17.3)\n",
            "Requirement already satisfied: pytz>=2018.3 in /usr/local/lib/python3.7/dist-packages (from apache-beam[gcp]==2.24.0->-r requirements.txt (line 2)) (2022.1)\n",
            "Requirement already satisfied: python-dateutil<3,>=2.8.0 in /usr/local/lib/python3.7/dist-packages (from apache-beam[gcp]==2.24.0->-r requirements.txt (line 2)) (2.8.2)\n",
            "Requirement already satisfied: httplib2<0.18.0,>=0.8 in /usr/local/lib/python3.7/dist-packages (from apache-beam[gcp]==2.24.0->-r requirements.txt (line 2)) (0.17.4)\n",
            "Requirement already satisfied: typing-extensions<3.8.0,>=3.7.0 in /usr/local/lib/python3.7/dist-packages (from apache-beam[gcp]==2.24.0->-r requirements.txt (line 2)) (3.7.4.3)\n",
            "Requirement already satisfied: grpcio<2,>=1.29.0 in /usr/local/lib/python3.7/dist-packages (from apache-beam[gcp]==2.24.0->-r requirements.txt (line 2)) (1.46.3)\n",
            "Requirement already satisfied: numpy<2,>=1.14.3 in /usr/local/lib/python3.7/dist-packages (from apache-beam[gcp]==2.24.0->-r requirements.txt (line 2)) (1.20.0)\n",
            "Requirement already satisfied: pydot<2,>=1.2.0 in /usr/local/lib/python3.7/dist-packages (from apache-beam[gcp]==2.24.0->-r requirements.txt (line 2)) (1.3.0)\n",
            "Requirement already satisfied: oauth2client<4,>=2.0.1 in /usr/local/lib/python3.7/dist-packages (from apache-beam[gcp]==2.24.0->-r requirements.txt (line 2)) (3.0.0)\n",
            "Requirement already satisfied: crcmod<2.0,>=1.7 in /usr/local/lib/python3.7/dist-packages (from apache-beam[gcp]==2.24.0->-r requirements.txt (line 2)) (1.7)\n",
            "Requirement already satisfied: avro-python3!=1.9.2,<1.10.0,>=1.8.1 in /usr/local/lib/python3.7/dist-packages (from apache-beam[gcp]==2.24.0->-r requirements.txt (line 2)) (1.9.2.1)\n",
            "Requirement already satisfied: mock<3.0.0,>=1.0.1 in /usr/local/lib/python3.7/dist-packages (from apache-beam[gcp]==2.24.0->-r requirements.txt (line 2)) (2.0.0)\n",
            "Requirement already satisfied: pymongo<4.0.0,>=3.8.0 in /usr/local/lib/python3.7/dist-packages (from apache-beam[gcp]==2.24.0->-r requirements.txt (line 2)) (3.12.3)\n",
            "Requirement already satisfied: future<1.0.0,>=0.18.2 in /usr/local/lib/python3.7/dist-packages (from apache-beam[gcp]==2.24.0->-r requirements.txt (line 2)) (0.18.2)\n",
            "Requirement already satisfied: google-cloud-bigtable<2,>=0.31.1 in /usr/local/lib/python3.7/dist-packages (from apache-beam[gcp]==2.24.0->-r requirements.txt (line 2)) (1.7.2)\n",
            "Requirement already satisfied: google-cloud-videointelligence<2,>=1.8.0 in /usr/local/lib/python3.7/dist-packages (from apache-beam[gcp]==2.24.0->-r requirements.txt (line 2)) (1.16.3)\n",
            "Requirement already satisfied: google-cloud-datastore<2,>=1.7.1 in /usr/local/lib/python3.7/dist-packages (from apache-beam[gcp]==2.24.0->-r requirements.txt (line 2)) (1.8.0)\n",
            "Requirement already satisfied: google-cloud-pubsub<2,>=0.39.0 in /usr/local/lib/python3.7/dist-packages (from apache-beam[gcp]==2.24.0->-r requirements.txt (line 2)) (1.7.2)\n",
            "Requirement already satisfied: google-cloud-core<2,>=0.28.1 in /usr/local/lib/python3.7/dist-packages (from apache-beam[gcp]==2.24.0->-r requirements.txt (line 2)) (1.7.2)\n",
            "Requirement already satisfied: google-cloud-bigquery<2,>=1.6.0 in /usr/local/lib/python3.7/dist-packages (from apache-beam[gcp]==2.24.0->-r requirements.txt (line 2)) (1.21.0)\n",
            "Requirement already satisfied: google-apitools<0.5.32,>=0.5.31 in /usr/local/lib/python3.7/dist-packages (from apache-beam[gcp]==2.24.0->-r requirements.txt (line 2)) (0.5.31)\n",
            "Requirement already satisfied: google-cloud-language<2,>=1.3.0 in /usr/local/lib/python3.7/dist-packages (from apache-beam[gcp]==2.24.0->-r requirements.txt (line 2)) (1.3.2)\n",
            "Requirement already satisfied: cachetools<4,>=3.1.0 in /usr/local/lib/python3.7/dist-packages (from apache-beam[gcp]==2.24.0->-r requirements.txt (line 2)) (3.1.1)\n",
            "Requirement already satisfied: google-cloud-dlp<2,>=0.12.0 in /usr/local/lib/python3.7/dist-packages (from apache-beam[gcp]==2.24.0->-r requirements.txt (line 2)) (1.0.2)\n",
            "Requirement already satisfied: grpcio-gcp<1,>=0.2.2 in /usr/local/lib/python3.7/dist-packages (from apache-beam[gcp]==2.24.0->-r requirements.txt (line 2)) (0.2.2)\n",
            "Requirement already satisfied: google-cloud-spanner<2,>=1.13.0 in /usr/local/lib/python3.7/dist-packages (from apache-beam[gcp]==2.24.0->-r requirements.txt (line 2)) (1.19.3)\n",
            "Requirement already satisfied: google-cloud-vision<2,>=0.38.0 in /usr/local/lib/python3.7/dist-packages (from apache-beam[gcp]==2.24.0->-r requirements.txt (line 2)) (1.0.2)\n",
            "Requirement already satisfied: fasteners>=0.14 in /usr/local/lib/python3.7/dist-packages (from google-apitools<0.5.32,>=0.5.31->apache-beam[gcp]==2.24.0->-r requirements.txt (line 2)) (0.17.3)\n",
            "Requirement already satisfied: six>=1.12.0 in /usr/local/lib/python3.7/dist-packages (from google-apitools<0.5.32,>=0.5.31->apache-beam[gcp]==2.24.0->-r requirements.txt (line 2)) (1.15.0)\n",
            "Requirement already satisfied: pyasn1-modules>=0.2.1 in /usr/local/lib/python3.7/dist-packages (from google-auth>=1.2->gcsfs==0.7.1->-r requirements.txt (line 4)) (0.2.8)\n",
            "Requirement already satisfied: rsa<5,>=3.1.4 in /usr/local/lib/python3.7/dist-packages (from google-auth>=1.2->gcsfs==0.7.1->-r requirements.txt (line 4)) (4.8)\n",
            "Requirement already satisfied: setuptools>=40.3.0 in /usr/local/lib/python3.7/dist-packages (from google-auth>=1.2->gcsfs==0.7.1->-r requirements.txt (line 4)) (57.4.0)\n",
            "Requirement already satisfied: google-resumable-media!=0.4.0,<0.5.0dev,>=0.3.1 in /usr/local/lib/python3.7/dist-packages (from google-cloud-bigquery<2,>=1.6.0->apache-beam[gcp]==2.24.0->-r requirements.txt (line 2)) (0.4.1)\n",
            "Requirement already satisfied: google-api-core[grpc]!=2.0.*,!=2.1.*,!=2.2.*,!=2.3.0,<3.0.0dev,>=1.31.5 in /usr/local/lib/python3.7/dist-packages (from google-cloud-bigtable<2,>=0.31.1->apache-beam[gcp]==2.24.0->-r requirements.txt (line 2)) (1.31.6)\n",
            "Requirement already satisfied: grpc-google-iam-v1<0.13dev,>=0.12.3 in /usr/local/lib/python3.7/dist-packages (from google-cloud-bigtable<2,>=0.31.1->apache-beam[gcp]==2.24.0->-r requirements.txt (line 2)) (0.12.4)\n",
            "Requirement already satisfied: packaging>=14.3 in /usr/local/lib/python3.7/dist-packages (from google-api-core[grpc]!=2.0.*,!=2.1.*,!=2.2.*,!=2.3.0,<3.0.0dev,>=1.31.5->google-cloud-bigtable<2,>=0.31.1->apache-beam[gcp]==2.24.0->-r requirements.txt (line 2)) (21.3)\n",
            "Requirement already satisfied: googleapis-common-protos<2.0dev,>=1.6.0 in /usr/local/lib/python3.7/dist-packages (from google-api-core[grpc]!=2.0.*,!=2.1.*,!=2.2.*,!=2.3.0,<3.0.0dev,>=1.31.5->google-cloud-bigtable<2,>=0.31.1->apache-beam[gcp]==2.24.0->-r requirements.txt (line 2)) (1.56.2)\n",
            "Requirement already satisfied: docopt in /usr/local/lib/python3.7/dist-packages (from hdfs<3.0.0,>=2.1.0->apache-beam[gcp]==2.24.0->-r requirements.txt (line 2)) (0.6.2)\n",
            "Requirement already satisfied: pbr>=0.11 in /usr/local/lib/python3.7/dist-packages (from mock<3.0.0,>=1.0.1->apache-beam[gcp]==2.24.0->-r requirements.txt (line 2)) (5.9.0)\n",
            "Requirement already satisfied: pyasn1>=0.1.7 in /usr/local/lib/python3.7/dist-packages (from oauth2client<4,>=2.0.1->apache-beam[gcp]==2.24.0->-r requirements.txt (line 2)) (0.4.8)\n",
            "Requirement already satisfied: pyparsing!=3.0.5,>=2.0.2 in /usr/local/lib/python3.7/dist-packages (from packaging>=14.3->google-api-core[grpc]!=2.0.*,!=2.1.*,!=2.2.*,!=2.3.0,<3.0.0dev,>=1.31.5->google-cloud-bigtable<2,>=0.31.1->apache-beam[gcp]==2.24.0->-r requirements.txt (line 2)) (3.0.9)\n",
            "Requirement already satisfied: idna<4,>=2.5 in /usr/local/lib/python3.7/dist-packages (from requests->gcsfs==0.7.1->-r requirements.txt (line 4)) (2.10)\n",
            "Requirement already satisfied: urllib3<1.27,>=1.21.1 in /usr/local/lib/python3.7/dist-packages (from requests->gcsfs==0.7.1->-r requirements.txt (line 4)) (1.24.3)\n",
            "Requirement already satisfied: certifi>=2017.4.17 in /usr/local/lib/python3.7/dist-packages (from requests->gcsfs==0.7.1->-r requirements.txt (line 4)) (2022.6.15)\n",
            "Requirement already satisfied: charset-normalizer<3,>=2 in /usr/local/lib/python3.7/dist-packages (from requests->gcsfs==0.7.1->-r requirements.txt (line 4)) (2.1.0)\n",
            "Requirement already satisfied: frozenlist>=1.1.1 in /usr/local/lib/python3.7/dist-packages (from aiohttp->gcsfs==0.7.1->-r requirements.txt (line 4)) (1.3.0)\n",
            "Requirement already satisfied: attrs>=17.3.0 in /usr/local/lib/python3.7/dist-packages (from aiohttp->gcsfs==0.7.1->-r requirements.txt (line 4)) (21.4.0)\n",
            "Requirement already satisfied: asynctest==0.13.0 in /usr/local/lib/python3.7/dist-packages (from aiohttp->gcsfs==0.7.1->-r requirements.txt (line 4)) (0.13.0)\n",
            "Requirement already satisfied: aiosignal>=1.1.2 in /usr/local/lib/python3.7/dist-packages (from aiohttp->gcsfs==0.7.1->-r requirements.txt (line 4)) (1.2.0)\n",
            "Requirement already satisfied: async-timeout<5.0,>=4.0.0a3 in /usr/local/lib/python3.7/dist-packages (from aiohttp->gcsfs==0.7.1->-r requirements.txt (line 4)) (4.0.2)\n",
            "Requirement already satisfied: yarl<2.0,>=1.0 in /usr/local/lib/python3.7/dist-packages (from aiohttp->gcsfs==0.7.1->-r requirements.txt (line 4)) (1.7.2)\n",
            "Requirement already satisfied: multidict<7.0,>=4.5 in /usr/local/lib/python3.7/dist-packages (from aiohttp->gcsfs==0.7.1->-r requirements.txt (line 4)) (6.0.2)\n",
            "Requirement already satisfied: requests-oauthlib>=0.7.0 in /usr/local/lib/python3.7/dist-packages (from google-auth-oauthlib->gcsfs==0.7.1->-r requirements.txt (line 4)) (1.3.1)\n",
            "Requirement already satisfied: oauthlib>=3.0.0 in /usr/local/lib/python3.7/dist-packages (from requests-oauthlib>=0.7.0->google-auth-oauthlib->gcsfs==0.7.1->-r requirements.txt (line 4)) (3.2.0)\n",
            "Installing collected packages: loguru\n",
            "Successfully installed loguru-0.5.3\n"
          ]
        }
      ]
    },
    {
      "cell_type": "code",
      "metadata": {
        "id": "JMeJPR90b3AN",
        "outputId": "942aca04-758e-417e-c35b-d167cebfb76c",
        "colab": {
          "base_uri": "https://localhost:8080/"
        }
      },
      "source": [
        "%%writefile predict.py\n",
        "\n",
        "from __future__ import absolute_import\n",
        "from __future__ import print_function\n",
        "\n",
        "import argparse\n",
        "import requests\n",
        "import json\n",
        "import sys\n",
        "\n",
        "import apache_beam as beam\n",
        "import apache_beam.transforms.window as window\n",
        "from apache_beam.options.pipeline_options import (\n",
        "    GoogleCloudOptions,\n",
        "    StandardOptions,\n",
        "    PipelineOptions,\n",
        "    SetupOptions,\n",
        ")\n",
        "from loguru import logger\n",
        "\n",
        "\n",
        "class Predict(beam.DoFn):\n",
        "    def __init__(self, predict_server) -> None:\n",
        "        self.url = predict_server\n",
        "\n",
        "    def _predict(self, text) -> str:\n",
        "        payload = {\"text\": text}\n",
        "        headers = {\"accept\": \"application/json\", \"Content-Type\": \"application/json\"}\n",
        "        try:\n",
        "            response = requests.post(\n",
        "                self.url, data=json.dumps(payload), headers=headers\n",
        "            )\n",
        "            response = json.loads(response.text)\n",
        "        except Exception:\n",
        "            response = {\"label\": \"undefined\", \"score\": 0, \"elapsed_time\": 0}\n",
        "\n",
        "        return response\n",
        "\n",
        "    def process(self, element, window=beam.DoFn.WindowParam):\n",
        "        logger.info(f\"Text to predict: {element}\")\n",
        "        result = self._predict(element)\n",
        "        result[\"text\"] = element\n",
        "        yield json.dumps(result)\n",
        "\n",
        "\n",
        "def run(predict_server, source, sink, beam_options=None):\n",
        "    with beam.Pipeline(options=beam_options) as p:\n",
        "        _ = (\n",
        "            p\n",
        "            | \"Read data from PubSub\" >> source\n",
        "            | \"decode\" >> beam.Map(lambda x: x.decode(\"utf-8\"))\n",
        "            | \"window\" >> beam.WindowInto(window.FixedWindows(15))\n",
        "            | \"Predict\" >> beam.ParDo(Predict(predict_server))\n",
        "            | \"encode\" >> beam.Map(lambda x: x.encode(\"utf-8\")).with_output_types(bytes)\n",
        "            | \"Write predictions\" >> sink\n",
        "        )\n",
        "\n",
        "\n",
        "if __name__ == \"__main__\":\n",
        "    \"\"\"Main function\"\"\"\n",
        "    parser = argparse.ArgumentParser(\n",
        "        formatter_class=argparse.ArgumentDefaultsHelpFormatter\n",
        "    )\n",
        "\n",
        "    parser.add_argument(\n",
        "        \"--inputs_topic\",\n",
        "        dest=\"inputs_topic\",\n",
        "        required=True,\n",
        "        help=\"Directory for temporary files and preprocessed datasets to. \"\n",
        "        \"This can be a Google Cloud Storage path.\",\n",
        "    )\n",
        "\n",
        "    parser.add_argument(\n",
        "        \"--outputs_topic\",\n",
        "        dest=\"outputs_topic\",\n",
        "        required=True,\n",
        "        help=\"Directory for temporary files and preprocessed datasets to. \"\n",
        "        \"This can be a Google Cloud Storage path.\",\n",
        "    )\n",
        "\n",
        "    parser.add_argument(\n",
        "        \"--predict_server\",\n",
        "        dest=\"predict_server\",\n",
        "        required=True,\n",
        "        help=\"Directory for temporary files and preprocessed datasets to. \"\n",
        "        \"This can be a Google Cloud Storage path.\",\n",
        "    )\n",
        "\n",
        "    args, pipeline_args = parser.parse_known_args()\n",
        "    logger.info(args)\n",
        "    beam_options = PipelineOptions(pipeline_args)\n",
        "    beam_options.view_as(SetupOptions).save_main_session = True\n",
        "    # beam_options.view_as(DirectOptions).direct_num_workers = 0\n",
        "\n",
        "    project = beam_options.view_as(GoogleCloudOptions).project\n",
        "\n",
        "    if not project:\n",
        "        parser.print_usage()\n",
        "        print(\"error: argument --project is required for streaming\")\n",
        "        sys.exit(1)\n",
        "\n",
        "    beam_options.view_as(StandardOptions).streaming = True\n",
        "\n",
        "    source = beam.io.ReadFromPubSub(\n",
        "        topic=\"projects/{}/topics/{}\".format(project, args.inputs_topic)\n",
        "    ).with_output_types(bytes)\n",
        "\n",
        "    sink = beam.io.WriteToPubSub(\n",
        "        topic=\"projects/{}/topics/{}\".format(project, args.outputs_topic)\n",
        "    )\n",
        "\n",
        "    run(args.predict_server, source, sink, beam_options)"
      ],
      "execution_count": 50,
      "outputs": [
        {
          "output_type": "stream",
          "name": "stdout",
          "text": [
            "Writing predict.py\n"
          ]
        }
      ]
    },
    {
      "cell_type": "code",
      "metadata": {
        "id": "jT_Qmb16hgEq",
        "outputId": "b0706867-036c-4cc5-f52d-16b74119ce5b",
        "colab": {
          "base_uri": "https://localhost:8080/"
        }
      },
      "source": [
        "%%writefile setup.py\n",
        "\n",
        "import setuptools\n",
        "\n",
        "REQUIRED_PACKAGES = [\n",
        "    \"apache-beam[gcp]==2.24.0\",\n",
        "    \"fsspec==0.8.4\",\n",
        "    \"gcsfs==0.7.1\",\n",
        "    \"loguru==0.5.3\",\n",
        "]\n",
        "\n",
        "setuptools.setup(\n",
        "    name=\"twitchstreaming\",\n",
        "    version=\"0.0.1\",\n",
        "    install_requires=REQUIRED_PACKAGES,\n",
        "    packages=setuptools.find_packages(),\n",
        "    include_package_data=True,\n",
        "    description=\"Twitch Troll Detection\",\n",
        ")"
      ],
      "execution_count": 51,
      "outputs": [
        {
          "output_type": "stream",
          "name": "stdout",
          "text": [
            "Writing setup.py\n"
          ]
        }
      ]
    },
    {
      "cell_type": "markdown",
      "metadata": {
        "id": "-RdyxvdVHmnZ"
      },
      "source": [
        "### Validación inferencia en streaming\n",
        "\n",
        "Con el comando mostrado a continuación se genera un job en streaming de Dataflow. Antes de ejecutarlo, deberás crear dos topicos en Pub/Sub, `twitch-chat` donde se recibirán los mensajes de twitch, y `twitch-chat-predictions` donde se mandarán las predicciones generadas por vuestro microservicio.\n",
        "\n",
        "**Importante**: no te olvides de modificar la URL de tu microservicio de inferencia."
      ]
    },
    {
      "cell_type": "code",
      "metadata": {
        "id": "9j4vzFn2wUPk"
      },
      "source": [
        "GCP_WORK_DIR = 'gs://practica-veronica'\n",
        "GCP_REGION = 'europe-west1'"
      ],
      "execution_count": 52,
      "outputs": []
    },
    {
      "cell_type": "code",
      "metadata": {
        "id": "S5ftKoXAhiJ7",
        "outputId": "0d4fc150-c9ad-4ad7-c858-158750f6f31a",
        "colab": {
          "base_uri": "https://localhost:8080/"
        }
      },
      "source": [
        "! python3 predict.py \\\n",
        "--project $PROJECT_ID \\\n",
        "--region $GCP_REGION \\\n",
        "--runner DataflowRunner \\\n",
        "--temp_location $GCP_WORK_DIR/beam-temp \\\n",
        "--setup_file ./setup.py \\\n",
        "--inputs_topic twitch-chat \\\n",
        "--outputs_topic twitch-chat-predictions \\\n",
        "--predict_server https://troll-detection-service-g2v7skqfeq-uc.a.run.app/api/model/predict \\"
      ],
      "execution_count": 53,
      "outputs": [
        {
          "output_type": "stream",
          "name": "stdout",
          "text": [
            "\u001b[32m2022-07-10 22:05:57.712\u001b[0m | \u001b[1mINFO    \u001b[0m | \u001b[36m__main__\u001b[0m:\u001b[36m<module>\u001b[0m:\u001b[36m89\u001b[0m - \u001b[1mNamespace(inputs_topic='twitch-chat', outputs_topic='twitch-chat-predictions', predict_server='https://troll-detection-service-g2v7skqfeq-uc.a.run.app/api/model/predict')\u001b[0m\n",
            "warning: sdist: standard file not found: should have one of README, README.rst, README.txt, README.md\n",
            "\n",
            "warning: check: missing required meta-data: url\n",
            "\n",
            "warning: check: missing meta-data: either (author and author_email) or (maintainer and maintainer_email) must be supplied\n",
            "\n",
            "WARNING:root:Make sure that locally built Python SDK docker image has Python 3.7 interpreter.\n",
            "Traceback (most recent call last):\n",
            "  File \"predict.py\", line 111, in <module>\n",
            "    run(args.predict_server, source, sink, beam_options)\n",
            "  File \"predict.py\", line 54, in run\n",
            "    | \"Write predictions\" >> sink\n",
            "  File \"/usr/local/lib/python3.7/dist-packages/apache_beam/pipeline.py\", line 556, in __exit__\n",
            "    self.result.wait_until_finish()\n",
            "  File \"/usr/local/lib/python3.7/dist-packages/apache_beam/runners/dataflow/dataflow_runner.py\", line 1633, in wait_until_finish\n",
            "    self)\n",
            "apache_beam.runners.dataflow.dataflow_runner.DataflowRuntimeException: Dataflow pipeline failed. State: FAILED, Error:\n",
            "Error processing pipeline.\n"
          ]
        }
      ]
    }
  ]
}